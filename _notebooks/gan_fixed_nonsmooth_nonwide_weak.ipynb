{
 "cells": [
  {
   "cell_type": "markdown",
   "metadata": {},
   "source": [
    "# Gan Baseline"
   ]
  },
  {
   "cell_type": "markdown",
   "metadata": {},
   "source": [
    "#### NOTE: Need to activate genomelake environment before this code. Simply type 'genomelake' in terminal."
   ]
  },
  {
   "cell_type": "code",
   "execution_count": 33,
   "metadata": {},
   "outputs": [
    {
     "name": "stdout",
     "output_type": "stream",
     "text": [
      "env: CUDA_VISIBLE_DEVICES=4,5\n"
     ]
    }
   ],
   "source": [
    "%env CUDA_VISIBLE_DEVICES=4,5\n",
    "import os, sys\n",
    "sys.path.append(\"..\")\n",
    "import random\n",
    "# custom file path package\n",
    "from data import Data_Directories\n",
    "# custom utility package\n",
    "from utils.compute_util import *\n",
    "# package for genomic data\n",
    "from pybedtools import Interval, BedTool\n",
    "from genomelake.extractors import ArrayExtractor, BigwigExtractor\n",
    "# package for plotting\n",
    "import matplotlib.pyplot as plt\n",
    "%matplotlib inline\n",
    "from scipy.stats.stats import pearsonr,spearmanr\n",
    "import tensorflow as tf"
   ]
  },
  {
   "cell_type": "code",
   "execution_count": 34,
   "metadata": {
    "collapsed": true
   },
   "outputs": [],
   "source": [
    "window_size = 2001\n",
    "sample_num = 10000"
   ]
  },
  {
   "cell_type": "code",
   "execution_count": 35,
   "metadata": {
    "collapsed": true
   },
   "outputs": [],
   "source": [
    "model_path = \"models/cnn_2000_new/best_model.h5\""
   ]
  },
  {
   "cell_type": "code",
   "execution_count": 36,
   "metadata": {},
   "outputs": [
    {
     "name": "stdout",
     "output_type": "stream",
     "text": [
      "['day6', 'day3', 'day0']\n",
      "['100', '140']\n",
      "['H3K27me3', 'H3K4me1', 'H3K27ac']\n"
     ]
    }
   ],
   "source": [
    "# retrieve data\n",
    "data = Data_Directories()\n",
    "print data.intervals.keys()\n",
    "print data.input_atac['day0'].keys()\n",
    "print data.output_histone['day0'].keys()"
   ]
  },
  {
   "cell_type": "code",
   "execution_count": 37,
   "metadata": {},
   "outputs": [
    {
     "name": "stdout",
     "output_type": "stream",
     "text": [
      "# of Intervals Extracted for day0: 267226\n"
     ]
    }
   ],
   "source": [
    "# get intervals for day0 data\n",
    "day0_intervals = list(BedTool(data.intervals['day0']))\n",
    "print '# of Intervals Extracted for day0: {}'.format(len(day0_intervals))"
   ]
  },
  {
   "cell_type": "code",
   "execution_count": 38,
   "metadata": {},
   "outputs": [
    {
     "name": "stdout",
     "output_type": "stream",
     "text": [
      "Finished extracting bigwig for day0, 140bp\n"
     ]
    }
   ],
   "source": [
    "# create an ArrayExtractor for ATAC-seq for day0 with 140 base pairs\n",
    "bw_140bp_day0 = ArrayExtractor(data.input_atac['day0']['140'])\n",
    "print 'Finished extracting bigwig for day0, 140bp'"
   ]
  },
  {
   "cell_type": "code",
   "execution_count": 39,
   "metadata": {},
   "outputs": [
    {
     "name": "stdout",
     "output_type": "stream",
     "text": [
      "Finished extracting bigwig for day0, 140bp\n"
     ]
    }
   ],
   "source": [
    "# create a BigWigExtractor for histone makr 'H3K27ac' for day0\n",
    "bw_histone_mark_day0 = BigwigExtractor(data.output_histone['day0']['H3K27ac'])\n",
    "print 'Finished extracting bigwig for day0, 140bp'"
   ]
  },
  {
   "cell_type": "code",
   "execution_count": 40,
   "metadata": {},
   "outputs": [
    {
     "name": "stdout",
     "output_type": "stream",
     "text": [
      "Finished normalizing day0 intervals!\n"
     ]
    }
   ],
   "source": [
    "# normalize day0 intervals\n",
    "normalized_day0_intervals = [normalize_interval(interval, window_size) for interval in day0_intervals if normalize_interval(interval, window_size)]\n",
    "print 'Finished normalizing day0 intervals!'"
   ]
  },
  {
   "cell_type": "code",
   "execution_count": 41,
   "metadata": {},
   "outputs": [
    {
     "name": "stdout",
     "output_type": "stream",
     "text": [
      "Examples of original intervals\n",
      "[(123412027, [123411855, 123412989]), (123411941, [123411855, 123412989]), (131908564, [131908487, 131910071])]\n",
      "Examples of normalized intervals with window size of 2001\n",
      "[[123411027, 123413028], [123410941, 123412942], [131907564, 131909565]]\n"
     ]
    }
   ],
   "source": [
    "assert (len(day0_intervals)==len(normalized_day0_intervals))\n",
    "print \"Examples of original intervals\"\n",
    "print [(int(_interval.start)+int(_interval[-1]), [int(_interval.start), int(_interval.end)])\n",
    "       for _interval in day0_intervals[:3]]\n",
    "print \"Examples of normalized intervals with window size of {}\".format(window_size)\n",
    "print [([int(_interval.start), int(_interval.end)])\n",
    "       for _interval in  normalized_day0_intervals[:3]]"
   ]
  },
  {
   "cell_type": "code",
   "execution_count": 42,
   "metadata": {},
   "outputs": [
    {
     "name": "stdout",
     "output_type": "stream",
     "text": [
      "(267226, 2001, 5)\n"
     ]
    }
   ],
   "source": [
    "atac_seq_day0 = bw_140bp_day0(normalized_day0_intervals)\n",
    "print atac_seq_day0.shape"
   ]
  },
  {
   "cell_type": "code",
   "execution_count": 43,
   "metadata": {},
   "outputs": [
    {
     "name": "stdout",
     "output_type": "stream",
     "text": [
      "Before pruning day0: 267226\n",
      "After pruning day0: 267226\n"
     ]
    }
   ],
   "source": [
    "#TODO: put this into utils if possible\n",
    "def prune_invalid_intervals(intervals, bigwig_file):\n",
    "    for _interval in intervals[:]:\n",
    "        try:\n",
    "            bigwig_file([_interval])\n",
    "        except:\n",
    "            intervals.remove(_interval)\n",
    "            pass\n",
    "        \n",
    "print \"Before pruning day0: {}\".format(len(normalized_day0_intervals))\n",
    "prune_invalid_intervals(normalized_day0_intervals, bw_140bp_day0)\n",
    "print \"After pruning day0: {}\".format(len(normalized_day0_intervals))"
   ]
  },
  {
   "cell_type": "code",
   "execution_count": 44,
   "metadata": {},
   "outputs": [
    {
     "name": "stdout",
     "output_type": "stream",
     "text": [
      "Dimension of ATAC-seq signal: (1, 2001, 5)\n"
     ]
    }
   ],
   "source": [
    "print \"Dimension of ATAC-seq signal: {}\".format(bw_140bp_day0(normalized_day0_intervals[:1]).shape)"
   ]
  },
  {
   "cell_type": "code",
   "execution_count": 45,
   "metadata": {},
   "outputs": [
    {
     "name": "stdout",
     "output_type": "stream",
     "text": [
      "Dimension of histone mark signal: (1, 2001)\n"
     ]
    }
   ],
   "source": [
    "print \"Dimension of histone mark signal: {}\".format(bw_histone_mark_day0(normalized_day0_intervals[:1]).shape)"
   ]
  },
  {
   "cell_type": "code",
   "execution_count": 46,
   "metadata": {},
   "outputs": [
    {
     "name": "stdout",
     "output_type": "stream",
     "text": [
      "(267226, 2001)\n"
     ]
    }
   ],
   "source": [
    "# Replace nan values with zeros and convert it to p-values\n",
    "histone_mark_day0 = np.nan_to_num(bw_histone_mark_day0(normalized_day0_intervals))\n",
    "print histone_mark_day0.shape"
   ]
  },
  {
   "cell_type": "code",
   "execution_count": 47,
   "metadata": {},
   "outputs": [
    {
     "name": "stdout",
     "output_type": "stream",
     "text": [
      "(267226, 2001, 1)\n"
     ]
    }
   ],
   "source": [
    "histone_mark_day0 = np.expand_dims(histone_mark_day0, axis=2)\n",
    "print histone_mark_day0.shape"
   ]
  },
  {
   "cell_type": "code",
   "execution_count": 48,
   "metadata": {},
   "outputs": [
    {
     "name": "stdout",
     "output_type": "stream",
     "text": [
      "Example histone mark signal\n",
      "\tRaw value: [ 0.01014  0.01014  0.01014  0.02435  0.02435]\n"
     ]
    }
   ],
   "source": [
    "print \"Example histone mark signal\"\n",
    "print \"\\tRaw value: {}\".format(bw_histone_mark_day0(normalized_day0_intervals[:1])[0][:5].reshape(-1))"
   ]
  },
  {
   "cell_type": "code",
   "execution_count": 49,
   "metadata": {
    "collapsed": true
   },
   "outputs": [],
   "source": [
    "from keras.layers import AveragePooling1D, Input, Dense, Conv1D, Dropout, BatchNormalization, Activation, ZeroPadding1D, Reshape, Flatten\n",
    "from keras.layers.advanced_activations import LeakyReLU\n",
    "from keras.layers.convolutional import UpSampling2D, Conv2D\n",
    "from keras.models import Sequential, Model\n",
    "from keras import optimizers\n",
    "from keras import metrics\n",
    "from keras import losses\n",
    "from keras import backend as K\n",
    "from keras.callbacks import Callback, TensorBoard, ReduceLROnPlateau, ModelCheckpoint\n",
    "from keras.optimizers import Adam, SGD"
   ]
  },
  {
   "cell_type": "code",
   "execution_count": 50,
   "metadata": {
    "collapsed": true
   },
   "outputs": [],
   "source": [
    "smooth_rate = 0.1\n",
    "dropout_rate = 0.5\n",
    "# parameters for first conv layer\n",
    "hidden_filters_1 = 32\n",
    "hidden_kernel_size_1 = window_size\n",
    "# parameters for second conv layer\n",
    "output_filters = 1\n",
    "output_kernel_size = 32\n",
    "# parameters for training\n",
    "batch_size = 128\n",
    "num_epochs = 200\n",
    "evaluation_freq = 10"
   ]
  },
  {
   "cell_type": "code",
   "execution_count": 51,
   "metadata": {
    "collapsed": true
   },
   "outputs": [],
   "source": [
    "# Helper functions for writing the scores into bigwig file\n",
    "from itertools import izip\n",
    "from itertools import groupby\n",
    "import subprocess\n",
    "\n",
    "def interval_key(interval):\n",
    "    return (interval.chrom, interval.start, interval.stop)\n",
    "\n",
    "def merged_scores(scores, intervals, merge_type):\n",
    "    # A generator that returns merged intervals/scores\n",
    "    # Scores should have shape: #examples x #categories x #interval_size\n",
    "    # Second dimension can be omitted for a 1D signal\n",
    "    signal_dims = scores.ndim - 1\n",
    "    assert signal_dims in {1, 2}\n",
    "\n",
    "    # Only support max for now\n",
    "    assert merge_type == 'max'\n",
    "    score_first_dim = 1 if signal_dims == 1 else scores.shape[1]\n",
    "\n",
    "    dtype = scores.dtype\n",
    "\n",
    "    sort_idx, sorted_intervals = \\\n",
    "        zip(*sorted(enumerate(intervals),\n",
    "                    key=lambda item: interval_key(item[1])))\n",
    "    sorted_intervals = BedTool(sorted_intervals)\n",
    "\n",
    "    # Require at least 1bp overlap\n",
    "    # Explicitly convert to list otherwise it will keep opening a file when\n",
    "    # retrieving an index resulting in an error (too many open files)\n",
    "    interval_clust = list(sorted_intervals.cluster(d=-1))\n",
    "    for _, group in groupby(izip(sort_idx, interval_clust),\n",
    "                            key=lambda item: item[1].fields[-1]):\n",
    "        idx_interval_pairs = list(group)\n",
    "        group_idx, group_intervals = zip(*idx_interval_pairs)\n",
    "\n",
    "        if len(idx_interval_pairs) == 1:\n",
    "            yield group_intervals[0], scores[group_idx[0], ...]\n",
    "        else:\n",
    "            group_chrom = group_intervals[0].chrom\n",
    "            group_start = min(interval.start for interval in group_intervals)\n",
    "            group_stop = max(interval.stop for interval in group_intervals)\n",
    "\n",
    "            # This part needs to change to support more merge_types (e.g. mean)\n",
    "            group_score = np.full((score_first_dim, group_stop - group_start),\n",
    "                                  -np.inf, dtype)\n",
    "            for idx, interval in idx_interval_pairs:\n",
    "                slice_start = interval.start - group_start\n",
    "                slice_stop = slice_start + (interval.stop - interval.start)\n",
    "                group_score[..., slice_start:slice_stop] = \\\n",
    "                    np.maximum(group_score[..., slice_start:slice_stop],\n",
    "                               scores[idx, ...])\n",
    "            if signal_dims == 1:\n",
    "                group_score = group_score.squeeze(axis=0)\n",
    "            yield Interval(group_chrom, group_start, group_stop), group_score\n",
    "            \n",
    "def interval_score_pairs(intervals, scores, merge_type):\n",
    "    return (izip(intervals, scores) if merge_type is None\n",
    "            else merged_scores(scores, intervals, merge_type))\n",
    "\n",
    "def _write_1D_deeplift_track(scores, intervals, file_prefix, merge_type='max',\n",
    "                             CHROM_SIZES='/mnt/data/annotations/by_release/hg19.GRCh37/hg19.chrom.sizes'):\n",
    "    assert scores.ndim == 2\n",
    "\n",
    "    bedgraph = file_prefix + '.bedGraph'\n",
    "    bigwig = file_prefix + '.bw'\n",
    "\n",
    "    print 'Writing 1D track of shape: {}'.format(scores.shape)\n",
    "    print 'Writing to file: {}'.format(bigwig)\n",
    "\n",
    "    with open(bedgraph, 'w') as fp:\n",
    "        for interval, score in interval_score_pairs(intervals, scores,\n",
    "                                                    merge_type):\n",
    "            chrom = interval.chrom\n",
    "            start = interval.start\n",
    "            for score_idx, val in enumerate(score):\n",
    "                fp.write('%s\\t%d\\t%d\\t%g\\n' % (chrom,\n",
    "                                               start + score_idx,\n",
    "                                               start + score_idx + 1,\n",
    "                                               val))\n",
    "    print 'Wrote bedgraph.'\n",
    "\n",
    "    try:\n",
    "        output = subprocess.check_output(\n",
    "            ['wigToBigWig', bedgraph, CHROM_SIZES, bigwig],\n",
    "            stderr=subprocess.STDOUT)\n",
    "        print 'wigToBigWig output: {}'.format(output)\n",
    "    except subprocess.CalledProcessError as e:\n",
    "        print 'wigToBigWig terminated with exit code {}'.format(\n",
    "            e.returncode)\n",
    "        print 'output was:\\n' + e.output\n",
    "\n",
    "    print 'Wrote bigwig.'"
   ]
  },
  {
   "cell_type": "code",
   "execution_count": 52,
   "metadata": {
    "collapsed": true
   },
   "outputs": [],
   "source": [
    "model_dir = os.path.join(\"models\", \"gan_fixed_nonsmooth_nonwide_weak\")\n",
    "log_dir = os.path.join(\"logs\", \"gan_fixed_nonsmooth_nonwide_weak\")\n",
    "srv_dir = os.path.join(\"/srv\", \"www\", \"kundaje\", \"jesikmin\", \"gan_fixed_nonsmooth_nonwide_weak\")\n",
    "if not os.path.exists(model_dir):\n",
    "    os.makedirs(model_dir)\n",
    "if not os.path.exists(log_dir):\n",
    "    os.makedirs(log_dir)\n",
    "if not os.path.exists(srv_dir):\n",
    "    os.makedirs(srv_dir)"
   ]
  },
  {
   "cell_type": "code",
   "execution_count": 53,
   "metadata": {
    "collapsed": true
   },
   "outputs": [],
   "source": [
    "# CallBack: Save model checkpoint based on validation loss\n",
    "g_checkpointer = ModelCheckpoint(os.path.join(model_dir, \"best_generator.h5\"),\n",
    "                                 monitor='val_loss',\n",
    "                                 verbose=1,\n",
    "                                 save_best_only=True,\n",
    "                                 mode='min')\n",
    "d_checkpointer = ModelCheckpoint(os.path.join(model_dir, \"best_discriminator.h5\"),\n",
    "                                 monitor='val_loss',\n",
    "                                 verbose=1,\n",
    "                                 save_best_only=True,\n",
    "                                 mode='min')"
   ]
  },
  {
   "cell_type": "code",
   "execution_count": 54,
   "metadata": {
    "collapsed": true
   },
   "outputs": [],
   "source": [
    "# Our GAN Model (based on vanilla gan)\n",
    "class GAN():\n",
    "    def __init__(self, window_size, sample_num):\n",
    "        # Basic parameters\n",
    "        # 1) Window size of input/ouput signal\n",
    "        self.window_size = window_size\n",
    "        # 2) Number of channels\n",
    "        self.channels = 5\n",
    "        # 3) Input and Output shape\n",
    "        self.input_shape = (self.window_size, self.channels,)\n",
    "        self.output_shape = (self.window_size, 1,)\n",
    "        # 4) Total number of samples\n",
    "        self.sample_num = sample_num\n",
    "        \n",
    "        # Adam optimizer for generator\n",
    "        optimizer = Adam(0.002, beta_1=0.5)\n",
    "        # Adam optimizer for discriminator\n",
    "        doptimizer = Adam(0.0005, beta_1=0.5)\n",
    "\n",
    "        # Build and compile the discriminator\n",
    "        self.discriminator = self.build_discriminator()\n",
    "        self.discriminator.compile(loss='binary_crossentropy', \n",
    "                                   optimizer=doptimizer,\n",
    "                                   metrics=['accuracy'])\n",
    "\n",
    "        # Build and compile the generator\n",
    "        self.generator = self.build_generator()\n",
    "        self.generator.compile(loss='binary_crossentropy',\n",
    "                               optimizer=optimizer)\n",
    "\n",
    "        # The generator takes noise as input and generated imgs\n",
    "        z = Input(shape=self.input_shape)\n",
    "        img = self.generator(z)\n",
    "\n",
    "        # For the combined model we will only train the generator\n",
    "        self.discriminator.trainable = False\n",
    "\n",
    "        # The valid takes generated images as input and determines validity\n",
    "        valid = self.discriminator(img)\n",
    "\n",
    "        # The combined model  (stacked generator and discriminator) takes\n",
    "        # noise as input => generates images => determines validity \n",
    "        self.combined = Model(z, valid)\n",
    "        self.combined.compile(loss='binary_crossentropy',\n",
    "                              optimizer=optimizer)\n",
    "        print \"Combined Model\"\n",
    "        print self.combined.summary()\n",
    "\n",
    "    def build_generator(self):\n",
    "        # Generator\n",
    "        # 1) 32 * window_size Conv1D layers with RELU and Dropout\n",
    "\n",
    "        noise_shape = self.input_shape\n",
    "        \n",
    "        model = Sequential()\n",
    "\n",
    "        model.add(Conv1D(hidden_filters_1,\n",
    "                         hidden_kernel_size_1,\n",
    "                         padding=\"same\",\n",
    "                         strides=1,\n",
    "                         input_shape=noise_shape,\n",
    "                         activation='relu',\n",
    "                         name='gen_conv1d_1'))\n",
    "        model.add(Dropout(dropout_rate,\n",
    "                  name='gen_dropout_1'))\n",
    "\n",
    "        # 2) 1 * 16 Conv1D layers with Linear\n",
    "        # NOTE: All same padding\n",
    "        model.add(Conv1D(output_filters,\n",
    "                         output_kernel_size,\n",
    "                         padding='same',\n",
    "                         strides=1,\n",
    "                         activation='linear',\n",
    "                         name='gen_conv1d_output'))\n",
    "        \n",
    "        print \"Generator\"\n",
    "        model.summary()\n",
    "\n",
    "        noise = Input(shape=noise_shape)\n",
    "        img = model(noise)\n",
    "#         print \"-\"*50\n",
    "#         print model.get_weights()\n",
    "        \n",
    "#         # load weights for generator\n",
    "#         model.load_weights(model_path, by_name=True)\n",
    "#         print \"-\"*50\n",
    "#         print model.get_weights()\n",
    "\n",
    "        return Model(noise, img)\n",
    "\n",
    "    def build_discriminator(self):\n",
    "        # Discriminator\n",
    "        # 1) 16 * 200 Conv1D with LeakyRelu, Dropout, and BatchNorm\n",
    "        model = Sequential()\n",
    "        \n",
    "        model.add(Conv1D(hidden_filters_1,\n",
    "                         200,\n",
    "                         padding=\"valid\",\n",
    "                         strides=1,\n",
    "                         input_shape=self.output_shape))\n",
    "        model.add(LeakyReLU(alpha=0.2))\n",
    "        model.add(Dropout(dropout_rate))\n",
    "        model.add(BatchNormalization(momentum=0.8))\n",
    "        \n",
    "        # 2) Average Pooling, Flatten, Dense, and LeakyRelu\n",
    "        model.add(AveragePooling1D(25))\n",
    "        model.add(Flatten())\n",
    "        model.add(Dense(int(window_size/16)))\n",
    "        model.add(LeakyReLU(alpha=0.2)) \n",
    "        \n",
    "        # 3) Final output with sigmoid\n",
    "        model.add(Dense(1, activation='sigmoid'))\n",
    "        \n",
    "        print \"Discriminator\"\n",
    "        model.summary()\n",
    "\n",
    "        img = Input(shape=self.output_shape)\n",
    "        validity = model(img)\n",
    "\n",
    "        return Model(img, validity)\n",
    "\n",
    "    def train(self, epochs, batch_size, X_train, y_train):\n",
    "        \n",
    "        max_pearson = -1.0\n",
    "        \n",
    "        # size of the half of the batch\n",
    "        half_batch = int(batch_size / 2)\n",
    "            \n",
    "        d_loss_real, d_loss_fake, g_loss = [1, 0], [1, 0], [1, 0]\n",
    "            \n",
    "        for epoch in range(epochs):\n",
    "            \n",
    "            # list for storing losses/accuracies for both discriminator and generator\n",
    "            d_losses, d_accuracies, g_losses = [], [], []\n",
    "            \n",
    "            # sufficient number of minibatches for each epoch\n",
    "            for _minibatch_idx in range(128):\n",
    "\n",
    "                # ---------------------\n",
    "                #  Train Discriminator\n",
    "                # ---------------------\n",
    "\n",
    "                # Select a random half batch of images\n",
    "                dis_idx = np.random.randint(0, y_train.shape[0], half_batch)\n",
    "                # Get the real images\n",
    "                imgs = y_train[dis_idx]\n",
    "\n",
    "                # Generate a half batch of new images\n",
    "                dis_noise = X_train[dis_idx]\n",
    "                gen_imgs = self.generator.predict(dis_noise)\n",
    "                \n",
    "                # Train the discriminator with label smoothing\n",
    "                # NOTE: (no smoothing for this version)\n",
    "#                 smoothed_idx = np.random.choice(half_batch, int(half_batch*smooth_rate), replace=False)\n",
    "                smoothed_labels = np.ones((half_batch, 1))\n",
    "#                 smoothed_labels[smoothed_idx] = 0\n",
    "                \n",
    "                # Train the discriminator\n",
    "                if _minibatch_idx % 16 == 0:\n",
    "                    # 1) Concatenate the real images and generated images\n",
    "                    all_imgs = np.concatenate([imgs, gen_imgs])\n",
    "                    # 2) Concatenate the real labels and labels for generated images\n",
    "                    all_labels = np.concatenate([smoothed_labels, np.zeros((half_batch, 1))])\n",
    "                    # 3) Shuffle two lists in same order\n",
    "                    def unison_shuffled_copies(a, b):\n",
    "                        assert len(a) == len(b)\n",
    "                        p = np.random.permutation(len(a))\n",
    "                        return a[p], b[p]\n",
    "                    all_imgs, all_labels = unison_shuffled_copies(all_imgs, all_labels)\n",
    "                    # 4) Train the discriminator for current batch\n",
    "                    d_loss = self.discriminator.train_on_batch(all_imgs, all_labels)\n",
    "                                    \n",
    "                    # ---------------------\n",
    "                    # Store loss and accuracy\n",
    "                    # ---------------------\n",
    "                    d_losses.append(d_loss[0])\n",
    "                    d_accuracies.append(d_loss[1])\n",
    "                \n",
    "                # ---------------------\n",
    "                #  Train Generator\n",
    "                # ---------------------\n",
    "                \n",
    "                # 1) Randomly choose the batch number of indices\n",
    "                gen_idx = np.random.randint(0, y_train.shape[0], batch_size)\n",
    "                # 2) Get the randomly chosen inputs (noises in traditional gan)\n",
    "                gen_noise = X_train[gen_idx]\n",
    "                # 3) Create the labels for noises\n",
    "                # The generator wants the discriminator to label the generated samples as valid (ones)\n",
    "                valid_y = np.array([1] * batch_size)\n",
    "\n",
    "                # 4) Train the generator\n",
    "                # Discriminator is no longer trained at this point\n",
    "                # Generator do its best to fake discriminator\n",
    "                g_loss = self.combined.train_on_batch(gen_noise, valid_y)\n",
    "\n",
    "                g_losses.append(g_loss)\n",
    "            \n",
    "            # ---------------------\n",
    "            # Convert each histories into numpy arrays to get means\n",
    "            # ---------------------\n",
    "            d_losses = np.array(d_losses)\n",
    "            d_accuracies = np.array(d_accuracies)\n",
    "            g_losses = np.array(g_losses)\n",
    "            \n",
    "            # ---------------------\n",
    "            # Get generator's prediction and compute overall pearson on train set\n",
    "            # ---------------------\n",
    "            predictions = self.generator.predict(X_train).flatten()\n",
    "            avg_pearson = pearsonr(predictions, y_train.flatten())\n",
    "            print \"Pearson R on Train set: {}\".format(avg_pearson)\n",
    "            \n",
    "            # ---------------------\n",
    "            # Get generator's prediction and compute overall pearson on validation set\n",
    "            # ---------------------\n",
    "            val_predictions = self.generator.predict(X_val).flatten()\n",
    "            avg_val_pearson = pearsonr(val_predictions, y_val.flatten())\n",
    "            print \"Pearson R on Val set: {}\".format(avg_val_pearson)\n",
    "\n",
    "# ---------------------\n",
    "#            Old code for taking pearson on each interval and average\n",
    "#             predictions = self.generator.predict(X_train)\n",
    "#             pearsons = []\n",
    "#             for pred_idx in range(len(predictions)):\n",
    "#                 prediction = predictions[pred_idx]\n",
    "#                 pearsons.append(pearsonr(prediction, y_train[pred_idx]))\n",
    "#             avg_pearson = np.array(pearsons).mean()\n",
    "#             print \"Pearson R on Train set: {}\".format(avg_pearson)\n",
    "            \n",
    "#             val_predictions = self.generator.predict(X_val)\n",
    "#             val_pearsons = []\n",
    "#             for val_pred_idx in range(len(val_predictions)):\n",
    "#                 prediction = val_predictions[val_pred_idx]\n",
    "#                 val_pearsons.append(pearsonr(prediction, y_val[val_pred_idx]))\n",
    "#             avg_val_pearson = np.array(val_pearsons).mean()\n",
    "#             print \"Pearson R on Val set: {}\".format(avg_val_pearson)  \n",
    "# ---------------------\n",
    "            \n",
    "            # if current pearson on validation set is greatest so far, update the max pearson,\n",
    "            # and \n",
    "            if max_pearson < avg_val_pearson:\n",
    "                print \"Perason on val improved from {} to {}\".format(max_pearson, avg_val_pearson)\n",
    "                _write_1D_deeplift_track(predictions.reshape(int(sample_num*0.8), self.window_size),\n",
    "                                         normalized_day0_intervals[:int(sample_num*0.8)], os.path.join(srv_dir, 'train'))\n",
    "                _write_1D_deeplift_track(val_predictions.reshape(int(sample_num*0.2), self.window_size),\n",
    "                                         normalized_day0_intervals[int(sample_num*0.8):sample_num], os.path.join(srv_dir, 'val'))\n",
    "                f = open(os.path.join(srv_dir, 'meta.txt'), 'wb')\n",
    "                f.write(str(epoch) + \" \" + str(avg_pearson) + \"  \" + str(avg_val_pearson))\n",
    "                f.close()\n",
    "                max_pearson = avg_val_pearson\n",
    "                \n",
    "                self.generator.save(os.path.join(model_dir, 'best_generator.h5'))\n",
    "            \n",
    "            # Plot the progress\n",
    "            print (\"%d [D loss: %f, acc.: %.2f%%] [G loss: %f]\" % (epoch, d_losses.mean(), 100.0*d_accuracies.mean(), g_losses.mean()))"
   ]
  },
  {
   "cell_type": "code",
   "execution_count": 55,
   "metadata": {
    "collapsed": true
   },
   "outputs": [],
   "source": [
    "# helper function for computing Pearson R in Keras\n",
    "def pearson(y_true, y_pred):\n",
    "    x = y_true\n",
    "    y = y_pred\n",
    "    mx = K.mean(x)\n",
    "    my = K.mean(y)\n",
    "    xm, ym = x-mx, y-my\n",
    "    r_num = K.sum(np.multiply(xm,ym))\n",
    "    r_den = K.sqrt(np.multiply(K.sum(K.square(xm)), K.sum(K.square(ym))))\n",
    "    r = r_num / r_den\n",
    "    r = K.maximum(K.minimum(r, 1.0), -1.0)\n",
    "    return K.square(r)"
   ]
  },
  {
   "cell_type": "code",
   "execution_count": 56,
   "metadata": {},
   "outputs": [
    {
     "name": "stdout",
     "output_type": "stream",
     "text": [
      "Fitting the model...\n",
      "Discriminator\n",
      "_________________________________________________________________\n",
      "Layer (type)                 Output Shape              Param #   \n",
      "=================================================================\n",
      "conv1d_2 (Conv1D)            (None, 1802, 32)          6432      \n",
      "_________________________________________________________________\n",
      "leaky_re_lu_3 (LeakyReLU)    (None, 1802, 32)          0         \n",
      "_________________________________________________________________\n",
      "dropout_2 (Dropout)          (None, 1802, 32)          0         \n",
      "_________________________________________________________________\n",
      "batch_normalization_2 (Batch (None, 1802, 32)          128       \n",
      "_________________________________________________________________\n",
      "average_pooling1d_2 (Average (None, 72, 32)            0         \n",
      "_________________________________________________________________\n",
      "flatten_2 (Flatten)          (None, 2304)              0         \n",
      "_________________________________________________________________\n",
      "dense_3 (Dense)              (None, 125)               288125    \n",
      "_________________________________________________________________\n",
      "leaky_re_lu_4 (LeakyReLU)    (None, 125)               0         \n",
      "_________________________________________________________________\n",
      "dense_4 (Dense)              (None, 1)                 126       \n",
      "=================================================================\n",
      "Total params: 294,811\n",
      "Trainable params: 294,747\n",
      "Non-trainable params: 64\n",
      "_________________________________________________________________\n",
      "Generator\n",
      "_________________________________________________________________\n",
      "Layer (type)                 Output Shape              Param #   \n",
      "=================================================================\n",
      "gen_conv1d_1 (Conv1D)        (None, 2001, 32)          320192    \n",
      "_________________________________________________________________\n",
      "gen_dropout_1 (Dropout)      (None, 2001, 32)          0         \n",
      "_________________________________________________________________\n",
      "gen_conv1d_output (Conv1D)   (None, 2001, 1)           1025      \n",
      "=================================================================\n",
      "Total params: 321,217\n",
      "Trainable params: 321,217\n",
      "Non-trainable params: 0\n",
      "_________________________________________________________________\n",
      "Combined Model\n",
      "_________________________________________________________________\n",
      "Layer (type)                 Output Shape              Param #   \n",
      "=================================================================\n",
      "input_6 (InputLayer)         (None, 2001, 5)           0         \n",
      "_________________________________________________________________\n",
      "model_5 (Model)              (None, 2001, 1)           321217    \n",
      "_________________________________________________________________\n",
      "model_4 (Model)              (None, 1)                 294811    \n",
      "=================================================================\n",
      "Total params: 616,028\n",
      "Trainable params: 321,217\n",
      "Non-trainable params: 294,811\n",
      "_________________________________________________________________\n",
      "None\n",
      "Pearson R on Train set: (0.13437773, 0.0)\n",
      "Pearson R on Val set: (0.15591946, 0.0)\n",
      "Perason on val improved from -1.0 to (0.15591946, 0.0)\n",
      "Writing 1D track of shape: (8000, 2001)\n",
      "Writing to file: /srv/www/kundaje/jesikmin/gan_fixed_nonsmooth_nonwide_weak/train.bw\n",
      "Wrote bedgraph.\n",
      "wigToBigWig output: \n",
      "Wrote bigwig.\n",
      "Writing 1D track of shape: (2000, 2001)\n",
      "Writing to file: /srv/www/kundaje/jesikmin/gan_fixed_nonsmooth_nonwide_weak/val.bw\n",
      "Wrote bedgraph.\n",
      "wigToBigWig output: \n",
      "Wrote bigwig.\n",
      "0 [D loss: 0.456007, acc.: 77.25%] [G loss: 0.432463]\n",
      "Pearson R on Train set: (0.12212653, 0.0)\n",
      "Pearson R on Val set: (0.13226794, 0.0)\n",
      "1 [D loss: 0.450208, acc.: 82.91%] [G loss: 0.376017]\n",
      "Pearson R on Train set: (0.011744098, 0.0)\n",
      "Pearson R on Val set: (0.024288448, 0.0)\n",
      "2 [D loss: 1.235436, acc.: 51.76%] [G loss: 0.750253]\n",
      "Pearson R on Train set: (0.018449772, 0.0)\n",
      "Pearson R on Val set: (0.012223979, 4.4551457679404217e-132)\n",
      "3 [D loss: 0.374373, acc.: 87.79%] [G loss: 0.330645]\n"
     ]
    },
    {
     "ename": "KeyboardInterrupt",
     "evalue": "",
     "output_type": "error",
     "traceback": [
      "\u001b[0;31m---------------------------------------------------------------------------\u001b[0m",
      "\u001b[0;31mKeyboardInterrupt\u001b[0m                         Traceback (most recent call last)",
      "\u001b[0;32m<ipython-input-56-e34b04ccfe23>\u001b[0m in \u001b[0;36m<module>\u001b[0;34m()\u001b[0m\n\u001b[1;32m      8\u001b[0m \u001b[0;34m\u001b[0m\u001b[0m\n\u001b[1;32m      9\u001b[0m \u001b[0mgan\u001b[0m \u001b[0;34m=\u001b[0m \u001b[0mGAN\u001b[0m\u001b[0;34m(\u001b[0m\u001b[0mwindow_size\u001b[0m\u001b[0;34m,\u001b[0m \u001b[0msample_num\u001b[0m\u001b[0;34m)\u001b[0m\u001b[0;34m\u001b[0m\u001b[0m\n\u001b[0;32m---> 10\u001b[0;31m \u001b[0mgan\u001b[0m\u001b[0;34m.\u001b[0m\u001b[0mtrain\u001b[0m\u001b[0;34m(\u001b[0m\u001b[0mnum_epochs\u001b[0m\u001b[0;34m,\u001b[0m \u001b[0mbatch_size\u001b[0m\u001b[0;34m,\u001b[0m \u001b[0mX_train\u001b[0m\u001b[0;34m,\u001b[0m \u001b[0my_train\u001b[0m\u001b[0;34m)\u001b[0m\u001b[0;34m\u001b[0m\u001b[0m\n\u001b[0m",
      "\u001b[0;32m<ipython-input-54-e630e6d01ad1>\u001b[0m in \u001b[0;36mtrain\u001b[0;34m(self, epochs, batch_size, X_train, y_train)\u001b[0m\n\u001b[1;32m    192\u001b[0m                 \u001b[0;31m# Discriminator is no longer trained at this point\u001b[0m\u001b[0;34m\u001b[0m\u001b[0;34m\u001b[0m\u001b[0m\n\u001b[1;32m    193\u001b[0m                 \u001b[0;31m# Generator do its best to fake discriminator\u001b[0m\u001b[0;34m\u001b[0m\u001b[0;34m\u001b[0m\u001b[0m\n\u001b[0;32m--> 194\u001b[0;31m                 \u001b[0mg_loss\u001b[0m \u001b[0;34m=\u001b[0m \u001b[0mself\u001b[0m\u001b[0;34m.\u001b[0m\u001b[0mcombined\u001b[0m\u001b[0;34m.\u001b[0m\u001b[0mtrain_on_batch\u001b[0m\u001b[0;34m(\u001b[0m\u001b[0mgen_noise\u001b[0m\u001b[0;34m,\u001b[0m \u001b[0mvalid_y\u001b[0m\u001b[0;34m)\u001b[0m\u001b[0;34m\u001b[0m\u001b[0m\n\u001b[0m\u001b[1;32m    195\u001b[0m \u001b[0;34m\u001b[0m\u001b[0m\n\u001b[1;32m    196\u001b[0m                 \u001b[0mg_losses\u001b[0m\u001b[0;34m.\u001b[0m\u001b[0mappend\u001b[0m\u001b[0;34m(\u001b[0m\u001b[0mg_loss\u001b[0m\u001b[0;34m)\u001b[0m\u001b[0;34m\u001b[0m\u001b[0m\n",
      "\u001b[0;32m/users/jesikmin/anaconda2/envs/genomelake_env/lib/python2.7/site-packages/keras/engine/training.pyc\u001b[0m in \u001b[0;36mtrain_on_batch\u001b[0;34m(self, x, y, sample_weight, class_weight)\u001b[0m\n\u001b[1;32m   1847\u001b[0m             \u001b[0mins\u001b[0m \u001b[0;34m=\u001b[0m \u001b[0mx\u001b[0m \u001b[0;34m+\u001b[0m \u001b[0my\u001b[0m \u001b[0;34m+\u001b[0m \u001b[0msample_weights\u001b[0m\u001b[0;34m\u001b[0m\u001b[0m\n\u001b[1;32m   1848\u001b[0m         \u001b[0mself\u001b[0m\u001b[0;34m.\u001b[0m\u001b[0m_make_train_function\u001b[0m\u001b[0;34m(\u001b[0m\u001b[0;34m)\u001b[0m\u001b[0;34m\u001b[0m\u001b[0m\n\u001b[0;32m-> 1849\u001b[0;31m         \u001b[0moutputs\u001b[0m \u001b[0;34m=\u001b[0m \u001b[0mself\u001b[0m\u001b[0;34m.\u001b[0m\u001b[0mtrain_function\u001b[0m\u001b[0;34m(\u001b[0m\u001b[0mins\u001b[0m\u001b[0;34m)\u001b[0m\u001b[0;34m\u001b[0m\u001b[0m\n\u001b[0m\u001b[1;32m   1850\u001b[0m         \u001b[0;32mif\u001b[0m \u001b[0mlen\u001b[0m\u001b[0;34m(\u001b[0m\u001b[0moutputs\u001b[0m\u001b[0;34m)\u001b[0m \u001b[0;34m==\u001b[0m \u001b[0;36m1\u001b[0m\u001b[0;34m:\u001b[0m\u001b[0;34m\u001b[0m\u001b[0m\n\u001b[1;32m   1851\u001b[0m             \u001b[0;32mreturn\u001b[0m \u001b[0moutputs\u001b[0m\u001b[0;34m[\u001b[0m\u001b[0;36m0\u001b[0m\u001b[0;34m]\u001b[0m\u001b[0;34m\u001b[0m\u001b[0m\n",
      "\u001b[0;32m/users/jesikmin/anaconda2/envs/genomelake_env/lib/python2.7/site-packages/keras/backend/tensorflow_backend.pyc\u001b[0m in \u001b[0;36m__call__\u001b[0;34m(self, inputs)\u001b[0m\n\u001b[1;32m   2473\u001b[0m         \u001b[0msession\u001b[0m \u001b[0;34m=\u001b[0m \u001b[0mget_session\u001b[0m\u001b[0;34m(\u001b[0m\u001b[0;34m)\u001b[0m\u001b[0;34m\u001b[0m\u001b[0m\n\u001b[1;32m   2474\u001b[0m         updated = session.run(fetches=fetches, feed_dict=feed_dict,\n\u001b[0;32m-> 2475\u001b[0;31m                               **self.session_kwargs)\n\u001b[0m\u001b[1;32m   2476\u001b[0m         \u001b[0;32mreturn\u001b[0m \u001b[0mupdated\u001b[0m\u001b[0;34m[\u001b[0m\u001b[0;34m:\u001b[0m\u001b[0mlen\u001b[0m\u001b[0;34m(\u001b[0m\u001b[0mself\u001b[0m\u001b[0;34m.\u001b[0m\u001b[0moutputs\u001b[0m\u001b[0;34m)\u001b[0m\u001b[0;34m]\u001b[0m\u001b[0;34m\u001b[0m\u001b[0m\n\u001b[1;32m   2477\u001b[0m \u001b[0;34m\u001b[0m\u001b[0m\n",
      "\u001b[0;32m/users/jesikmin/anaconda2/envs/genomelake_env/lib/python2.7/site-packages/tensorflow/python/client/session.pyc\u001b[0m in \u001b[0;36mrun\u001b[0;34m(self, fetches, feed_dict, options, run_metadata)\u001b[0m\n\u001b[1;32m    887\u001b[0m     \u001b[0;32mtry\u001b[0m\u001b[0;34m:\u001b[0m\u001b[0;34m\u001b[0m\u001b[0m\n\u001b[1;32m    888\u001b[0m       result = self._run(None, fetches, feed_dict, options_ptr,\n\u001b[0;32m--> 889\u001b[0;31m                          run_metadata_ptr)\n\u001b[0m\u001b[1;32m    890\u001b[0m       \u001b[0;32mif\u001b[0m \u001b[0mrun_metadata\u001b[0m\u001b[0;34m:\u001b[0m\u001b[0;34m\u001b[0m\u001b[0m\n\u001b[1;32m    891\u001b[0m         \u001b[0mproto_data\u001b[0m \u001b[0;34m=\u001b[0m \u001b[0mtf_session\u001b[0m\u001b[0;34m.\u001b[0m\u001b[0mTF_GetBuffer\u001b[0m\u001b[0;34m(\u001b[0m\u001b[0mrun_metadata_ptr\u001b[0m\u001b[0;34m)\u001b[0m\u001b[0;34m\u001b[0m\u001b[0m\n",
      "\u001b[0;32m/users/jesikmin/anaconda2/envs/genomelake_env/lib/python2.7/site-packages/tensorflow/python/client/session.pyc\u001b[0m in \u001b[0;36m_run\u001b[0;34m(self, handle, fetches, feed_dict, options, run_metadata)\u001b[0m\n\u001b[1;32m   1118\u001b[0m     \u001b[0;32mif\u001b[0m \u001b[0mfinal_fetches\u001b[0m \u001b[0;32mor\u001b[0m \u001b[0mfinal_targets\u001b[0m \u001b[0;32mor\u001b[0m \u001b[0;34m(\u001b[0m\u001b[0mhandle\u001b[0m \u001b[0;32mand\u001b[0m \u001b[0mfeed_dict_tensor\u001b[0m\u001b[0;34m)\u001b[0m\u001b[0;34m:\u001b[0m\u001b[0;34m\u001b[0m\u001b[0m\n\u001b[1;32m   1119\u001b[0m       results = self._do_run(handle, final_targets, final_fetches,\n\u001b[0;32m-> 1120\u001b[0;31m                              feed_dict_tensor, options, run_metadata)\n\u001b[0m\u001b[1;32m   1121\u001b[0m     \u001b[0;32melse\u001b[0m\u001b[0;34m:\u001b[0m\u001b[0;34m\u001b[0m\u001b[0m\n\u001b[1;32m   1122\u001b[0m       \u001b[0mresults\u001b[0m \u001b[0;34m=\u001b[0m \u001b[0;34m[\u001b[0m\u001b[0;34m]\u001b[0m\u001b[0;34m\u001b[0m\u001b[0m\n",
      "\u001b[0;32m/users/jesikmin/anaconda2/envs/genomelake_env/lib/python2.7/site-packages/tensorflow/python/client/session.pyc\u001b[0m in \u001b[0;36m_do_run\u001b[0;34m(self, handle, target_list, fetch_list, feed_dict, options, run_metadata)\u001b[0m\n\u001b[1;32m   1315\u001b[0m     \u001b[0;32mif\u001b[0m \u001b[0mhandle\u001b[0m \u001b[0;32mis\u001b[0m \u001b[0mNone\u001b[0m\u001b[0;34m:\u001b[0m\u001b[0;34m\u001b[0m\u001b[0m\n\u001b[1;32m   1316\u001b[0m       return self._do_call(_run_fn, self._session, feeds, fetches, targets,\n\u001b[0;32m-> 1317\u001b[0;31m                            options, run_metadata)\n\u001b[0m\u001b[1;32m   1318\u001b[0m     \u001b[0;32melse\u001b[0m\u001b[0;34m:\u001b[0m\u001b[0;34m\u001b[0m\u001b[0m\n\u001b[1;32m   1319\u001b[0m       \u001b[0;32mreturn\u001b[0m \u001b[0mself\u001b[0m\u001b[0;34m.\u001b[0m\u001b[0m_do_call\u001b[0m\u001b[0;34m(\u001b[0m\u001b[0m_prun_fn\u001b[0m\u001b[0;34m,\u001b[0m \u001b[0mself\u001b[0m\u001b[0;34m.\u001b[0m\u001b[0m_session\u001b[0m\u001b[0;34m,\u001b[0m \u001b[0mhandle\u001b[0m\u001b[0;34m,\u001b[0m \u001b[0mfeeds\u001b[0m\u001b[0;34m,\u001b[0m \u001b[0mfetches\u001b[0m\u001b[0;34m)\u001b[0m\u001b[0;34m\u001b[0m\u001b[0m\n",
      "\u001b[0;32m/users/jesikmin/anaconda2/envs/genomelake_env/lib/python2.7/site-packages/tensorflow/python/client/session.pyc\u001b[0m in \u001b[0;36m_do_call\u001b[0;34m(self, fn, *args)\u001b[0m\n\u001b[1;32m   1321\u001b[0m   \u001b[0;32mdef\u001b[0m \u001b[0m_do_call\u001b[0m\u001b[0;34m(\u001b[0m\u001b[0mself\u001b[0m\u001b[0;34m,\u001b[0m \u001b[0mfn\u001b[0m\u001b[0;34m,\u001b[0m \u001b[0;34m*\u001b[0m\u001b[0margs\u001b[0m\u001b[0;34m)\u001b[0m\u001b[0;34m:\u001b[0m\u001b[0;34m\u001b[0m\u001b[0m\n\u001b[1;32m   1322\u001b[0m     \u001b[0;32mtry\u001b[0m\u001b[0;34m:\u001b[0m\u001b[0;34m\u001b[0m\u001b[0m\n\u001b[0;32m-> 1323\u001b[0;31m       \u001b[0;32mreturn\u001b[0m \u001b[0mfn\u001b[0m\u001b[0;34m(\u001b[0m\u001b[0;34m*\u001b[0m\u001b[0margs\u001b[0m\u001b[0;34m)\u001b[0m\u001b[0;34m\u001b[0m\u001b[0m\n\u001b[0m\u001b[1;32m   1324\u001b[0m     \u001b[0;32mexcept\u001b[0m \u001b[0merrors\u001b[0m\u001b[0;34m.\u001b[0m\u001b[0mOpError\u001b[0m \u001b[0;32mas\u001b[0m \u001b[0me\u001b[0m\u001b[0;34m:\u001b[0m\u001b[0;34m\u001b[0m\u001b[0m\n\u001b[1;32m   1325\u001b[0m       \u001b[0mmessage\u001b[0m \u001b[0;34m=\u001b[0m \u001b[0mcompat\u001b[0m\u001b[0;34m.\u001b[0m\u001b[0mas_text\u001b[0m\u001b[0;34m(\u001b[0m\u001b[0me\u001b[0m\u001b[0;34m.\u001b[0m\u001b[0mmessage\u001b[0m\u001b[0;34m)\u001b[0m\u001b[0;34m\u001b[0m\u001b[0m\n",
      "\u001b[0;32m/users/jesikmin/anaconda2/envs/genomelake_env/lib/python2.7/site-packages/tensorflow/python/client/session.pyc\u001b[0m in \u001b[0;36m_run_fn\u001b[0;34m(session, feed_dict, fetch_list, target_list, options, run_metadata)\u001b[0m\n\u001b[1;32m   1300\u001b[0m           return tf_session.TF_Run(session, options,\n\u001b[1;32m   1301\u001b[0m                                    \u001b[0mfeed_dict\u001b[0m\u001b[0;34m,\u001b[0m \u001b[0mfetch_list\u001b[0m\u001b[0;34m,\u001b[0m \u001b[0mtarget_list\u001b[0m\u001b[0;34m,\u001b[0m\u001b[0;34m\u001b[0m\u001b[0m\n\u001b[0;32m-> 1302\u001b[0;31m                                    status, run_metadata)\n\u001b[0m\u001b[1;32m   1303\u001b[0m \u001b[0;34m\u001b[0m\u001b[0m\n\u001b[1;32m   1304\u001b[0m     \u001b[0;32mdef\u001b[0m \u001b[0m_prun_fn\u001b[0m\u001b[0;34m(\u001b[0m\u001b[0msession\u001b[0m\u001b[0;34m,\u001b[0m \u001b[0mhandle\u001b[0m\u001b[0;34m,\u001b[0m \u001b[0mfeed_dict\u001b[0m\u001b[0;34m,\u001b[0m \u001b[0mfetch_list\u001b[0m\u001b[0;34m)\u001b[0m\u001b[0;34m:\u001b[0m\u001b[0;34m\u001b[0m\u001b[0m\n",
      "\u001b[0;31mKeyboardInterrupt\u001b[0m: "
     ]
    }
   ],
   "source": [
    "print \"Fitting the model...\"\n",
    "train_index = int(sample_num*0.8)\n",
    "val_index = sample_num\n",
    "test_index = int(sample_num*1.1) \n",
    "X_train, y_train = atac_seq_day0[:train_index], histone_mark_day0[:train_index]\n",
    "X_val, y_val = atac_seq_day0[train_index:val_index], histone_mark_day0[train_index:val_index]\n",
    "X_test, y_test = atac_seq_day0[val_index:test_index], histone_mark_day0[val_index:test_index]\n",
    "\n",
    "gan = GAN(window_size, sample_num)\n",
    "gan.train(num_epochs, batch_size, X_train, y_train)"
   ]
  },
  {
   "cell_type": "code",
   "execution_count": null,
   "metadata": {
    "collapsed": true
   },
   "outputs": [],
   "source": []
  },
  {
   "cell_type": "code",
   "execution_count": null,
   "metadata": {
    "collapsed": true
   },
   "outputs": [],
   "source": []
  }
 ],
 "metadata": {
  "kernelspec": {
   "display_name": "Python 2",
   "language": "python",
   "name": "python2"
  },
  "language_info": {
   "codemirror_mode": {
    "name": "ipython",
    "version": 2
   },
   "file_extension": ".py",
   "mimetype": "text/x-python",
   "name": "python",
   "nbconvert_exporter": "python",
   "pygments_lexer": "ipython2",
   "version": "2.7.13"
  }
 },
 "nbformat": 4,
 "nbformat_minor": 2
}
