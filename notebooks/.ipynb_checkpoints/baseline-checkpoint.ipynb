{
 "cells": [
  {
   "cell_type": "markdown",
   "metadata": {},
   "source": [
    "# Baseline\n",
    "#### Convert histone mark signals and use deep CNN for training."
   ]
  },
  {
   "cell_type": "markdown",
   "metadata": {},
   "source": [
    "#### NOTE: Need to activate genomelake environment before this code. Simply type 'genomelake' in terminal."
   ]
  },
  {
   "cell_type": "code",
   "execution_count": 1,
   "metadata": {},
   "outputs": [
    {
     "name": "stderr",
     "output_type": "stream",
     "text": [
      "Using TensorFlow backend.\n"
     ]
    }
   ],
   "source": [
    "import os, sys\n",
    "sys.path.append(\"..\")\n",
    "import random\n",
    "# custom file path package\n",
    "from data import Data_Directories\n",
    "# custom utility package\n",
    "from utils.compute_util import *\n",
    "# package for genomic data\n",
    "from pybedtools import Interval, BedTool\n",
    "from genomelake.extractors import ArrayExtractor, BigwigExtractor\n",
    "# package for plotting\n",
    "import matplotlib.pyplot as plt\n",
    "%matplotlib inline\n",
    "from scipy.stats.stats import pearsonr,spearmanr"
   ]
  },
  {
   "cell_type": "code",
   "execution_count": 2,
   "metadata": {
    "collapsed": true
   },
   "outputs": [],
   "source": [
    "window_size = 2001\n",
    "process_all = False\n",
    "sample_num = 1000"
   ]
  },
  {
   "cell_type": "code",
   "execution_count": 3,
   "metadata": {},
   "outputs": [
    {
     "name": "stdout",
     "output_type": "stream",
     "text": [
      "['day6', 'day3', 'day0']\n",
      "['100', '140']\n",
      "['H3K27me3', 'H3K4me1', 'H3K27ac']\n"
     ]
    }
   ],
   "source": [
    "# retrieve data\n",
    "data = Data_Directories()\n",
    "print data.intervals.keys()\n",
    "print data.input_atac['day0'].keys()\n",
    "print data.output_histone['day0'].keys()"
   ]
  },
  {
   "cell_type": "code",
   "execution_count": 4,
   "metadata": {},
   "outputs": [
    {
     "name": "stdout",
     "output_type": "stream",
     "text": [
      "# of Intervals Extracted for day0: 267226\n",
      "# of Intervals Extracted for day3: 233846\n"
     ]
    }
   ],
   "source": [
    "# get intervals for day0 data\n",
    "day0_intervals = list(BedTool(data.intervals['day0']))\n",
    "print '# of Intervals Extracted for day0: {}'.format(len(day0_intervals))\n",
    "\n",
    "# get intervals for day3 data\n",
    "day3_intervals = list(BedTool(data.intervals['day3']))\n",
    "print '# of Intervals Extracted for day3: {}'.format(len(day3_intervals))"
   ]
  },
  {
   "cell_type": "code",
   "execution_count": 5,
   "metadata": {},
   "outputs": [
    {
     "name": "stdout",
     "output_type": "stream",
     "text": [
      "Finished extracting bigwig for day0, 140bp\n",
      "Finished extracting bigwig for day3, 140bp\n"
     ]
    }
   ],
   "source": [
    "# create an ArrayExtractor for ATAC-seq for day0 with 140 base pairs\n",
    "bw_140bp_day0 = ArrayExtractor(data.input_atac['day0']['140'])\n",
    "print 'Finished extracting bigwig for day0, 140bp'\n",
    "\n",
    "# create an ArrayExtractor for ATAC-seq for day3 with 140 base pairs\n",
    "bw_140bp_day3 = ArrayExtractor(data.input_atac['day3']['140'])\n",
    "print 'Finished extracting bigwig for day3, 140bp'"
   ]
  },
  {
   "cell_type": "code",
   "execution_count": 6,
   "metadata": {},
   "outputs": [
    {
     "name": "stdout",
     "output_type": "stream",
     "text": [
      "Finished extracting bigwig for day0, 140bp\n",
      "Finished extracting bigwig for day3, 140bp\n"
     ]
    }
   ],
   "source": [
    "# create a BigWigExtractor for histone makr 'H3K27ac' for day0\n",
    "bw_histone_mark_day0 = BigwigExtractor(data.output_histone['day0']['H3K27ac'])\n",
    "print 'Finished extracting bigwig for day0, 140bp'\n",
    "\n",
    "# create a BigWigExtractor for histone makr 'H3K27ac' for day3\n",
    "bw_histone_mark_day3 = BigwigExtractor(data.output_histone['day3']['H3K27ac'])\n",
    "print 'Finished extracting bigwig for day3, 140bp'"
   ]
  },
  {
   "cell_type": "code",
   "execution_count": 7,
   "metadata": {},
   "outputs": [
    {
     "name": "stdout",
     "output_type": "stream",
     "text": [
      "Finished normalizing day0 intervals!\n",
      "Finished normalizing day3 intervals!\n"
     ]
    }
   ],
   "source": [
    "# normalize day0 intervals\n",
    "normalized_day0_intervals = [normalize_interval(interval, window_size) for interval in day0_intervals if normalize_interval(interval, window_size)]\n",
    "print 'Finished normalizing day0 intervals!'\n",
    "\n",
    "# normalize day3 intervals\n",
    "normalized_day3_intervals = [normalize_interval(interval, window_size) for interval in day3_intervals if normalize_interval(interval, window_size)]\n",
    "print 'Finished normalizing day3 intervals!'"
   ]
  },
  {
   "cell_type": "code",
   "execution_count": 8,
   "metadata": {},
   "outputs": [
    {
     "name": "stdout",
     "output_type": "stream",
     "text": [
      "Examples of original intervals\n",
      "[(123412027, [123411855, 123412989]), (123411941, [123411855, 123412989]), (131908564, [131908487, 131910071])]\n",
      "Examples of normalized intervals with window size of 2001\n",
      "[[123411027, 123413028], [123410941, 123412942], [131907564, 131909565]]\n"
     ]
    }
   ],
   "source": [
    "assert (len(day0_intervals)==len(normalized_day0_intervals))\n",
    "assert (len(day3_intervals)==len(normalized_day3_intervals))\n",
    "print \"Examples of original intervals\"\n",
    "print [(int(_interval.start)+int(_interval[-1]), [int(_interval.start), int(_interval.end)])\n",
    "       for _interval in day0_intervals[:3]]\n",
    "print \"Examples of normalized intervals with window size of {}\".format(window_size)\n",
    "print [([int(_interval.start), int(_interval.end)])\n",
    "       for _interval in  normalized_day0_intervals[:3]]"
   ]
  },
  {
   "cell_type": "code",
   "execution_count": 9,
   "metadata": {},
   "outputs": [
    {
     "name": "stdout",
     "output_type": "stream",
     "text": [
      "(267226, 2001, 5) (233846, 2001, 5)\n"
     ]
    }
   ],
   "source": [
    "atac_seq_day0 = bw_140bp_day0(normalized_day0_intervals)\n",
    "atac_seq_day3 = bw_140bp_day3(normalized_day3_intervals)\n",
    "print atac_seq_day0.shape, atac_seq_day3.shape"
   ]
  },
  {
   "cell_type": "code",
   "execution_count": 10,
   "metadata": {},
   "outputs": [
    {
     "name": "stdout",
     "output_type": "stream",
     "text": [
      "Before pruning day0: 267226\n",
      "After pruning day0: 267226\n",
      "Before pruning day3: 233846\n",
      "After pruning day3: 233846\n"
     ]
    }
   ],
   "source": [
    "#TODO: put this into utils if possible\n",
    "def prune_invalid_intervals(intervals, bigwig_file):\n",
    "    for _interval in intervals[:]:\n",
    "        try:\n",
    "            bigwig_file([_interval])\n",
    "        except:\n",
    "            intervals.remove(_interval)\n",
    "            pass\n",
    "        \n",
    "print \"Before pruning day0: {}\".format(len(normalized_day0_intervals))\n",
    "prune_invalid_intervals(normalized_day0_intervals, bw_140bp_day0)\n",
    "print \"After pruning day0: {}\".format(len(normalized_day0_intervals))\n",
    "\n",
    "print \"Before pruning day3: {}\".format(len(normalized_day3_intervals))\n",
    "prune_invalid_intervals(normalized_day3_intervals, bw_140bp_day3)\n",
    "print \"After pruning day3: {}\".format(len(normalized_day3_intervals))"
   ]
  },
  {
   "cell_type": "code",
   "execution_count": 11,
   "metadata": {},
   "outputs": [
    {
     "name": "stdout",
     "output_type": "stream",
     "text": [
      "Dimension of ATAC-seq signal: (1, 2001, 5)\n"
     ]
    }
   ],
   "source": [
    "print \"Dimension of ATAC-seq signal: {}\".format(bw_140bp_day0(normalized_day0_intervals[:1]).shape)"
   ]
  },
  {
   "cell_type": "code",
   "execution_count": 12,
   "metadata": {},
   "outputs": [
    {
     "name": "stdout",
     "output_type": "stream",
     "text": [
      "Dimension of histone mark signal: (1, 2001)\n"
     ]
    }
   ],
   "source": [
    "print \"Dimension of histone mark signal: {}\".format(bw_histone_mark_day0(normalized_day0_intervals[:1]).shape)"
   ]
  },
  {
   "cell_type": "code",
   "execution_count": 13,
   "metadata": {},
   "outputs": [
    {
     "name": "stdout",
     "output_type": "stream",
     "text": [
      "(267226, 2001)\n",
      "(233846, 2001)\n"
     ]
    }
   ],
   "source": [
    "# replace nan values with zeros and convert it to p-values\n",
    "histone_mark_day0 = np.nan_to_num(bw_histone_mark_day0(normalized_day0_intervals))\n",
    "print histone_mark_day0.shape\n",
    "\n",
    "histone_mark_day3 = np.nan_to_num(bw_histone_mark_day3(normalized_day3_intervals))\n",
    "print histone_mark_day3.shape"
   ]
  },
  {
   "cell_type": "code",
   "execution_count": 14,
   "metadata": {},
   "outputs": [
    {
     "name": "stdout",
     "output_type": "stream",
     "text": [
      "(267226, 2001, 1) (233846, 2001, 1)\n"
     ]
    }
   ],
   "source": [
    "histone_mark_day0 = np.expand_dims(histone_mark_day0, axis=2)\n",
    "histone_mark_day3 = np.expand_dims(histone_mark_day3, axis=2)\n",
    "print histone_mark_day0.shape, histone_mark_day3.shape"
   ]
  },
  {
   "cell_type": "code",
   "execution_count": 15,
   "metadata": {},
   "outputs": [
    {
     "name": "stdout",
     "output_type": "stream",
     "text": [
      "Example histone mark signal\n",
      "\tRaw value: [ 0.01014  0.01014  0.01014  0.02435  0.02435]\n"
     ]
    }
   ],
   "source": [
    "print \"Example histone mark signal\"\n",
    "print \"\\tRaw value: {}\".format(bw_histone_mark_day0(normalized_day0_intervals[:1])[0][:5].reshape(-1))"
   ]
  },
  {
   "cell_type": "code",
   "execution_count": 16,
   "metadata": {
    "collapsed": true
   },
   "outputs": [],
   "source": [
    "from keras.layers import Input, Dense, Conv1D, Dropout\n",
    "from keras.models import Model\n",
    "from keras import optimizers\n",
    "from keras import metrics\n",
    "from keras import backend as K\n",
    "from keras.callbacks import Callback, TensorBoard, ReduceLROnPlateau"
   ]
  },
  {
   "cell_type": "code",
   "execution_count": 17,
   "metadata": {
    "collapsed": true
   },
   "outputs": [],
   "source": [
    "dropout_rate = 0.5\n",
    "# parameters for first conv layer\n",
    "hidden_filters_1 = 20\n",
    "hidden_kernel_size_1 = 30\n",
    "# parameters for second conv layer\n",
    "hidden_filters_2 = 10\n",
    "hidden_kernel_size_2 = 20\n",
    "# parameters for the output layer\n",
    "output_filters = 1\n",
    "output_kernel_size = 5\n",
    "# parameters for training\n",
    "batch_size = 64\n",
    "num_epochs = 1000\n",
    "evaluation_freq = 50"
   ]
  },
  {
   "cell_type": "code",
   "execution_count": 18,
   "metadata": {
    "collapsed": true
   },
   "outputs": [],
   "source": [
    "'''\n",
    "Baseline CNN (based on KERAS functional API)\n",
    "'''\n",
    "# \n",
    "inputs = Input(shape=(window_size, 5, ))\n",
    "x = Conv1D(\n",
    "    filters=hidden_filters_1,\n",
    "    kernel_size=hidden_kernel_size_1,\n",
    "    padding='same',\n",
    "    activation='relu',\n",
    "    strides=1)(inputs)\n",
    "x = Dropout(dropout_rate)(x)\n",
    "\n",
    "x = Conv1D(\n",
    "    filters=hidden_filters_1,\n",
    "    kernel_size=hidden_kernel_size_1,\n",
    "    padding='same',\n",
    "    activation='relu',\n",
    "    strides=1)(x)\n",
    "x = Dropout(dropout_rate)(x)\n",
    "\n",
    "x = Conv1D(\n",
    "    filters=hidden_filters_1,\n",
    "    kernel_size=hidden_kernel_size_1,\n",
    "    padding='same',\n",
    "    activation='relu',\n",
    "    strides=1)(x)\n",
    "x = Dropout(dropout_rate)(x)\n",
    "\n",
    "x = Conv1D(\n",
    "    filters=hidden_filters_1,\n",
    "    kernel_size=hidden_kernel_size_1,\n",
    "    padding='same',\n",
    "    activation='relu',\n",
    "    strides=1)(x)\n",
    "x = Dropout(dropout_rate)(x)\n",
    "\n",
    "x = Conv1D(\n",
    "    filters=hidden_filters_1,\n",
    "    kernel_size=hidden_kernel_size_1,\n",
    "    padding='same',\n",
    "    activation='relu',\n",
    "    strides=1)(x)\n",
    "x = Dropout(dropout_rate)(x)\n",
    "\n",
    "x = Conv1D(\n",
    "    filters=hidden_filters_1,\n",
    "    kernel_size=hidden_kernel_size_1,\n",
    "    padding='same',\n",
    "    activation='relu',\n",
    "    strides=1)(x)\n",
    "x = Dropout(dropout_rate)(x)\n",
    "x = Conv1D(\n",
    "    filters=hidden_filters_1,\n",
    "    kernel_size=hidden_kernel_size_1,\n",
    "    padding='same',\n",
    "    activation='relu',\n",
    "    strides=1)(x)\n",
    "x = Dropout(dropout_rate)(x)\n",
    "\n",
    "x = Conv1D(\n",
    "    filters=hidden_filters_1,\n",
    "    kernel_size=hidden_kernel_size_1,\n",
    "    padding='same',\n",
    "    activation='relu',\n",
    "    strides=1)(x)\n",
    "x = Dropout(dropout_rate)(x)\n",
    "\n",
    "x = Conv1D(\n",
    "    filters=hidden_filters_1,\n",
    "    kernel_size=hidden_kernel_size_1,\n",
    "    padding='same',\n",
    "    activation='relu',\n",
    "    strides=1)(x)\n",
    "x = Dropout(dropout_rate)(x)\n",
    "\n",
    "x = Conv1D(\n",
    "    filters=hidden_filters_1,\n",
    "    kernel_size=hidden_kernel_size_1,\n",
    "    padding='same',\n",
    "    activation='relu',\n",
    "    strides=1)(x)\n",
    "x = Dropout(dropout_rate)(x)\n",
    "\n",
    "x = Conv1D(\n",
    "    filters=hidden_filters_1,\n",
    "    kernel_size=hidden_kernel_size_1,\n",
    "    padding='same',\n",
    "    activation='relu',\n",
    "    strides=1)(x)\n",
    "x = Dropout(dropout_rate)(x)\n",
    "\n",
    "\n",
    "x = Conv1D(\n",
    "    filters=hidden_filters_2,\n",
    "    kernel_size=hidden_kernel_size_2,\n",
    "    padding='same',\n",
    "    activation='relu',\n",
    "    strides=1)(x)\n",
    "x = Dropout(dropout_rate)(x)\n",
    "x = Conv1D(\n",
    "    filters=hidden_filters_2,\n",
    "    kernel_size=hidden_kernel_size_2,\n",
    "    padding='same',\n",
    "    activation='relu',\n",
    "    strides=1)(x)\n",
    "x = Dropout(dropout_rate)(x)\n",
    "x = Conv1D(\n",
    "    filters=hidden_filters_2,\n",
    "    kernel_size=hidden_kernel_size_2,\n",
    "    padding='same',\n",
    "    activation='relu',\n",
    "    strides=1)(x)\n",
    "x = Dropout(dropout_rate)(x)\n",
    "x = Conv1D(\n",
    "    filters=hidden_filters_2,\n",
    "    kernel_size=hidden_kernel_size_2,\n",
    "    padding='same',\n",
    "    activation='relu',\n",
    "    strides=1)(x)\n",
    "x = Dropout(dropout_rate)(x)\n",
    "x = Conv1D(\n",
    "    filters=hidden_filters_2,\n",
    "    kernel_size=hidden_kernel_size_2,\n",
    "    padding='same',\n",
    "    activation='relu',\n",
    "    strides=1)(x)\n",
    "x = Dropout(dropout_rate)(x)\n",
    "x = Conv1D(\n",
    "    filters=hidden_filters_2,\n",
    "    kernel_size=hidden_kernel_size_2,\n",
    "    padding='same',\n",
    "    activation='relu',\n",
    "    strides=1)(x)\n",
    "x = Dropout(dropout_rate)(x)\n",
    "\n",
    "outputs = Conv1D(\n",
    "    filters=output_filters,\n",
    "    kernel_size=output_kernel_size,\n",
    "    padding='same',\n",
    "    activation='linear',\n",
    "    strides=1\n",
    "    )(x)\n",
    "\n",
    "model = Model(inputs=inputs, outputs=outputs)"
   ]
  },
  {
   "cell_type": "code",
   "execution_count": 19,
   "metadata": {
    "collapsed": true
   },
   "outputs": [],
   "source": [
    "def pearson(y_true, y_pred):\n",
    "    x = y_true\n",
    "    y = y_pred\n",
    "    mx = K.mean(x)\n",
    "    my = K.mean(y)\n",
    "    xm, ym = x-mx, y-my\n",
    "    r_num = K.sum(np.multiply(xm,ym))\n",
    "    r_den = K.sqrt(np.multiply(K.sum(K.square(xm)), K.sum(K.square(ym))))\n",
    "    r = r_num / r_den\n",
    "    r = K.maximum(K.minimum(r, 1.0), -1.0)\n",
    "    return K.square(r)"
   ]
  },
  {
   "cell_type": "code",
   "execution_count": 20,
   "metadata": {
    "collapsed": true
   },
   "outputs": [],
   "source": [
    "def pearson_loss(y_true, y_pred):\n",
    "    x = y_true\n",
    "    y = y_pred\n",
    "    mx = K.mean(x)\n",
    "    my = K.mean(y)\n",
    "    xm, ym = x-mx, y-my\n",
    "    r_num = K.sum(np.multiply(xm,ym))\n",
    "    r_den = K.sqrt(np.multiply(K.sum(K.square(xm)), K.sum(K.square(ym))))\n",
    "    r = r_num / r_den\n",
    "    r = K.maximum(K.minimum(r, 1.0), -1.0)\n",
    "    return 1 - K.square(r)"
   ]
  },
  {
   "cell_type": "code",
   "execution_count": 21,
   "metadata": {},
   "outputs": [
    {
     "name": "stdout",
     "output_type": "stream",
     "text": [
      "Compiling a model with adam optimizer\n",
      "_________________________________________________________________\n",
      "Layer (type)                 Output Shape              Param #   \n",
      "=================================================================\n",
      "input_1 (InputLayer)         (None, 2001, 5)           0         \n",
      "_________________________________________________________________\n",
      "conv1d_1 (Conv1D)            (None, 2001, 20)          3020      \n",
      "_________________________________________________________________\n",
      "dropout_1 (Dropout)          (None, 2001, 20)          0         \n",
      "_________________________________________________________________\n",
      "conv1d_2 (Conv1D)            (None, 2001, 20)          12020     \n",
      "_________________________________________________________________\n",
      "dropout_2 (Dropout)          (None, 2001, 20)          0         \n",
      "_________________________________________________________________\n",
      "conv1d_3 (Conv1D)            (None, 2001, 20)          12020     \n",
      "_________________________________________________________________\n",
      "dropout_3 (Dropout)          (None, 2001, 20)          0         \n",
      "_________________________________________________________________\n",
      "conv1d_4 (Conv1D)            (None, 2001, 20)          12020     \n",
      "_________________________________________________________________\n",
      "dropout_4 (Dropout)          (None, 2001, 20)          0         \n",
      "_________________________________________________________________\n",
      "conv1d_5 (Conv1D)            (None, 2001, 20)          12020     \n",
      "_________________________________________________________________\n",
      "dropout_5 (Dropout)          (None, 2001, 20)          0         \n",
      "_________________________________________________________________\n",
      "conv1d_6 (Conv1D)            (None, 2001, 20)          12020     \n",
      "_________________________________________________________________\n",
      "dropout_6 (Dropout)          (None, 2001, 20)          0         \n",
      "_________________________________________________________________\n",
      "conv1d_7 (Conv1D)            (None, 2001, 20)          12020     \n",
      "_________________________________________________________________\n",
      "dropout_7 (Dropout)          (None, 2001, 20)          0         \n",
      "_________________________________________________________________\n",
      "conv1d_8 (Conv1D)            (None, 2001, 20)          12020     \n",
      "_________________________________________________________________\n",
      "dropout_8 (Dropout)          (None, 2001, 20)          0         \n",
      "_________________________________________________________________\n",
      "conv1d_9 (Conv1D)            (None, 2001, 20)          12020     \n",
      "_________________________________________________________________\n",
      "dropout_9 (Dropout)          (None, 2001, 20)          0         \n",
      "_________________________________________________________________\n",
      "conv1d_10 (Conv1D)           (None, 2001, 20)          12020     \n",
      "_________________________________________________________________\n",
      "dropout_10 (Dropout)         (None, 2001, 20)          0         \n",
      "_________________________________________________________________\n",
      "conv1d_11 (Conv1D)           (None, 2001, 20)          12020     \n",
      "_________________________________________________________________\n",
      "dropout_11 (Dropout)         (None, 2001, 20)          0         \n",
      "_________________________________________________________________\n",
      "conv1d_12 (Conv1D)           (None, 2001, 10)          4010      \n",
      "_________________________________________________________________\n",
      "dropout_12 (Dropout)         (None, 2001, 10)          0         \n",
      "_________________________________________________________________\n",
      "conv1d_13 (Conv1D)           (None, 2001, 10)          2010      \n",
      "_________________________________________________________________\n",
      "dropout_13 (Dropout)         (None, 2001, 10)          0         \n",
      "_________________________________________________________________\n",
      "conv1d_14 (Conv1D)           (None, 2001, 10)          2010      \n",
      "_________________________________________________________________\n",
      "dropout_14 (Dropout)         (None, 2001, 10)          0         \n",
      "_________________________________________________________________\n",
      "conv1d_15 (Conv1D)           (None, 2001, 10)          2010      \n",
      "_________________________________________________________________\n",
      "dropout_15 (Dropout)         (None, 2001, 10)          0         \n",
      "_________________________________________________________________\n",
      "conv1d_16 (Conv1D)           (None, 2001, 10)          2010      \n",
      "_________________________________________________________________\n",
      "dropout_16 (Dropout)         (None, 2001, 10)          0         \n",
      "_________________________________________________________________\n",
      "conv1d_17 (Conv1D)           (None, 2001, 10)          2010      \n",
      "_________________________________________________________________\n",
      "dropout_17 (Dropout)         (None, 2001, 10)          0         \n",
      "_________________________________________________________________\n",
      "conv1d_18 (Conv1D)           (None, 2001, 1)           51        \n",
      "=================================================================\n",
      "Total params: 137,331\n",
      "Trainable params: 137,331\n",
      "Non-trainable params: 0\n",
      "_________________________________________________________________\n",
      "None\n"
     ]
    }
   ],
   "source": [
    "import tensorflow as tf\n",
    "# setting optimizer\n",
    "# adam = optimizers.Adam(clipnorm=1.)\n",
    "adam = optimizers.Adam()\n",
    "\n",
    "print \"Compiling a model with adam optimizer\"\n",
    "model.compile(loss=pearson_loss,\n",
    "              optimizer=adam,\n",
    "              metrics=[pearson])\n",
    "\n",
    "tensorboard = TensorBoard(log_dir=\"logs/\", write_grads=True)\n",
    "reduce_lr = ReduceLROnPlateau(monitor='val_loss',\n",
    "                              factor=0.2,\n",
    "                              patience=5,\n",
    "                              min_lr=0.001)\n",
    "\n",
    "print model.summary()"
   ]
  },
  {
   "cell_type": "code",
   "execution_count": 22,
   "metadata": {
    "collapsed": true
   },
   "outputs": [],
   "source": [
    "save_freq = evaluation_freq\n",
    "output_dir = \"plots\"\n",
    "model_dir = \"models\"\n",
    "pickle_dir = \"pickles\"\n",
    "import pickle\n",
    "# callback function for plotting loss graph for every 500 epochs\n",
    "class Plot_Train_Loss_Callback(Callback):\n",
    "    def on_train_begin(self, logs={}):\n",
    "        self.losses = []\n",
    "        self.pearsons = []\n",
    "        self.lrs = []\n",
    "        self.val_losses = []\n",
    "        self.val_pearsons = []\n",
    "        self.epochs = 0\n",
    "\n",
    "    def on_epoch_end(self, batch, logs={}):\n",
    "        #'loss': 'pearson': 'lr': 'val_loss': 'val_pearson'\n",
    "        self.losses.append(logs['loss'])\n",
    "        self.pearsons.append(logs['pearson'])\n",
    "        self.lrs.append(logs['lr'])\n",
    "        self.val_losses.append(logs['val_loss'])\n",
    "        self.val_pearsons.append(logs['val_pearson'])\n",
    "        self.epochs += 1\n",
    "        if self.epochs % save_freq == 0:\n",
    "            self.model.save(os.path.join(model_dir, 'model_'+str(self.epochs)+\".h5\"))\n",
    "            pickle.dump(self.losses, open(os.path.join(pickle_dir, 'loss_'+str(self.epochs)+\".p\"), 'wb'))\n",
    "            pickle.dump(self.pearsons, open(os.path.join(pickle_dir, 'pearson_'+str(self.epochs)+\".p\"), 'wb'))\n",
    "            pickle.dump(self.lrs, open(os.path.join(pickle_dir, 'lr_'+str(self.epochs)+\".p\"), 'wb'))\n",
    "            pickle.dump(self.val_losses, open(os.path.join(pickle_dir, 'val_loss_'+str(self.epochs)+\".p\"), 'wb'))\n",
    "            pickle.dump(self.val_pearsons, open(os.path.join(pickle_dir, 'val_pearson_'+str(self.epochs)+\".p\"), 'wb'))\n",
    "            # summarize history for loss\n",
    "#             plt.plot(range(self.epochs), self.losses)\n",
    "#             plt.title('model loss')\n",
    "#             plt.ylabel('loss')\n",
    "#             plt.xlabel('epoch')\n",
    "#             plt.savefig(os.path.join(output_dir, 'model_train_'+str(self.epochs)+'.png'))\n",
    "#             plt.close()\n",
    "    \n",
    "class Compute_Pearson_Callback(Callback):\n",
    "    def __init__(self, x_train, y_train):\n",
    "        self.x_train, self.y_train = x_train, y_train\n",
    "\n",
    "    def on_train_begin(self, logs={}):\n",
    "        self.p_train_history = []\n",
    "        self.epochs = 0\n",
    "\n",
    "    def on_epoch_end(self, batch, logs={}):\n",
    "        self.epochs += 1\n",
    "        x_train, y_train = self.x_train, self.y_train\n",
    "        y_pred_train = self.model.predict(x_train)\n",
    "        p_train_list = []\n",
    "        for y_t, y_pt in zip(y_train, y_pred_train):\n",
    "            p_train_list.append(pearsonr(y_t.squeeze(), y_pt.squeeze()))\n",
    "        p_train = np.mean(p_train_list)\n",
    "        print \"Train Pearson Corr: {}\".format(p_train)\n",
    "        self.p_train_history.append(p_train)\n",
    "        if self.epochs % save_freq == 0:\n",
    "            # record pearson correlation for train\n",
    "            plt.plot(range(self.epochs), self.p_train_history)\n",
    "            plt.title('Pearson Correlation - Train')\n",
    "            plt.ylabel('pearson correlation')\n",
    "            plt.xlabel('epoch')\n",
    "            plt.savefig(os.path.join(output_dir, 'Pearson', 'train_'+str(self.epochs)+'.png'))\n",
    "            plt.close()"
   ]
  },
  {
   "cell_type": "code",
   "execution_count": 23,
   "metadata": {},
   "outputs": [
    {
     "name": "stdout",
     "output_type": "stream",
     "text": [
      "env: CUDA_VISIBLE_DEVICES=4,7\n",
      "Fitting the model...\n",
      "Train on 7500 samples, validate on 2500 samples\n",
      "Epoch 1/50\n",
      "7500/7500 [==============================] - 15s 2ms/step - loss: 0.8805 - pearson: 0.1195 - val_loss: 0.8681 - val_pearson: 0.1319\n",
      "Epoch 2/50\n",
      "7500/7500 [==============================] - 14s 2ms/step - loss: 0.8447 - pearson: 0.1553 - val_loss: 0.8530 - val_pearson: 0.1470\n",
      "Epoch 3/50\n",
      "7500/7500 [==============================] - 14s 2ms/step - loss: 0.8336 - pearson: 0.1664 - val_loss: 0.8515 - val_pearson: 0.1485\n",
      "Epoch 4/50\n",
      "7500/7500 [==============================] - 14s 2ms/step - loss: 0.8283 - pearson: 0.1717 - val_loss: 0.8590 - val_pearson: 0.1410\n",
      "Epoch 5/50\n",
      "7500/7500 [==============================] - 14s 2ms/step - loss: 0.8274 - pearson: 0.1726 - val_loss: 0.8496 - val_pearson: 0.1504\n",
      "Epoch 6/50\n",
      "7500/7500 [==============================] - 14s 2ms/step - loss: 0.8235 - pearson: 0.1765 - val_loss: 0.8469 - val_pearson: 0.1531\n",
      "Epoch 7/50\n",
      "7500/7500 [==============================] - 14s 2ms/step - loss: 0.8207 - pearson: 0.1793 - val_loss: 0.8502 - val_pearson: 0.1498\n",
      "Epoch 8/50\n",
      "7500/7500 [==============================] - 14s 2ms/step - loss: 0.8181 - pearson: 0.1819 - val_loss: 0.8496 - val_pearson: 0.1504\n",
      "Epoch 9/50\n",
      "7500/7500 [==============================] - 14s 2ms/step - loss: 0.8190 - pearson: 0.1810 - val_loss: 0.8489 - val_pearson: 0.1511\n",
      "Epoch 10/50\n",
      "7500/7500 [==============================] - 14s 2ms/step - loss: 0.8143 - pearson: 0.1857 - val_loss: 0.8539 - val_pearson: 0.1461\n",
      "Epoch 11/50\n",
      "7500/7500 [==============================] - 14s 2ms/step - loss: 0.8123 - pearson: 0.1877 - val_loss: 0.8518 - val_pearson: 0.1482\n",
      "Epoch 12/50\n",
      "7500/7500 [==============================] - 14s 2ms/step - loss: 0.8097 - pearson: 0.1903 - val_loss: 0.8445 - val_pearson: 0.1555\n",
      "Epoch 13/50\n",
      "7500/7500 [==============================] - 14s 2ms/step - loss: 0.8115 - pearson: 0.1885 - val_loss: 0.8480 - val_pearson: 0.1520\n",
      "Epoch 14/50\n",
      "7500/7500 [==============================] - 14s 2ms/step - loss: 0.8097 - pearson: 0.1903 - val_loss: 0.8444 - val_pearson: 0.1556\n",
      "Epoch 15/50\n",
      "7500/7500 [==============================] - 14s 2ms/step - loss: 0.8055 - pearson: 0.1945 - val_loss: 0.8463 - val_pearson: 0.1537\n",
      "Epoch 16/50\n",
      "7500/7500 [==============================] - 14s 2ms/step - loss: 0.8087 - pearson: 0.1913 - val_loss: 0.8498 - val_pearson: 0.1502\n",
      "Epoch 17/50\n",
      "7500/7500 [==============================] - 14s 2ms/step - loss: 0.8023 - pearson: 0.1977 - val_loss: 0.8483 - val_pearson: 0.1517\n",
      "Epoch 18/50\n",
      "7500/7500 [==============================] - 14s 2ms/step - loss: 0.8019 - pearson: 0.1981 - val_loss: 0.8420 - val_pearson: 0.1580\n",
      "Epoch 19/50\n",
      "7500/7500 [==============================] - 14s 2ms/step - loss: 0.7994 - pearson: 0.2006 - val_loss: 0.8401 - val_pearson: 0.1599\n",
      "Epoch 20/50\n",
      "7500/7500 [==============================] - 14s 2ms/step - loss: 0.7912 - pearson: 0.2088 - val_loss: 0.8454 - val_pearson: 0.1546\n",
      "Epoch 21/50\n",
      "7500/7500 [==============================] - 14s 2ms/step - loss: 0.7931 - pearson: 0.2069 - val_loss: 0.8499 - val_pearson: 0.1501\n",
      "Epoch 22/50\n",
      "7500/7500 [==============================] - 14s 2ms/step - loss: 0.7917 - pearson: 0.2083 - val_loss: 0.8413 - val_pearson: 0.1587\n",
      "Epoch 23/50\n",
      "7500/7500 [==============================] - 14s 2ms/step - loss: 0.7882 - pearson: 0.2118 - val_loss: 0.8545 - val_pearson: 0.1455\n",
      "Epoch 24/50\n",
      "7500/7500 [==============================] - 14s 2ms/step - loss: 0.7899 - pearson: 0.2101 - val_loss: 0.8404 - val_pearson: 0.1596\n",
      "Epoch 25/50\n",
      "7500/7500 [==============================] - 14s 2ms/step - loss: 0.7847 - pearson: 0.2153 - val_loss: 0.8517 - val_pearson: 0.1483\n",
      "Epoch 26/50\n",
      "7500/7500 [==============================] - 14s 2ms/step - loss: 0.7784 - pearson: 0.2216 - val_loss: 0.8534 - val_pearson: 0.1466\n",
      "Epoch 27/50\n",
      "7500/7500 [==============================] - 14s 2ms/step - loss: 0.7808 - pearson: 0.2192 - val_loss: 0.8448 - val_pearson: 0.1552\n",
      "Epoch 28/50\n",
      "7500/7500 [==============================] - 14s 2ms/step - loss: 0.7726 - pearson: 0.2274 - val_loss: 0.8425 - val_pearson: 0.1575\n",
      "Epoch 29/50\n",
      "7500/7500 [==============================] - 14s 2ms/step - loss: 0.7796 - pearson: 0.2204 - val_loss: 0.8424 - val_pearson: 0.1576\n",
      "Epoch 30/50\n",
      "7500/7500 [==============================] - 14s 2ms/step - loss: 0.7716 - pearson: 0.2284 - val_loss: 0.8426 - val_pearson: 0.1574\n",
      "Epoch 31/50\n",
      "7500/7500 [==============================] - 14s 2ms/step - loss: 0.7704 - pearson: 0.2296 - val_loss: 0.8460 - val_pearson: 0.1540\n",
      "Epoch 32/50\n",
      "7500/7500 [==============================] - 14s 2ms/step - loss: 0.7673 - pearson: 0.2327 - val_loss: 0.8424 - val_pearson: 0.1576\n",
      "Epoch 33/50\n",
      "7500/7500 [==============================] - 14s 2ms/step - loss: 0.7614 - pearson: 0.2386 - val_loss: 0.8475 - val_pearson: 0.1525\n",
      "Epoch 34/50\n",
      "7500/7500 [==============================] - 14s 2ms/step - loss: 0.7711 - pearson: 0.2289 - val_loss: 0.8464 - val_pearson: 0.1536\n",
      "Epoch 35/50\n",
      "7500/7500 [==============================] - 14s 2ms/step - loss: 0.7502 - pearson: 0.2498 - val_loss: 0.8452 - val_pearson: 0.1548\n",
      "Epoch 36/50\n",
      "7500/7500 [==============================] - 14s 2ms/step - loss: 0.7620 - pearson: 0.2380 - val_loss: 0.8484 - val_pearson: 0.1516\n",
      "Epoch 37/50\n",
      "7500/7500 [==============================] - 14s 2ms/step - loss: 0.7600 - pearson: 0.2400 - val_loss: 0.8516 - val_pearson: 0.1484\n",
      "Epoch 38/50\n",
      "7500/7500 [==============================] - 14s 2ms/step - loss: 0.7563 - pearson: 0.2437 - val_loss: 0.8389 - val_pearson: 0.1611\n",
      "Epoch 39/50\n",
      "7500/7500 [==============================] - 14s 2ms/step - loss: 0.7516 - pearson: 0.2484 - val_loss: 0.8445 - val_pearson: 0.1555\n",
      "Epoch 40/50\n",
      "7500/7500 [==============================] - 14s 2ms/step - loss: 0.7483 - pearson: 0.2517 - val_loss: 0.8485 - val_pearson: 0.1515\n",
      "Epoch 41/50\n",
      "7500/7500 [==============================] - 14s 2ms/step - loss: 0.7596 - pearson: 0.2404 - val_loss: 0.8434 - val_pearson: 0.1566\n",
      "Epoch 42/50\n",
      "7500/7500 [==============================] - 14s 2ms/step - loss: 0.7456 - pearson: 0.2544 - val_loss: 0.8416 - val_pearson: 0.1584\n",
      "Epoch 43/50\n",
      "7500/7500 [==============================] - 14s 2ms/step - loss: 0.7430 - pearson: 0.2570 - val_loss: 0.8423 - val_pearson: 0.1577\n",
      "Epoch 44/50\n",
      "7500/7500 [==============================] - 14s 2ms/step - loss: 0.7467 - pearson: 0.2533 - val_loss: 0.8437 - val_pearson: 0.1563\n",
      "Epoch 45/50\n",
      "7500/7500 [==============================] - 14s 2ms/step - loss: 0.7415 - pearson: 0.2585 - val_loss: 0.8472 - val_pearson: 0.1528\n",
      "Epoch 46/50\n",
      "7500/7500 [==============================] - 14s 2ms/step - loss: 0.7413 - pearson: 0.2587 - val_loss: 0.8481 - val_pearson: 0.1519\n",
      "Epoch 47/50\n",
      "7500/7500 [==============================] - 14s 2ms/step - loss: 0.7489 - pearson: 0.2511 - val_loss: 0.8476 - val_pearson: 0.1524\n",
      "Epoch 48/50\n",
      "7500/7500 [==============================] - 14s 2ms/step - loss: 0.7418 - pearson: 0.2582 - val_loss: 0.8537 - val_pearson: 0.1463\n",
      "Epoch 49/50\n",
      "7500/7500 [==============================] - 14s 2ms/step - loss: 0.7346 - pearson: 0.2654 - val_loss: 0.8496 - val_pearson: 0.1504\n",
      "Epoch 50/50\n",
      "7500/7500 [==============================] - 14s 2ms/step - loss: 0.7337 - pearson: 0.2663 - val_loss: 0.8471 - val_pearson: 0.1529\n",
      "1000/1000 [==============================] - 1s 729us/step\n",
      "[('loss', 0.73720287895202641), ('pearson', 0.26279712969064711)]\n",
      "Test spearman: -0.30936922827\n",
      "Train on 7500 samples, validate on 2500 samples\n",
      "Epoch 1/50\n",
      "7500/7500 [==============================] - 14s 2ms/step - loss: 0.7367 - pearson: 0.2633 - val_loss: 0.8513 - val_pearson: 0.1487\n",
      "Epoch 2/50\n",
      "7500/7500 [==============================] - 14s 2ms/step - loss: 0.7266 - pearson: 0.2734 - val_loss: 0.8460 - val_pearson: 0.1540\n",
      "Epoch 3/50\n",
      "7500/7500 [==============================] - 14s 2ms/step - loss: 0.7261 - pearson: 0.2739 - val_loss: 0.8504 - val_pearson: 0.1496\n",
      "Epoch 4/50\n",
      "7500/7500 [==============================] - 14s 2ms/step - loss: 0.7229 - pearson: 0.2771 - val_loss: 0.8470 - val_pearson: 0.1530\n",
      "Epoch 5/50\n",
      "7500/7500 [==============================] - 14s 2ms/step - loss: 0.7363 - pearson: 0.2637 - val_loss: 0.8495 - val_pearson: 0.1505\n"
     ]
    },
    {
     "name": "stdout",
     "output_type": "stream",
     "text": [
      "Epoch 6/50\n",
      "7500/7500 [==============================] - 14s 2ms/step - loss: 0.7337 - pearson: 0.2663 - val_loss: 0.8399 - val_pearson: 0.1601\n",
      "Epoch 7/50\n",
      "7500/7500 [==============================] - 14s 2ms/step - loss: 0.7253 - pearson: 0.2747 - val_loss: 0.8398 - val_pearson: 0.1602\n",
      "Epoch 8/50\n",
      "7500/7500 [==============================] - 14s 2ms/step - loss: 0.7292 - pearson: 0.2708 - val_loss: 0.8443 - val_pearson: 0.1557\n",
      "Epoch 9/50\n",
      "7500/7500 [==============================] - 14s 2ms/step - loss: 0.7262 - pearson: 0.2738 - val_loss: 0.8446 - val_pearson: 0.1554\n",
      "Epoch 10/50\n",
      "7500/7500 [==============================] - 14s 2ms/step - loss: 0.7257 - pearson: 0.2743 - val_loss: 0.8465 - val_pearson: 0.1535\n",
      "Epoch 11/50\n",
      "7500/7500 [==============================] - 14s 2ms/step - loss: 0.7148 - pearson: 0.2852 - val_loss: 0.8508 - val_pearson: 0.1492\n",
      "Epoch 12/50\n",
      "7500/7500 [==============================] - 14s 2ms/step - loss: 0.7241 - pearson: 0.2759 - val_loss: 0.8498 - val_pearson: 0.1502\n",
      "Epoch 13/50\n",
      "7500/7500 [==============================] - 14s 2ms/step - loss: 0.7184 - pearson: 0.2816 - val_loss: 0.8557 - val_pearson: 0.1443\n",
      "Epoch 14/50\n",
      "7500/7500 [==============================] - 14s 2ms/step - loss: 0.7201 - pearson: 0.2799 - val_loss: 0.8481 - val_pearson: 0.1519\n",
      "Epoch 15/50\n",
      "7500/7500 [==============================] - 14s 2ms/step - loss: 0.7112 - pearson: 0.2888 - val_loss: 0.8518 - val_pearson: 0.1482\n",
      "Epoch 16/50\n",
      "7500/7500 [==============================] - 14s 2ms/step - loss: 0.7228 - pearson: 0.2772 - val_loss: 0.8484 - val_pearson: 0.1516\n",
      "Epoch 17/50\n",
      "7500/7500 [==============================] - 14s 2ms/step - loss: 0.7100 - pearson: 0.2900 - val_loss: 0.8508 - val_pearson: 0.1492\n",
      "Epoch 18/50\n",
      "7500/7500 [==============================] - 14s 2ms/step - loss: 0.7119 - pearson: 0.2881 - val_loss: 0.8476 - val_pearson: 0.1524\n",
      "Epoch 19/50\n",
      "7500/7500 [==============================] - 14s 2ms/step - loss: 0.7211 - pearson: 0.2789 - val_loss: 0.8499 - val_pearson: 0.1501\n",
      "Epoch 20/50\n",
      "7500/7500 [==============================] - 14s 2ms/step - loss: 0.7162 - pearson: 0.2838 - val_loss: 0.8538 - val_pearson: 0.1462\n",
      "Epoch 21/50\n",
      "7500/7500 [==============================] - 14s 2ms/step - loss: 0.7208 - pearson: 0.2792 - val_loss: 0.8442 - val_pearson: 0.1558\n",
      "Epoch 22/50\n",
      "7500/7500 [==============================] - 14s 2ms/step - loss: 0.7146 - pearson: 0.2854 - val_loss: 0.8404 - val_pearson: 0.1596\n",
      "Epoch 23/50\n",
      "7500/7500 [==============================] - 14s 2ms/step - loss: 0.7186 - pearson: 0.2814 - val_loss: 0.8423 - val_pearson: 0.1577\n",
      "Epoch 24/50\n",
      "7500/7500 [==============================] - 14s 2ms/step - loss: 0.6999 - pearson: 0.3001 - val_loss: 0.8455 - val_pearson: 0.1545\n",
      "Epoch 25/50\n",
      "7500/7500 [==============================] - 14s 2ms/step - loss: 0.7170 - pearson: 0.2830 - val_loss: 0.8360 - val_pearson: 0.1640\n",
      "Epoch 26/50\n",
      "7500/7500 [==============================] - 14s 2ms/step - loss: 0.7129 - pearson: 0.2871 - val_loss: 0.8581 - val_pearson: 0.1419\n",
      "Epoch 27/50\n",
      "7500/7500 [==============================] - 14s 2ms/step - loss: 0.7152 - pearson: 0.2848 - val_loss: 0.8509 - val_pearson: 0.1491\n",
      "Epoch 28/50\n",
      "7500/7500 [==============================] - 14s 2ms/step - loss: 0.9879 - pearson: 0.0121 - val_loss: 1.0000 - val_pearson: 0.0000e+00\n",
      "Epoch 29/50\n",
      "7500/7500 [==============================] - 14s 2ms/step - loss: 1.0000 - pearson: 0.0000e+00 - val_loss: 1.0000 - val_pearson: 0.0000e+00\n",
      "Epoch 30/50\n",
      "7500/7500 [==============================] - 14s 2ms/step - loss: 1.0000 - pearson: 0.0000e+00 - val_loss: 1.0000 - val_pearson: 0.0000e+00\n",
      "Epoch 31/50\n",
      "7500/7500 [==============================] - 14s 2ms/step - loss: 1.0000 - pearson: 0.0000e+00 - val_loss: 1.0000 - val_pearson: 0.0000e+00\n",
      "Epoch 32/50\n",
      "7500/7500 [==============================] - 14s 2ms/step - loss: 1.0000 - pearson: 0.0000e+00 - val_loss: 1.0000 - val_pearson: 0.0000e+00\n",
      "Epoch 33/50\n",
      "7500/7500 [==============================] - 14s 2ms/step - loss: 1.0000 - pearson: 0.0000e+00 - val_loss: 1.0000 - val_pearson: 0.0000e+00\n",
      "Epoch 34/50\n",
      "7500/7500 [==============================] - 14s 2ms/step - loss: 1.0000 - pearson: 0.0000e+00 - val_loss: 1.0000 - val_pearson: 0.0000e+00\n",
      "Epoch 35/50\n",
      "7500/7500 [==============================] - 14s 2ms/step - loss: 1.0000 - pearson: 0.0000e+00 - val_loss: 1.0000 - val_pearson: 0.0000e+00\n",
      "Epoch 36/50\n",
      "5184/7500 [===================>..........] - ETA: 3s - loss: 1.0000 - pearson: 0.0000e+00"
     ]
    },
    {
     "ename": "KeyboardInterrupt",
     "evalue": "",
     "output_type": "error",
     "traceback": [
      "\u001b[0;31m\u001b[0m",
      "\u001b[0;31mKeyboardInterrupt\u001b[0mTraceback (most recent call last)",
      "\u001b[0;32m<ipython-input-23-f57a0333bb8f>\u001b[0m in \u001b[0;36m<module>\u001b[0;34m()\u001b[0m\n\u001b[1;32m     13\u001b[0m               callbacks=[tensorboard,\n\u001b[1;32m     14\u001b[0m                          \u001b[0mreduce_lr\u001b[0m\u001b[0;34m,\u001b[0m\u001b[0;34m\u001b[0m\u001b[0m\n\u001b[0;32m---> 15\u001b[0;31m                          Plot_Train_Loss_Callback()])\n\u001b[0m\u001b[1;32m     16\u001b[0m \u001b[0;34m\u001b[0m\u001b[0m\n\u001b[1;32m     17\u001b[0m     \u001b[0;31m# evaluate the model\u001b[0m\u001b[0;34m\u001b[0m\u001b[0;34m\u001b[0m\u001b[0m\n",
      "\u001b[0;32m/users/jesikmin/anaconda2/envs/genomelake_env/lib/python2.7/site-packages/keras/engine/training.pyc\u001b[0m in \u001b[0;36mfit\u001b[0;34m(self, x, y, batch_size, epochs, verbose, callbacks, validation_split, validation_data, shuffle, class_weight, sample_weight, initial_epoch, steps_per_epoch, validation_steps, **kwargs)\u001b[0m\n\u001b[1;32m   1667\u001b[0m                               \u001b[0minitial_epoch\u001b[0m\u001b[0;34m=\u001b[0m\u001b[0minitial_epoch\u001b[0m\u001b[0;34m,\u001b[0m\u001b[0;34m\u001b[0m\u001b[0m\n\u001b[1;32m   1668\u001b[0m                               \u001b[0msteps_per_epoch\u001b[0m\u001b[0;34m=\u001b[0m\u001b[0msteps_per_epoch\u001b[0m\u001b[0;34m,\u001b[0m\u001b[0;34m\u001b[0m\u001b[0m\n\u001b[0;32m-> 1669\u001b[0;31m                               validation_steps=validation_steps)\n\u001b[0m\u001b[1;32m   1670\u001b[0m \u001b[0;34m\u001b[0m\u001b[0m\n\u001b[1;32m   1671\u001b[0m     def evaluate(self, x=None, y=None,\n",
      "\u001b[0;32m/users/jesikmin/anaconda2/envs/genomelake_env/lib/python2.7/site-packages/keras/engine/training.pyc\u001b[0m in \u001b[0;36m_fit_loop\u001b[0;34m(self, f, ins, out_labels, batch_size, epochs, verbose, callbacks, val_f, val_ins, shuffle, callback_metrics, initial_epoch, steps_per_epoch, validation_steps)\u001b[0m\n\u001b[1;32m   1204\u001b[0m                         \u001b[0mins_batch\u001b[0m\u001b[0;34m[\u001b[0m\u001b[0mi\u001b[0m\u001b[0;34m]\u001b[0m \u001b[0;34m=\u001b[0m \u001b[0mins_batch\u001b[0m\u001b[0;34m[\u001b[0m\u001b[0mi\u001b[0m\u001b[0;34m]\u001b[0m\u001b[0;34m.\u001b[0m\u001b[0mtoarray\u001b[0m\u001b[0;34m(\u001b[0m\u001b[0;34m)\u001b[0m\u001b[0;34m\u001b[0m\u001b[0m\n\u001b[1;32m   1205\u001b[0m \u001b[0;34m\u001b[0m\u001b[0m\n\u001b[0;32m-> 1206\u001b[0;31m                     \u001b[0mouts\u001b[0m \u001b[0;34m=\u001b[0m \u001b[0mf\u001b[0m\u001b[0;34m(\u001b[0m\u001b[0mins_batch\u001b[0m\u001b[0;34m)\u001b[0m\u001b[0;34m\u001b[0m\u001b[0m\n\u001b[0m\u001b[1;32m   1207\u001b[0m                     \u001b[0;32mif\u001b[0m \u001b[0;32mnot\u001b[0m \u001b[0misinstance\u001b[0m\u001b[0;34m(\u001b[0m\u001b[0mouts\u001b[0m\u001b[0;34m,\u001b[0m \u001b[0mlist\u001b[0m\u001b[0;34m)\u001b[0m\u001b[0;34m:\u001b[0m\u001b[0;34m\u001b[0m\u001b[0m\n\u001b[1;32m   1208\u001b[0m                         \u001b[0mouts\u001b[0m \u001b[0;34m=\u001b[0m \u001b[0;34m[\u001b[0m\u001b[0mouts\u001b[0m\u001b[0;34m]\u001b[0m\u001b[0;34m\u001b[0m\u001b[0m\n",
      "\u001b[0;32m/users/jesikmin/anaconda2/envs/genomelake_env/lib/python2.7/site-packages/keras/backend/tensorflow_backend.pyc\u001b[0m in \u001b[0;36m__call__\u001b[0;34m(self, inputs)\u001b[0m\n\u001b[1;32m   2473\u001b[0m         \u001b[0msession\u001b[0m \u001b[0;34m=\u001b[0m \u001b[0mget_session\u001b[0m\u001b[0;34m(\u001b[0m\u001b[0;34m)\u001b[0m\u001b[0;34m\u001b[0m\u001b[0m\n\u001b[1;32m   2474\u001b[0m         updated = session.run(fetches=fetches, feed_dict=feed_dict,\n\u001b[0;32m-> 2475\u001b[0;31m                               **self.session_kwargs)\n\u001b[0m\u001b[1;32m   2476\u001b[0m         \u001b[0;32mreturn\u001b[0m \u001b[0mupdated\u001b[0m\u001b[0;34m[\u001b[0m\u001b[0;34m:\u001b[0m\u001b[0mlen\u001b[0m\u001b[0;34m(\u001b[0m\u001b[0mself\u001b[0m\u001b[0;34m.\u001b[0m\u001b[0moutputs\u001b[0m\u001b[0;34m)\u001b[0m\u001b[0;34m]\u001b[0m\u001b[0;34m\u001b[0m\u001b[0m\n\u001b[1;32m   2477\u001b[0m \u001b[0;34m\u001b[0m\u001b[0m\n",
      "\u001b[0;32m/users/jesikmin/anaconda2/envs/genomelake_env/lib/python2.7/site-packages/tensorflow/python/client/session.pyc\u001b[0m in \u001b[0;36mrun\u001b[0;34m(self, fetches, feed_dict, options, run_metadata)\u001b[0m\n\u001b[1;32m    765\u001b[0m     \u001b[0;32mtry\u001b[0m\u001b[0;34m:\u001b[0m\u001b[0;34m\u001b[0m\u001b[0m\n\u001b[1;32m    766\u001b[0m       result = self._run(None, fetches, feed_dict, options_ptr,\n\u001b[0;32m--> 767\u001b[0;31m                          run_metadata_ptr)\n\u001b[0m\u001b[1;32m    768\u001b[0m       \u001b[0;32mif\u001b[0m \u001b[0mrun_metadata\u001b[0m\u001b[0;34m:\u001b[0m\u001b[0;34m\u001b[0m\u001b[0m\n\u001b[1;32m    769\u001b[0m         \u001b[0mproto_data\u001b[0m \u001b[0;34m=\u001b[0m \u001b[0mtf_session\u001b[0m\u001b[0;34m.\u001b[0m\u001b[0mTF_GetBuffer\u001b[0m\u001b[0;34m(\u001b[0m\u001b[0mrun_metadata_ptr\u001b[0m\u001b[0;34m)\u001b[0m\u001b[0;34m\u001b[0m\u001b[0m\n",
      "\u001b[0;32m/users/jesikmin/anaconda2/envs/genomelake_env/lib/python2.7/site-packages/tensorflow/python/client/session.pyc\u001b[0m in \u001b[0;36m_run\u001b[0;34m(self, handle, fetches, feed_dict, options, run_metadata)\u001b[0m\n\u001b[1;32m    963\u001b[0m     \u001b[0;32mif\u001b[0m \u001b[0mfinal_fetches\u001b[0m \u001b[0;32mor\u001b[0m \u001b[0mfinal_targets\u001b[0m\u001b[0;34m:\u001b[0m\u001b[0;34m\u001b[0m\u001b[0m\n\u001b[1;32m    964\u001b[0m       results = self._do_run(handle, final_targets, final_fetches,\n\u001b[0;32m--> 965\u001b[0;31m                              feed_dict_string, options, run_metadata)\n\u001b[0m\u001b[1;32m    966\u001b[0m     \u001b[0;32melse\u001b[0m\u001b[0;34m:\u001b[0m\u001b[0;34m\u001b[0m\u001b[0m\n\u001b[1;32m    967\u001b[0m       \u001b[0mresults\u001b[0m \u001b[0;34m=\u001b[0m \u001b[0;34m[\u001b[0m\u001b[0;34m]\u001b[0m\u001b[0;34m\u001b[0m\u001b[0m\n",
      "\u001b[0;32m/users/jesikmin/anaconda2/envs/genomelake_env/lib/python2.7/site-packages/tensorflow/python/client/session.pyc\u001b[0m in \u001b[0;36m_do_run\u001b[0;34m(self, handle, target_list, fetch_list, feed_dict, options, run_metadata)\u001b[0m\n\u001b[1;32m   1013\u001b[0m     \u001b[0;32mif\u001b[0m \u001b[0mhandle\u001b[0m \u001b[0;32mis\u001b[0m \u001b[0mNone\u001b[0m\u001b[0;34m:\u001b[0m\u001b[0;34m\u001b[0m\u001b[0m\n\u001b[1;32m   1014\u001b[0m       return self._do_call(_run_fn, self._session, feed_dict, fetch_list,\n\u001b[0;32m-> 1015\u001b[0;31m                            target_list, options, run_metadata)\n\u001b[0m\u001b[1;32m   1016\u001b[0m     \u001b[0;32melse\u001b[0m\u001b[0;34m:\u001b[0m\u001b[0;34m\u001b[0m\u001b[0m\n\u001b[1;32m   1017\u001b[0m       return self._do_call(_prun_fn, self._session, handle, feed_dict,\n",
      "\u001b[0;32m/users/jesikmin/anaconda2/envs/genomelake_env/lib/python2.7/site-packages/tensorflow/python/client/session.pyc\u001b[0m in \u001b[0;36m_do_call\u001b[0;34m(self, fn, *args)\u001b[0m\n\u001b[1;32m   1020\u001b[0m   \u001b[0;32mdef\u001b[0m \u001b[0m_do_call\u001b[0m\u001b[0;34m(\u001b[0m\u001b[0mself\u001b[0m\u001b[0;34m,\u001b[0m \u001b[0mfn\u001b[0m\u001b[0;34m,\u001b[0m \u001b[0;34m*\u001b[0m\u001b[0margs\u001b[0m\u001b[0;34m)\u001b[0m\u001b[0;34m:\u001b[0m\u001b[0;34m\u001b[0m\u001b[0m\n\u001b[1;32m   1021\u001b[0m     \u001b[0;32mtry\u001b[0m\u001b[0;34m:\u001b[0m\u001b[0;34m\u001b[0m\u001b[0m\n\u001b[0;32m-> 1022\u001b[0;31m       \u001b[0;32mreturn\u001b[0m \u001b[0mfn\u001b[0m\u001b[0;34m(\u001b[0m\u001b[0;34m*\u001b[0m\u001b[0margs\u001b[0m\u001b[0;34m)\u001b[0m\u001b[0;34m\u001b[0m\u001b[0m\n\u001b[0m\u001b[1;32m   1023\u001b[0m     \u001b[0;32mexcept\u001b[0m \u001b[0merrors\u001b[0m\u001b[0;34m.\u001b[0m\u001b[0mOpError\u001b[0m \u001b[0;32mas\u001b[0m \u001b[0me\u001b[0m\u001b[0;34m:\u001b[0m\u001b[0;34m\u001b[0m\u001b[0m\n\u001b[1;32m   1024\u001b[0m       \u001b[0mmessage\u001b[0m \u001b[0;34m=\u001b[0m \u001b[0mcompat\u001b[0m\u001b[0;34m.\u001b[0m\u001b[0mas_text\u001b[0m\u001b[0;34m(\u001b[0m\u001b[0me\u001b[0m\u001b[0;34m.\u001b[0m\u001b[0mmessage\u001b[0m\u001b[0;34m)\u001b[0m\u001b[0;34m\u001b[0m\u001b[0m\n",
      "\u001b[0;32m/users/jesikmin/anaconda2/envs/genomelake_env/lib/python2.7/site-packages/tensorflow/python/client/session.pyc\u001b[0m in \u001b[0;36m_run_fn\u001b[0;34m(session, feed_dict, fetch_list, target_list, options, run_metadata)\u001b[0m\n\u001b[1;32m   1002\u001b[0m         return tf_session.TF_Run(session, options,\n\u001b[1;32m   1003\u001b[0m                                  \u001b[0mfeed_dict\u001b[0m\u001b[0;34m,\u001b[0m \u001b[0mfetch_list\u001b[0m\u001b[0;34m,\u001b[0m \u001b[0mtarget_list\u001b[0m\u001b[0;34m,\u001b[0m\u001b[0;34m\u001b[0m\u001b[0m\n\u001b[0;32m-> 1004\u001b[0;31m                                  status, run_metadata)\n\u001b[0m\u001b[1;32m   1005\u001b[0m \u001b[0;34m\u001b[0m\u001b[0m\n\u001b[1;32m   1006\u001b[0m     \u001b[0;32mdef\u001b[0m \u001b[0m_prun_fn\u001b[0m\u001b[0;34m(\u001b[0m\u001b[0msession\u001b[0m\u001b[0;34m,\u001b[0m \u001b[0mhandle\u001b[0m\u001b[0;34m,\u001b[0m \u001b[0mfeed_dict\u001b[0m\u001b[0;34m,\u001b[0m \u001b[0mfetch_list\u001b[0m\u001b[0;34m)\u001b[0m\u001b[0;34m:\u001b[0m\u001b[0;34m\u001b[0m\u001b[0m\n",
      "\u001b[0;31mKeyboardInterrupt\u001b[0m: "
     ]
    }
   ],
   "source": [
    "%env CUDA_VISIBLE_DEVICES=4,7\n",
    "print \"Fitting the model...\"\n",
    "test_spearmans = []\n",
    "test_losses = []\n",
    "test_pearsons = []\n",
    "for i in range(num_epochs/evaluation_freq):\n",
    "    model.fit(atac_seq_day0[:10000],\n",
    "              histone_mark_day0[:10000],\n",
    "              batch_size=batch_size,\n",
    "              epochs=evaluation_freq,\n",
    "              validation_split=0.25,   \n",
    "              #shuffle=True,\n",
    "              callbacks=[tensorboard,\n",
    "                         reduce_lr,\n",
    "                         Plot_Train_Loss_Callback()])\n",
    "    \n",
    "    # evaluate the model\n",
    "    scores = model.evaluate(atac_seq_day0[10000:11000], histone_mark_day0[10000:11000])\n",
    "    print zip(model.metrics_names, scores)\n",
    "    test_losses.append(scores[0])\n",
    "    test_pearsons.append(scores[1])\n",
    "    test_prediction = model.predict(atac_seq_day0[10000:11000])\n",
    "    test_spearman_sum = 0.0\n",
    "    for idx, _pred in enumerate(test_prediction):\n",
    "        rho, _ = spearmanr(histone_mark_day0[10000+idx], _pred)\n",
    "        test_spearman_sum += rho\n",
    "    print \"Test spearman: {}\".format(test_spearman_sum * 1.0 / 1000)\n",
    "    test_spearmans.append(test_spearman_sum * 1.0 / 1000)"
   ]
  },
  {
   "cell_type": "code",
   "execution_count": 24,
   "metadata": {},
   "outputs": [
    {
     "data": {
      "text/plain": [
       "Text(0,0.5,u'Test Spearman Coefficient')"
      ]
     },
     "execution_count": 24,
     "metadata": {},
     "output_type": "execute_result"
    },
    {
     "data": {
      "image/png": "[encoded data removed]",
      "text/plain": [
       "<matplotlib.figure.Figure at 0x7f07d0668150>"
      ]
     },
     "metadata": {},
     "output_type": "display_data"
    }
   ],
   "source": [
    "plt.plot(range(len(test_spearmans)), test_spearmans, color='blue')\n",
    "plt.xlabel('Evaluation Epoch')\n",
    "plt.ylabel('Test Spearman Coefficient')"
   ]
  },
  {
   "cell_type": "code",
   "execution_count": 25,
   "metadata": {},
   "outputs": [
    {
     "data": {
      "text/plain": [
       "Text(0,0.5,u'Test Losses')"
      ]
     },
     "execution_count": 25,
     "metadata": {},
     "output_type": "execute_result"
    },
    {
     "data": {
      "image/png": "[encoded data removed]",
      "text/plain": [
       "<matplotlib.figure.Figure at 0x7f07651e63d0>"
      ]
     },
     "metadata": {},
     "output_type": "display_data"
    }
   ],
   "source": [
    "plt.plot(range(len(test_losses)), test_losses, color='blue')\n",
    "plt.xlabel('Evaluation Epoch')\n",
    "plt.ylabel('Test Losses')"
   ]
  },
  {
   "cell_type": "code",
   "execution_count": 26,
   "metadata": {},
   "outputs": [
    {
     "data": {
      "text/plain": [
       "Text(0,0.5,u'Test Pearsons')"
      ]
     },
     "execution_count": 26,
     "metadata": {},
     "output_type": "execute_result"
    },
    {
     "data": {
      "image/png": "[encoded data removed]",
      "text/plain": [
       "<matplotlib.figure.Figure at 0x7f0747413b10>"
      ]
     },
     "metadata": {},
     "output_type": "display_data"
    }
   ],
   "source": [
    "plt.plot(range(len(test_pearsons)), test_pearsons, color='blue')\n",
    "plt.xlabel('Evaluation Epoch')\n",
    "plt.ylabel('Test Pearsons')"
   ]
  },
  {
   "cell_type": "code",
   "execution_count": 27,
   "metadata": {
    "collapsed": true
   },
   "outputs": [],
   "source": [
    "from itertools import izip\n",
    "import subprocess\n",
    "def interval_score_pairs(intervals, scores, merge_type):\n",
    "    return (izip(intervals, scores) if merge_type is None\n",
    "            else merged_scores(scores, intervals, merge_type))\n",
    "def _write_1D_deeplift_track(scores, intervals, file_prefix, merge_type=None,\n",
    "                             CHROM_SIZES='/mnt/data/annotations/by_release/hg19.GRCh37/hg19.chrom.sizes'):\n",
    "    assert scores.ndim == 2\n",
    "\n",
    "    bedgraph = file_prefix + '.bedGraph'\n",
    "    bigwig = file_prefix + '.bw'\n",
    "\n",
    "    print 'Writing 1D track of shape: {}'.format(scores.shape)\n",
    "    print 'Writing to file: {}'.format(bigwig)\n",
    "\n",
    "    with open(bedgraph, 'w') as fp:\n",
    "        for interval, score in interval_score_pairs(intervals, scores,\n",
    "                                                    merge_type):\n",
    "            chrom = interval.chrom\n",
    "            start = interval.start\n",
    "            for score_idx, val in enumerate(score):\n",
    "                fp.write('%s\\t%d\\t%d\\t%g\\n' % (chrom,\n",
    "                                               start + score_idx,\n",
    "                                               start + score_idx + 1,\n",
    "                                               val))\n",
    "    print 'Wrote bedgraph.'\n",
    "\n",
    "    try:\n",
    "        output = subprocess.check_output(\n",
    "            ['wigToBigWig', bedgraph, CHROM_SIZES, bigwig],\n",
    "            stderr=subprocess.STDOUT)\n",
    "        print 'wigToBigWig output: {}'.format(output)\n",
    "    except subprocess.CalledProcessError as e:\n",
    "        print 'wigToBigWig terminated with exit code {}'.format(\n",
    "            e.returncode)\n",
    "        print 'output was:\\n' + e.output\n",
    "\n",
    "    print 'Wrote bigwig.'"
   ]
  },
  {
   "cell_type": "code",
   "execution_count": 28,
   "metadata": {},
   "outputs": [
    {
     "name": "stdout",
     "output_type": "stream",
     "text": [
      "(1000, 2001)\n",
      "Writing 1D track of shape: (1000, 2001)\n",
      "Writing to file: bigwig/test.bw\n",
      "Wrote bedgraph.\n",
      "wigToBigWig terminated with exit code 255\n",
      "output was:\n",
      "Overlap between chr1 15177248 15177249 and chr1 15177248 15177249.\n",
      "Please remove overlaps and try again\n",
      "\n",
      "Wrote bigwig.\n"
     ]
    }
   ],
   "source": [
    "prediction = model.predict(atac_seq_day0[10000:11000]).reshape(1000, 2001)\n",
    "print prediction.shape\n",
    "_write_1D_deeplift_track(prediction, normalized_day0_intervals[10000:11000], \"bigwig/test\")"
   ]
  },
  {
   "cell_type": "code",
   "execution_count": 29,
   "metadata": {},
   "outputs": [
    {
     "name": "stdout",
     "output_type": "stream",
     "text": [
      "(10000, 2001)\n",
      "Writing 1D track of shape: (10000, 2001)\n",
      "Writing to file: bigwig/train.bw\n",
      "Wrote bedgraph.\n",
      "wigToBigWig terminated with exit code 255\n",
      "output was:\n",
      "Overlap between chr1 1284150 1284151 and chr1 1284150 1284151.\n",
      "Please remove overlaps and try again\n",
      "\n",
      "Wrote bigwig.\n"
     ]
    }
   ],
   "source": [
    "prediction = model.predict(atac_seq_day0[0:10000]).reshape(10000, 2001)\n",
    "print prediction.shape\n",
    "_write_1D_deeplift_track(prediction, normalized_day0_intervals[0:10000], \"bigwig/train\")"
   ]
  },
  {
   "cell_type": "code",
   "execution_count": null,
   "metadata": {
    "collapsed": true
   },
   "outputs": [],
   "source": []
  }
 ],
 "metadata": {
  "kernelspec": {
   "display_name": "Python 2",
   "language": "python",
   "name": "python2"
  },
  "language_info": {
   "codemirror_mode": {
    "name": "ipython",
    "version": 2
   },
   "file_extension": ".py",
   "mimetype": "text/x-python",
   "name": "python",
   "nbconvert_exporter": "python",
   "pygments_lexer": "ipython2",
   "version": "2.7.13"
  }
 },
 "nbformat": 4,
 "nbformat_minor": 2
}
