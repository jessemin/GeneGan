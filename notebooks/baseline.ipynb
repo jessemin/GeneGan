{
 "cells": [
  {
   "cell_type": "markdown",
   "metadata": {},
   "source": [
    "# Baseline\n",
    "#### Convert histone mark signals into p-values and use deep CNN for training."
   ]
  },
  {
   "cell_type": "markdown",
   "metadata": {},
   "source": [
    "#### NOTE: Need to activate genomelake environment before this code. Simply type 'genomelake' in terminal."
   ]
  },
  {
   "cell_type": "code",
   "execution_count": 27,
   "metadata": {},
   "outputs": [],
   "source": [
    "import os, sys\n",
    "sys.path.append(\"..\")\n",
    "import random\n",
    "# custom file path package\n",
    "from data import Data_Directories\n",
    "# custom utility package\n",
    "from utils.compute_util import *\n",
    "# package for genomic data\n",
    "from pybedtools import Interval, BedTool\n",
    "from genomelake.extractors import ArrayExtractor, BigwigExtractor\n",
    "# package for plotting\n",
    "import matplotlib.pyplot as plt\n",
    "%matplotlib inline\n",
    "from scipy.stats.stats import pearsonr"
   ]
  },
  {
   "cell_type": "code",
   "execution_count": 2,
   "metadata": {
    "collapsed": true
   },
   "outputs": [],
   "source": [
    "window_size = 2001\n",
    "process_all = False\n",
    "sample_num = 1000"
   ]
  },
  {
   "cell_type": "code",
   "execution_count": 3,
   "metadata": {},
   "outputs": [
    {
     "name": "stdout",
     "output_type": "stream",
     "text": [
      "['day6', 'day3', 'day0']\n",
      "['100', '140']\n",
      "['H3K27me3', 'H3K4me1', 'H3K27ac']\n"
     ]
    }
   ],
   "source": [
    "# retrieve data\n",
    "data = Data_Directories()\n",
    "print data.intervals.keys()\n",
    "print data.input_atac['day0'].keys()\n",
    "print data.output_histone['day0'].keys()"
   ]
  },
  {
   "cell_type": "code",
   "execution_count": 4,
   "metadata": {},
   "outputs": [
    {
     "name": "stdout",
     "output_type": "stream",
     "text": [
      "# of Intervals Extracted for day0: 267226\n",
      "# of Intervals Extracted for day3: 233846\n"
     ]
    }
   ],
   "source": [
    "# get intervals for day0 data\n",
    "day0_intervals = list(BedTool(data.intervals['day0']))\n",
    "print '# of Intervals Extracted for day0: {}'.format(len(day0_intervals))\n",
    "\n",
    "# get intervals for day3 data\n",
    "day3_intervals = list(BedTool(data.intervals['day3']))\n",
    "print '# of Intervals Extracted for day3: {}'.format(len(day3_intervals))"
   ]
  },
  {
   "cell_type": "code",
   "execution_count": 5,
   "metadata": {},
   "outputs": [
    {
     "name": "stdout",
     "output_type": "stream",
     "text": [
      "Finished extracting bigwig for day0, 140bp\n",
      "Finished extracting bigwig for day3, 140bp\n"
     ]
    }
   ],
   "source": [
    "# create an ArrayExtractor for ATAC-seq for day0 with 140 base pairs\n",
    "bw_140bp_day0 = ArrayExtractor(data.input_atac['day0']['140'])\n",
    "print 'Finished extracting bigwig for day0, 140bp'\n",
    "\n",
    "# create an ArrayExtractor for ATAC-seq for day3 with 140 base pairs\n",
    "bw_140bp_day3 = ArrayExtractor(data.input_atac['day3']['140'])\n",
    "print 'Finished extracting bigwig for day3, 140bp'"
   ]
  },
  {
   "cell_type": "code",
   "execution_count": 6,
   "metadata": {},
   "outputs": [
    {
     "name": "stdout",
     "output_type": "stream",
     "text": [
      "Finished extracting bigwig for day0, 140bp\n",
      "Finished extracting bigwig for day3, 140bp\n"
     ]
    }
   ],
   "source": [
    "# create a BigWigExtractor for histone makr 'H3K27ac' for day0\n",
    "bw_histone_mark_day0 = BigwigExtractor(data.output_histone['day0']['H3K27ac'])\n",
    "print 'Finished extracting bigwig for day0, 140bp'\n",
    "\n",
    "# create a BigWigExtractor for histone makr 'H3K27ac' for day3\n",
    "bw_histone_mark_day3 = BigwigExtractor(data.output_histone['day3']['H3K27ac'])\n",
    "print 'Finished extracting bigwig for day3, 140bp'"
   ]
  },
  {
   "cell_type": "code",
   "execution_count": 7,
   "metadata": {},
   "outputs": [
    {
     "name": "stdout",
     "output_type": "stream",
     "text": [
      "Finished normalizing day0 intervals!\n",
      "Finished normalizing day3 intervals!\n"
     ]
    }
   ],
   "source": [
    "# normalize day0 intervals\n",
    "normalized_day0_intervals = [normalize_interval(interval, window_size) for interval in day0_intervals if normalize_interval(interval, window_size)]\n",
    "print 'Finished normalizing day0 intervals!'\n",
    "\n",
    "# normalize day3 intervals\n",
    "normalized_day3_intervals = [normalize_interval(interval, window_size) for interval in day3_intervals if normalize_interval(interval, window_size)]\n",
    "print 'Finished normalizing day3 intervals!'"
   ]
  },
  {
   "cell_type": "code",
   "execution_count": 8,
   "metadata": {},
   "outputs": [
    {
     "name": "stdout",
     "output_type": "stream",
     "text": [
      "Examples of original intervals\n",
      "[(123412027, [123411855, 123412989]), (123411941, [123411855, 123412989]), (131908564, [131908487, 131910071])]\n",
      "Examples of normalized intervals with window size of 2001\n",
      "[[123411027, 123413028], [123410941, 123412942], [131907564, 131909565]]\n"
     ]
    }
   ],
   "source": [
    "assert (len(day0_intervals)==len(normalized_day0_intervals))\n",
    "assert (len(day3_intervals)==len(normalized_day3_intervals))\n",
    "print \"Examples of original intervals\"\n",
    "print [(int(_interval.start)+int(_interval[-1]), [int(_interval.start), int(_interval.end)])\n",
    "       for _interval in day0_intervals[:3]]\n",
    "print \"Examples of normalized intervals with window size of {}\".format(window_size)\n",
    "print [([int(_interval.start), int(_interval.end)])\n",
    "       for _interval in  normalized_day0_intervals[:3]]"
   ]
  },
  {
   "cell_type": "code",
   "execution_count": 9,
   "metadata": {},
   "outputs": [
    {
     "name": "stdout",
     "output_type": "stream",
     "text": [
      "(267226, 2001, 5) (233846, 2001, 5)\n"
     ]
    }
   ],
   "source": [
    "atac_seq_day0 = bw_140bp_day0(normalized_day0_intervals)\n",
    "atac_seq_day3 = bw_140bp_day3(normalized_day3_intervals)\n",
    "print atac_seq_day0.shape, atac_seq_day3.shape"
   ]
  },
  {
   "cell_type": "code",
   "execution_count": 10,
   "metadata": {},
   "outputs": [
    {
     "name": "stdout",
     "output_type": "stream",
     "text": [
      "Before pruning day0: 267226\n",
      "After pruning day0: 267226\n",
      "Before pruning day3: 233846\n",
      "After pruning day3: 233846\n"
     ]
    }
   ],
   "source": [
    "#TODO: put this into utils if possible\n",
    "def prune_invalid_intervals(intervals, bigwig_file):\n",
    "    for _interval in intervals[:]:\n",
    "        try:\n",
    "            bigwig_file([_interval])\n",
    "        except:\n",
    "            intervals.remove(_interval)\n",
    "            pass\n",
    "        \n",
    "print \"Before pruning day0: {}\".format(len(normalized_day0_intervals))\n",
    "prune_invalid_intervals(normalized_day0_intervals, bw_140bp_day0)\n",
    "print \"After pruning day0: {}\".format(len(normalized_day0_intervals))\n",
    "\n",
    "print \"Before pruning day3: {}\".format(len(normalized_day3_intervals))\n",
    "prune_invalid_intervals(normalized_day3_intervals, bw_140bp_day3)\n",
    "print \"After pruning day3: {}\".format(len(normalized_day3_intervals))"
   ]
  },
  {
   "cell_type": "code",
   "execution_count": 11,
   "metadata": {},
   "outputs": [
    {
     "name": "stdout",
     "output_type": "stream",
     "text": [
      "Dimension of ATAC-seq signal: (1, 2001, 5)\n"
     ]
    }
   ],
   "source": [
    "print \"Dimension of ATAC-seq signal: {}\".format(bw_140bp_day0(normalized_day0_intervals[:1]).shape)"
   ]
  },
  {
   "cell_type": "code",
   "execution_count": 12,
   "metadata": {},
   "outputs": [
    {
     "name": "stdout",
     "output_type": "stream",
     "text": [
      "Dimension of histone mark signal: (1, 2001)\n"
     ]
    }
   ],
   "source": [
    "print \"Dimension of histone mark signal: {}\".format(bw_histone_mark_day0(normalized_day0_intervals[:1]).shape)"
   ]
  },
  {
   "cell_type": "code",
   "execution_count": 13,
   "metadata": {
    "collapsed": true
   },
   "outputs": [],
   "source": [
    "def get_p_value(val):\n",
    "    # histone_mark values are: -log_10(p-value)\n",
    "    return np.power(10.0, -val)"
   ]
  },
  {
   "cell_type": "code",
   "execution_count": 14,
   "metadata": {},
   "outputs": [
    {
     "name": "stdout",
     "output_type": "stream",
     "text": [
      "(267226, 2001)\n",
      "(233846, 2001)\n"
     ]
    }
   ],
   "source": [
    "# replace nan values with zeros and convert it to p-values\n",
    "histone_mark_day0 = np.nan_to_num(bw_histone_mark_day0(normalized_day0_intervals))\n",
    "histone_mark_day0 = np.apply_along_axis(get_p_value, 1, histone_mark_day0)\n",
    "print histone_mark_day0.shape\n",
    "\n",
    "histone_mark_day3 = np.nan_to_num(bw_histone_mark_day3(normalized_day3_intervals))\n",
    "histone_mark_day3 = np.apply_along_axis(get_p_value, 1, histone_mark_day3)\n",
    "print histone_mark_day3.shape"
   ]
  },
  {
   "cell_type": "code",
   "execution_count": 15,
   "metadata": {},
   "outputs": [
    {
     "name": "stdout",
     "output_type": "stream",
     "text": [
      "(267226, 2001, 1) (233846, 2001, 1)\n"
     ]
    }
   ],
   "source": [
    "histone_mark_day0 = np.expand_dims(histone_mark_day0, axis=2)\n",
    "histone_mark_day3 = np.expand_dims(histone_mark_day3, axis=2)\n",
    "print histone_mark_day0.shape, histone_mark_day3.shape"
   ]
  },
  {
   "cell_type": "code",
   "execution_count": 16,
   "metadata": {},
   "outputs": [
    {
     "name": "stdout",
     "output_type": "stream",
     "text": [
      "Example of p-value conversion result:\n",
      "\tRaw value: [ 0.01014  0.01014  0.01014  0.02435  0.02435]\n",
      "\t  p-value: [ 0.97692227  0.97692227  0.97692227  0.94547486  0.94547486]\n"
     ]
    }
   ],
   "source": [
    "print \"Example of p-value conversion result:\"\n",
    "print \"\\tRaw value: {}\".format(bw_histone_mark_day0(normalized_day0_intervals[:1])[0][:5].reshape(-1))\n",
    "print \"\\t  p-value: {}\".format(histone_mark_day0[0][:5].reshape(-1))"
   ]
  },
  {
   "cell_type": "code",
   "execution_count": 17,
   "metadata": {
    "collapsed": true
   },
   "outputs": [],
   "source": [
    "from keras.layers import Input, Dense, Conv1D, Dropout\n",
    "from keras.models import Model\n",
    "from keras import optimizers\n",
    "from keras import metrics\n",
    "from keras import backend as K\n",
    "from keras.callbacks import Callback, TensorBoard, ReduceLROnPlateau"
   ]
  },
  {
   "cell_type": "code",
   "execution_count": 18,
   "metadata": {
    "collapsed": true
   },
   "outputs": [],
   "source": [
    "dropout_rate = 0.5\n",
    "# parameters for first conv layer\n",
    "hidden_filters_1 = 20\n",
    "hidden_kernel_size_1 = 30\n",
    "# parameters for second conv layer\n",
    "hidden_filters_2 = 10\n",
    "hidden_kernel_size_2 = 20\n",
    "# parameters for the output layer\n",
    "output_filters = 1\n",
    "output_kernel_size = 5\n",
    "# parameters for training\n",
    "batch_size = 64\n",
    "num_epochs = 1000\n",
    "evaluation_freq = 50"
   ]
  },
  {
   "cell_type": "code",
   "execution_count": 40,
   "metadata": {
    "collapsed": true
   },
   "outputs": [],
   "source": [
    "'''\n",
    "Baseline CNN (based on KERAS functional API)\n",
    "'''\n",
    "# \n",
    "inputs = Input(shape=(window_size, 5, ))\n",
    "x = Conv1D(\n",
    "    filters=hidden_filters_1,\n",
    "    kernel_size=hidden_kernel_size_1,\n",
    "    padding='same',\n",
    "    activation='relu',\n",
    "    strides=1)(inputs)\n",
    "x = Dropout(dropout_rate)(x)\n",
    "\n",
    "x = Conv1D(\n",
    "    filters=hidden_filters_1,\n",
    "    kernel_size=hidden_kernel_size_1,\n",
    "    padding='same',\n",
    "    activation='relu',\n",
    "    strides=1)(x)\n",
    "x = Dropout(dropout_rate)(x)\n",
    "\n",
    "x = Conv1D(\n",
    "    filters=hidden_filters_1,\n",
    "    kernel_size=hidden_kernel_size_1,\n",
    "    padding='same',\n",
    "    activation='relu',\n",
    "    strides=1)(x)\n",
    "x = Dropout(dropout_rate)(x)\n",
    "\n",
    "x = Conv1D(\n",
    "    filters=hidden_filters_1,\n",
    "    kernel_size=hidden_kernel_size_1,\n",
    "    padding='same',\n",
    "    activation='relu',\n",
    "    strides=1)(x)\n",
    "x = Dropout(dropout_rate)(x)\n",
    "\n",
    "x = Conv1D(\n",
    "    filters=hidden_filters_1,\n",
    "    kernel_size=hidden_kernel_size_1,\n",
    "    padding='same',\n",
    "    activation='relu',\n",
    "    strides=1)(x)\n",
    "x = Dropout(dropout_rate)(x)\n",
    "\n",
    "x = Conv1D(\n",
    "    filters=hidden_filters_1,\n",
    "    kernel_size=hidden_kernel_size_1,\n",
    "    padding='same',\n",
    "    activation='relu',\n",
    "    strides=1)(x)\n",
    "x = Dropout(dropout_rate)(x)\n",
    "x = Conv1D(\n",
    "    filters=hidden_filters_1,\n",
    "    kernel_size=hidden_kernel_size_1,\n",
    "    padding='same',\n",
    "    activation='relu',\n",
    "    strides=1)(x)\n",
    "x = Dropout(dropout_rate)(x)\n",
    "\n",
    "x = Conv1D(\n",
    "    filters=hidden_filters_1,\n",
    "    kernel_size=hidden_kernel_size_1,\n",
    "    padding='same',\n",
    "    activation='relu',\n",
    "    strides=1)(x)\n",
    "x = Dropout(dropout_rate)(x)\n",
    "\n",
    "x = Conv1D(\n",
    "    filters=hidden_filters_1,\n",
    "    kernel_size=hidden_kernel_size_1,\n",
    "    padding='same',\n",
    "    activation='relu',\n",
    "    strides=1)(x)\n",
    "x = Dropout(dropout_rate)(x)\n",
    "\n",
    "x = Conv1D(\n",
    "    filters=hidden_filters_1,\n",
    "    kernel_size=hidden_kernel_size_1,\n",
    "    padding='same',\n",
    "    activation='relu',\n",
    "    strides=1)(x)\n",
    "x = Dropout(dropout_rate)(x)\n",
    "\n",
    "x = Conv1D(\n",
    "    filters=hidden_filters_1,\n",
    "    kernel_size=hidden_kernel_size_1,\n",
    "    padding='same',\n",
    "    activation='relu',\n",
    "    strides=1)(x)\n",
    "x = Dropout(dropout_rate)(x)\n",
    "\n",
    "\n",
    "x = Conv1D(\n",
    "    filters=hidden_filters_2,\n",
    "    kernel_size=hidden_kernel_size_2,\n",
    "    padding='same',\n",
    "    activation='relu',\n",
    "    strides=1)(x)\n",
    "x = Dropout(dropout_rate)(x)\n",
    "x = Conv1D(\n",
    "    filters=hidden_filters_2,\n",
    "    kernel_size=hidden_kernel_size_2,\n",
    "    padding='same',\n",
    "    activation='relu',\n",
    "    strides=1)(x)\n",
    "x = Dropout(dropout_rate)(x)\n",
    "x = Conv1D(\n",
    "    filters=hidden_filters_2,\n",
    "    kernel_size=hidden_kernel_size_2,\n",
    "    padding='same',\n",
    "    activation='relu',\n",
    "    strides=1)(x)\n",
    "x = Dropout(dropout_rate)(x)\n",
    "x = Conv1D(\n",
    "    filters=hidden_filters_2,\n",
    "    kernel_size=hidden_kernel_size_2,\n",
    "    padding='same',\n",
    "    activation='relu',\n",
    "    strides=1)(x)\n",
    "x = Dropout(dropout_rate)(x)\n",
    "x = Conv1D(\n",
    "    filters=hidden_filters_2,\n",
    "    kernel_size=hidden_kernel_size_2,\n",
    "    padding='same',\n",
    "    activation='relu',\n",
    "    strides=1)(x)\n",
    "x = Dropout(dropout_rate)(x)\n",
    "x = Conv1D(\n",
    "    filters=hidden_filters_2,\n",
    "    kernel_size=hidden_kernel_size_2,\n",
    "    padding='same',\n",
    "    activation='relu',\n",
    "    strides=1)(x)\n",
    "x = Dropout(dropout_rate)(x)\n",
    "\n",
    "outputs = Conv1D(\n",
    "    filters=output_filters,\n",
    "    kernel_size=output_kernel_size,\n",
    "    padding='same',\n",
    "    activation='linear',\n",
    "    strides=1\n",
    "    )(x)\n",
    "\n",
    "model = Model(inputs=inputs, outputs=outputs)"
   ]
  },
  {
   "cell_type": "code",
   "execution_count": 41,
   "metadata": {
    "collapsed": true
   },
   "outputs": [],
   "source": [
    "def pearson(y_true, y_pred):\n",
    "    x = y_true\n",
    "    y = y_pred\n",
    "    mx = K.mean(x)\n",
    "    my = K.mean(y)\n",
    "    xm, ym = x-mx, y-my\n",
    "    r_num = K.sum(np.multiply(xm,ym))\n",
    "    r_den = K.sqrt(np.multiply(K.sum(K.square(xm)), K.sum(K.square(ym))))\n",
    "    r = r_num / r_den\n",
    "    r = K.maximum(K.minimum(r, 1.0), -1.0)\n",
    "    return K.square(r)"
   ]
  },
  {
   "cell_type": "code",
   "execution_count": 42,
   "metadata": {},
   "outputs": [
    {
     "name": "stdout",
     "output_type": "stream",
     "text": [
      "Compiling a model with adam optimizer\n",
      "_________________________________________________________________\n",
      "Layer (type)                 Output Shape              Param #   \n",
      "=================================================================\n",
      "input_2 (InputLayer)         (None, 2001, 5)           0         \n",
      "_________________________________________________________________\n",
      "conv1d_14 (Conv1D)           (None, 2001, 20)          3020      \n",
      "_________________________________________________________________\n",
      "dropout_13 (Dropout)         (None, 2001, 20)          0         \n",
      "_________________________________________________________________\n",
      "conv1d_15 (Conv1D)           (None, 2001, 20)          12020     \n",
      "_________________________________________________________________\n",
      "dropout_14 (Dropout)         (None, 2001, 20)          0         \n",
      "_________________________________________________________________\n",
      "conv1d_16 (Conv1D)           (None, 2001, 20)          12020     \n",
      "_________________________________________________________________\n",
      "dropout_15 (Dropout)         (None, 2001, 20)          0         \n",
      "_________________________________________________________________\n",
      "conv1d_17 (Conv1D)           (None, 2001, 20)          12020     \n",
      "_________________________________________________________________\n",
      "dropout_16 (Dropout)         (None, 2001, 20)          0         \n",
      "_________________________________________________________________\n",
      "conv1d_18 (Conv1D)           (None, 2001, 20)          12020     \n",
      "_________________________________________________________________\n",
      "dropout_17 (Dropout)         (None, 2001, 20)          0         \n",
      "_________________________________________________________________\n",
      "conv1d_19 (Conv1D)           (None, 2001, 20)          12020     \n",
      "_________________________________________________________________\n",
      "dropout_18 (Dropout)         (None, 2001, 20)          0         \n",
      "_________________________________________________________________\n",
      "conv1d_20 (Conv1D)           (None, 2001, 20)          12020     \n",
      "_________________________________________________________________\n",
      "dropout_19 (Dropout)         (None, 2001, 20)          0         \n",
      "_________________________________________________________________\n",
      "conv1d_21 (Conv1D)           (None, 2001, 20)          12020     \n",
      "_________________________________________________________________\n",
      "dropout_20 (Dropout)         (None, 2001, 20)          0         \n",
      "_________________________________________________________________\n",
      "conv1d_22 (Conv1D)           (None, 2001, 20)          12020     \n",
      "_________________________________________________________________\n",
      "dropout_21 (Dropout)         (None, 2001, 20)          0         \n",
      "_________________________________________________________________\n",
      "conv1d_23 (Conv1D)           (None, 2001, 20)          12020     \n",
      "_________________________________________________________________\n",
      "dropout_22 (Dropout)         (None, 2001, 20)          0         \n",
      "_________________________________________________________________\n",
      "conv1d_24 (Conv1D)           (None, 2001, 20)          12020     \n",
      "_________________________________________________________________\n",
      "dropout_23 (Dropout)         (None, 2001, 20)          0         \n",
      "_________________________________________________________________\n",
      "conv1d_25 (Conv1D)           (None, 2001, 10)          4010      \n",
      "_________________________________________________________________\n",
      "dropout_24 (Dropout)         (None, 2001, 10)          0         \n",
      "_________________________________________________________________\n",
      "conv1d_26 (Conv1D)           (None, 2001, 10)          2010      \n",
      "_________________________________________________________________\n",
      "dropout_25 (Dropout)         (None, 2001, 10)          0         \n",
      "_________________________________________________________________\n",
      "conv1d_27 (Conv1D)           (None, 2001, 10)          2010      \n",
      "_________________________________________________________________\n",
      "dropout_26 (Dropout)         (None, 2001, 10)          0         \n",
      "_________________________________________________________________\n",
      "conv1d_28 (Conv1D)           (None, 2001, 10)          2010      \n",
      "_________________________________________________________________\n",
      "dropout_27 (Dropout)         (None, 2001, 10)          0         \n",
      "_________________________________________________________________\n",
      "conv1d_29 (Conv1D)           (None, 2001, 10)          2010      \n",
      "_________________________________________________________________\n",
      "dropout_28 (Dropout)         (None, 2001, 10)          0         \n",
      "_________________________________________________________________\n",
      "conv1d_30 (Conv1D)           (None, 2001, 10)          2010      \n",
      "_________________________________________________________________\n",
      "dropout_29 (Dropout)         (None, 2001, 10)          0         \n",
      "_________________________________________________________________\n",
      "conv1d_31 (Conv1D)           (None, 2001, 1)           51        \n",
      "=================================================================\n",
      "Total params: 137,331\n",
      "Trainable params: 137,331\n",
      "Non-trainable params: 0\n",
      "_________________________________________________________________\n",
      "None\n"
     ]
    }
   ],
   "source": [
    "import tensorflow as tf\n",
    "# setting optimizer\n",
    "adam = optimizers.Adam(clipnorm=1.)\n",
    "\n",
    "print \"Compiling a model with adam optimizer\"\n",
    "model.compile(loss='mse',\n",
    "              optimizer=adam,\n",
    "              metrics=[pearson])\n",
    "\n",
    "tensorboard = TensorBoard(log_dir=\"logs/\")\n",
    "reduce_lr = ReduceLROnPlateau(monitor='val_loss',\n",
    "                              factor=0.2,\n",
    "                              patience=5,\n",
    "                              min_lr=0.001)\n",
    "\n",
    "print model.summary()"
   ]
  },
  {
   "cell_type": "code",
   "execution_count": 43,
   "metadata": {
    "collapsed": true
   },
   "outputs": [],
   "source": [
    "save_freq = 50\n",
    "output_dir = \"plots\"\n",
    "model_dir = \"models\"\n",
    "# callback function for plotting loss graph for every 500 epochs\n",
    "class Plot_Train_Loss_Callback(Callback):\n",
    "    def on_train_begin(self, logs={}):\n",
    "        self.losses = []\n",
    "        self.epochs = 0\n",
    "\n",
    "    def on_epoch_end(self, batch, logs={}):\n",
    "        self.losses.append(logs['loss'])\n",
    "        self.epochs += 1\n",
    "        if self.epochs % save_freq == 0:\n",
    "            # summarize history for loss\n",
    "            plt.plot(range(self.epochs), self.losses)\n",
    "            plt.title('model loss')\n",
    "            plt.ylabel('loss')\n",
    "            plt.xlabel('epoch')\n",
    "            plt.savefig(os.path.join(output_dir, 'model_train_'+str(self.epochs)+'.png'))\n",
    "            self.model.save(os.path.join(model_dir, 'model_'+str(self.epochs)+\".h5\"))\n",
    "            plt.close()\n",
    "\n",
    "class Compute_Pearson_Callback(Callback):\n",
    "    def __init__(self, x_train, y_train):\n",
    "        self.x_train, self.y_train = x_train, y_train\n",
    "\n",
    "    def on_train_begin(self, logs={}):\n",
    "        self.p_train_history = []\n",
    "        self.epochs = 0\n",
    "\n",
    "    def on_epoch_end(self, batch, logs={}):\n",
    "        self.epochs += 1\n",
    "        if self.epochs % save_freq == 0:\n",
    "            x_train, y_train = self.x_train, self.y_train\n",
    "            y_pred_train = self.model.predict(x_train)\n",
    "            p_train_list = []\n",
    "            for y_t, y_pt in zip(y_train, y_pred_train):\n",
    "                p_train_list.append(pearsonr(y_t.squeeze(), y_pt.squeeze()))\n",
    "            p_train = np.mean(p_train_list)\n",
    "            print \"Train Pearson Corr: {}\".format(p_train)\n",
    "            self.p_train_history.append(p_train)\n",
    "            # record pearson correlation for train\n",
    "            plt.plot(range(self.epochs), self.p_train_history)\n",
    "            plt.title('Pearson Correlation - Train')\n",
    "            plt.ylabel('pearson correlation')\n",
    "            plt.xlabel('epoch')\n",
    "            plt.savefig(os.path.join(output_dir, 'Pearson', 'train_'+str(self.epochs)+'.png'))\n",
    "            plt.close()"
   ]
  },
  {
   "cell_type": "code",
   "execution_count": 46,
   "metadata": {},
   "outputs": [
    {
     "name": "stdout",
     "output_type": "stream",
     "text": [
      "env: CUDA_VISIBLE_DEVICES=7\n",
      "Fitting the model...\n",
      "Train on 8000 samples, validate on 2000 samples\n",
      "Epoch 1/50\n",
      "8000/8000 [==============================] - 15s 2ms/step - loss: 0.1798 - pearson: 3.6320e-05 - val_loss: 0.1815 - val_pearson: 3.4157e-05\n",
      "Epoch 2/50\n",
      "8000/8000 [==============================] - 15s 2ms/step - loss: 0.1796 - pearson: 3.7693e-05 - val_loss: 0.1759 - val_pearson: 3.4230e-05\n",
      "Epoch 3/50\n",
      "8000/8000 [==============================] - 15s 2ms/step - loss: 0.1794 - pearson: 2.5589e-05 - val_loss: 0.1759 - val_pearson: 3.4343e-05\n",
      "Epoch 4/50\n",
      "8000/8000 [==============================] - 16s 2ms/step - loss: 0.1792 - pearson: 4.5765e-05 - val_loss: 0.1728 - val_pearson: 3.4347e-05\n",
      "Epoch 5/50\n",
      "8000/8000 [==============================] - 16s 2ms/step - loss: 0.1792 - pearson: 3.5947e-05 - val_loss: 0.1780 - val_pearson: 3.4523e-05\n",
      "Epoch 6/50\n",
      "8000/8000 [==============================] - 16s 2ms/step - loss: 0.1791 - pearson: 3.0684e-05 - val_loss: 0.1795 - val_pearson: 3.4603e-05\n",
      "Epoch 7/50\n",
      "8000/8000 [==============================] - 16s 2ms/step - loss: 0.1791 - pearson: 3.2953e-05 - val_loss: 0.1790 - val_pearson: 3.4655e-05\n",
      "Epoch 8/50\n",
      "8000/8000 [==============================] - 16s 2ms/step - loss: 0.1790 - pearson: 2.6802e-05 - val_loss: 0.1779 - val_pearson: 3.4637e-05\n",
      "Epoch 9/50\n",
      "8000/8000 [==============================] - 16s 2ms/step - loss: 0.1789 - pearson: 3.6958e-05 - val_loss: 0.1754 - val_pearson: 3.4597e-05\n",
      "Epoch 10/50\n",
      "8000/8000 [==============================] - 16s 2ms/step - loss: 0.1790 - pearson: 3.8853e-05 - val_loss: 0.1801 - val_pearson: 3.4773e-05\n",
      "Epoch 11/50\n",
      "8000/8000 [==============================] - 15s 2ms/step - loss: 0.1789 - pearson: 3.7889e-05 - val_loss: 0.1777 - val_pearson: 3.4694e-05\n",
      "Epoch 12/50\n",
      "8000/8000 [==============================] - 15s 2ms/step - loss: 0.1788 - pearson: 3.4180e-05 - val_loss: 0.1782 - val_pearson: 3.4760e-05\n",
      "Epoch 13/50\n",
      "8000/8000 [==============================] - 15s 2ms/step - loss: 0.1789 - pearson: 3.8331e-05 - val_loss: 0.1771 - val_pearson: 3.4721e-05\n",
      "Epoch 14/50\n",
      "8000/8000 [==============================] - 15s 2ms/step - loss: 0.1788 - pearson: 4.5702e-05 - val_loss: 0.1760 - val_pearson: 3.4711e-05\n",
      "Epoch 15/50\n",
      "8000/8000 [==============================] - 15s 2ms/step - loss: 0.1788 - pearson: 3.8035e-05 - val_loss: 0.1790 - val_pearson: 3.4908e-05\n",
      "Epoch 16/50\n",
      "8000/8000 [==============================] - 15s 2ms/step - loss: 0.1788 - pearson: 4.3380e-05 - val_loss: 0.1775 - val_pearson: 3.4756e-05\n",
      "Epoch 17/50\n",
      "8000/8000 [==============================] - 15s 2ms/step - loss: 0.1788 - pearson: 4.5102e-05 - val_loss: 0.1739 - val_pearson: 3.4476e-05\n",
      "Epoch 18/50\n",
      "8000/8000 [==============================] - 15s 2ms/step - loss: 0.1788 - pearson: 3.4775e-05 - val_loss: 0.1768 - val_pearson: 3.4719e-05\n",
      "Epoch 19/50\n",
      "8000/8000 [==============================] - 15s 2ms/step - loss: 0.1788 - pearson: 3.6766e-05 - val_loss: 0.1763 - val_pearson: 3.4607e-05\n",
      "Epoch 20/50\n",
      "8000/8000 [==============================] - 15s 2ms/step - loss: 0.1787 - pearson: 4.0612e-05 - val_loss: 0.1760 - val_pearson: 3.4481e-05\n",
      "Epoch 21/50\n",
      "8000/8000 [==============================] - 15s 2ms/step - loss: 0.1788 - pearson: 3.6316e-05 - val_loss: 0.1751 - val_pearson: 3.6373e-05\n",
      "Epoch 22/50\n",
      "8000/8000 [==============================] - 15s 2ms/step - loss: 0.1787 - pearson: 4.6357e-05 - val_loss: 0.1782 - val_pearson: 3.6305e-05\n",
      "Epoch 23/50\n",
      "8000/8000 [==============================] - 15s 2ms/step - loss: 0.1787 - pearson: 3.3304e-05 - val_loss: 0.1764 - val_pearson: 3.6320e-05\n",
      "Epoch 24/50\n",
      "8000/8000 [==============================] - 15s 2ms/step - loss: 0.1787 - pearson: 4.0604e-05 - val_loss: 0.1753 - val_pearson: 3.6330e-05\n",
      "Epoch 25/50\n",
      "8000/8000 [==============================] - 15s 2ms/step - loss: 0.1787 - pearson: 4.6460e-05 - val_loss: 0.1769 - val_pearson: 3.6253e-05\n",
      "Epoch 26/50\n",
      "8000/8000 [==============================] - 15s 2ms/step - loss: 0.1787 - pearson: 4.2178e-05 - val_loss: 0.1767 - val_pearson: 3.6189e-05\n",
      "Epoch 27/50\n",
      "8000/8000 [==============================] - 15s 2ms/step - loss: 0.1787 - pearson: 3.5954e-05 - val_loss: 0.1755 - val_pearson: 3.6269e-05\n",
      "Epoch 28/50\n",
      "8000/8000 [==============================] - 15s 2ms/step - loss: 0.1787 - pearson: 3.9393e-05 - val_loss: 0.1767 - val_pearson: 3.6221e-05\n",
      "Epoch 29/50\n",
      "8000/8000 [==============================] - 15s 2ms/step - loss: 0.1787 - pearson: 3.8206e-05 - val_loss: 0.1775 - val_pearson: 3.5931e-05\n",
      "Epoch 30/50\n",
      "8000/8000 [==============================] - 15s 2ms/step - loss: 0.1787 - pearson: 4.0034e-05 - val_loss: 0.1759 - val_pearson: 3.6217e-05\n",
      "Epoch 31/50\n",
      "8000/8000 [==============================] - 15s 2ms/step - loss: 0.1787 - pearson: 0.0080 - val_loss: 0.1761 - val_pearson: 6.4460e-14\n",
      "Epoch 32/50\n",
      "8000/8000 [==============================] - 15s 2ms/step - loss: 0.1787 - pearson: 0.0160 - val_loss: 0.1762 - val_pearson: 6.0537e-14\n",
      "Epoch 33/50\n",
      "8000/8000 [==============================] - 15s 2ms/step - loss: 0.1787 - pearson: 1.3500e-14 - val_loss: 0.1762 - val_pearson: 5.8061e-14\n",
      "Epoch 34/50\n",
      "8000/8000 [==============================] - 15s 2ms/step - loss: 0.1787 - pearson: 0.0320 - val_loss: 0.1769 - val_pearson: 5.9533e-14\n",
      "Epoch 35/50\n",
      "8000/8000 [==============================] - 15s 2ms/step - loss: 0.1787 - pearson: 0.0160 - val_loss: 0.1762 - val_pearson: 4.0368e-14\n",
      "Epoch 36/50\n",
      "8000/8000 [==============================] - 15s 2ms/step - loss: 0.1787 - pearson: 0.0400 - val_loss: 0.1767 - val_pearson: 6.0145e-14\n",
      "Epoch 37/50\n",
      "8000/8000 [==============================] - 15s 2ms/step - loss: 0.1787 - pearson: 0.0160 - val_loss: 0.1767 - val_pearson: 6.3755e-14\n",
      "Epoch 38/50\n",
      "8000/8000 [==============================] - 15s 2ms/step - loss: 0.1787 - pearson: 0.0240 - val_loss: 0.1765 - val_pearson: 6.1036e-14\n",
      "Epoch 39/50\n",
      "8000/8000 [==============================] - 15s 2ms/step - loss: 0.1787 - pearson: 1.4395e-14 - val_loss: 0.1759 - val_pearson: 6.0665e-14\n",
      "Epoch 40/50\n",
      "8000/8000 [==============================] - 15s 2ms/step - loss: 0.1787 - pearson: 1.3392e-14 - val_loss: 0.1758 - val_pearson: 7.9760e-14\n",
      "Epoch 41/50\n",
      "8000/8000 [==============================] - 15s 2ms/step - loss: 0.1787 - pearson: 0.0240 - val_loss: 0.1766 - val_pearson: 6.9355e-14\n",
      "Epoch 42/50\n",
      "8000/8000 [==============================] - 15s 2ms/step - loss: 0.1787 - pearson: 0.0320 - val_loss: 0.1755 - val_pearson: 6.5095e-14\n",
      "Epoch 43/50\n",
      "8000/8000 [==============================] - 15s 2ms/step - loss: 0.1787 - pearson: 0.0240 - val_loss: 0.1757 - val_pearson: 5.5042e-14\n",
      "Epoch 44/50\n",
      "8000/8000 [==============================] - 15s 2ms/step - loss: 0.1787 - pearson: 1.6759e-14 - val_loss: 0.1762 - val_pearson: 9.6338e-14\n",
      "Epoch 45/50\n",
      "8000/8000 [==============================] - 15s 2ms/step - loss: 0.1787 - pearson: 0.0320 - val_loss: 0.1760 - val_pearson: 6.1490e-14\n",
      "Epoch 46/50\n",
      "8000/8000 [==============================] - 15s 2ms/step - loss: 0.1787 - pearson: 0.0320 - val_loss: 0.1766 - val_pearson: 7.9114e-14\n",
      "Epoch 47/50\n",
      "8000/8000 [==============================] - 15s 2ms/step - loss: 0.1787 - pearson: 0.0320 - val_loss: 0.1771 - val_pearson: 4.8569e-14\n",
      "Epoch 48/50\n",
      "8000/8000 [==============================] - 15s 2ms/step - loss: 0.1787 - pearson: 0.0080 - val_loss: 0.1773 - val_pearson: 7.6304e-14\n",
      "Epoch 49/50\n",
      "8000/8000 [==============================] - 15s 2ms/step - loss: 0.1787 - pearson: 0.0080 - val_loss: 0.1765 - val_pearson: 6.7869e-14\n",
      "Epoch 50/50\n",
      "7936/8000 [============================>.] - ETA: 0s - loss: 0.1787 - pearson: 0.0242Train Pearson Corr: nan\n"
     ]
    },
    {
     "ename": "ValueError",
     "evalue": "x and y must have same first dimension, but have shapes (50,) and (1,)",
     "output_type": "error",
     "traceback": [
      "\u001b[0;31m\u001b[0m",
      "\u001b[0;31mValueError\u001b[0mTraceback (most recent call last)",
      "\u001b[0;32m<ipython-input-46-8beebfd0978e>\u001b[0m in \u001b[0;36m<module>\u001b[0;34m()\u001b[0m\n\u001b[1;32m     11\u001b[0m                          \u001b[0mreduce_lr\u001b[0m\u001b[0;34m,\u001b[0m\u001b[0;34m\u001b[0m\u001b[0m\n\u001b[1;32m     12\u001b[0m                          \u001b[0mPlot_Train_Loss_Callback\u001b[0m\u001b[0;34m(\u001b[0m\u001b[0;34m)\u001b[0m\u001b[0;34m,\u001b[0m\u001b[0;34m\u001b[0m\u001b[0m\n\u001b[0;32m---> 13\u001b[0;31m                          Compute_Pearson_Callback(atac_seq_day0[:10000], histone_mark_day0[:10000])])\n\u001b[0m\u001b[1;32m     14\u001b[0m     \u001b[0;31m# evaluate the model\u001b[0m\u001b[0;34m\u001b[0m\u001b[0;34m\u001b[0m\u001b[0m\n\u001b[1;32m     15\u001b[0m     \u001b[0mscores\u001b[0m \u001b[0;34m=\u001b[0m \u001b[0mmodel\u001b[0m\u001b[0;34m.\u001b[0m\u001b[0mevaluate\u001b[0m\u001b[0;34m(\u001b[0m\u001b[0matac_seq_day3\u001b[0m\u001b[0;34m[\u001b[0m\u001b[0;34m:\u001b[0m\u001b[0;36m10000\u001b[0m\u001b[0;34m]\u001b[0m\u001b[0;34m,\u001b[0m \u001b[0mhistone_mark_day3\u001b[0m\u001b[0;34m[\u001b[0m\u001b[0;34m:\u001b[0m\u001b[0;36m10000\u001b[0m\u001b[0;34m]\u001b[0m\u001b[0;34m)\u001b[0m\u001b[0;34m\u001b[0m\u001b[0m\n",
      "\u001b[0;32m/users/jesikmin/anaconda2/envs/genomelake_env/lib/python2.7/site-packages/keras/engine/training.pyc\u001b[0m in \u001b[0;36mfit\u001b[0;34m(self, x, y, batch_size, epochs, verbose, callbacks, validation_split, validation_data, shuffle, class_weight, sample_weight, initial_epoch, steps_per_epoch, validation_steps, **kwargs)\u001b[0m\n\u001b[1;32m   1667\u001b[0m                               \u001b[0minitial_epoch\u001b[0m\u001b[0;34m=\u001b[0m\u001b[0minitial_epoch\u001b[0m\u001b[0;34m,\u001b[0m\u001b[0;34m\u001b[0m\u001b[0m\n\u001b[1;32m   1668\u001b[0m                               \u001b[0msteps_per_epoch\u001b[0m\u001b[0;34m=\u001b[0m\u001b[0msteps_per_epoch\u001b[0m\u001b[0;34m,\u001b[0m\u001b[0;34m\u001b[0m\u001b[0m\n\u001b[0;32m-> 1669\u001b[0;31m                               validation_steps=validation_steps)\n\u001b[0m\u001b[1;32m   1670\u001b[0m \u001b[0;34m\u001b[0m\u001b[0m\n\u001b[1;32m   1671\u001b[0m     def evaluate(self, x=None, y=None,\n",
      "\u001b[0;32m/users/jesikmin/anaconda2/envs/genomelake_env/lib/python2.7/site-packages/keras/engine/training.pyc\u001b[0m in \u001b[0;36m_fit_loop\u001b[0;34m(self, f, ins, out_labels, batch_size, epochs, verbose, callbacks, val_f, val_ins, shuffle, callback_metrics, initial_epoch, steps_per_epoch, validation_steps)\u001b[0m\n\u001b[1;32m   1224\u001b[0m                             \u001b[0;32mfor\u001b[0m \u001b[0ml\u001b[0m\u001b[0;34m,\u001b[0m \u001b[0mo\u001b[0m \u001b[0;32min\u001b[0m \u001b[0mzip\u001b[0m\u001b[0;34m(\u001b[0m\u001b[0mout_labels\u001b[0m\u001b[0;34m,\u001b[0m \u001b[0mval_outs\u001b[0m\u001b[0;34m)\u001b[0m\u001b[0;34m:\u001b[0m\u001b[0;34m\u001b[0m\u001b[0m\n\u001b[1;32m   1225\u001b[0m                                 \u001b[0mepoch_logs\u001b[0m\u001b[0;34m[\u001b[0m\u001b[0;34m'val_'\u001b[0m \u001b[0;34m+\u001b[0m \u001b[0ml\u001b[0m\u001b[0;34m]\u001b[0m \u001b[0;34m=\u001b[0m \u001b[0mo\u001b[0m\u001b[0;34m\u001b[0m\u001b[0m\n\u001b[0;32m-> 1226\u001b[0;31m             \u001b[0mcallbacks\u001b[0m\u001b[0;34m.\u001b[0m\u001b[0mon_epoch_end\u001b[0m\u001b[0;34m(\u001b[0m\u001b[0mepoch\u001b[0m\u001b[0;34m,\u001b[0m \u001b[0mepoch_logs\u001b[0m\u001b[0;34m)\u001b[0m\u001b[0;34m\u001b[0m\u001b[0m\n\u001b[0m\u001b[1;32m   1227\u001b[0m             \u001b[0;32mif\u001b[0m \u001b[0mcallback_model\u001b[0m\u001b[0;34m.\u001b[0m\u001b[0mstop_training\u001b[0m\u001b[0;34m:\u001b[0m\u001b[0;34m\u001b[0m\u001b[0m\n\u001b[1;32m   1228\u001b[0m                 \u001b[0;32mbreak\u001b[0m\u001b[0;34m\u001b[0m\u001b[0m\n",
      "\u001b[0;32m/users/jesikmin/anaconda2/envs/genomelake_env/lib/python2.7/site-packages/keras/callbacks.pyc\u001b[0m in \u001b[0;36mon_epoch_end\u001b[0;34m(self, epoch, logs)\u001b[0m\n\u001b[1;32m     74\u001b[0m         \u001b[0mlogs\u001b[0m \u001b[0;34m=\u001b[0m \u001b[0mlogs\u001b[0m \u001b[0;32mor\u001b[0m \u001b[0;34m{\u001b[0m\u001b[0;34m}\u001b[0m\u001b[0;34m\u001b[0m\u001b[0m\n\u001b[1;32m     75\u001b[0m         \u001b[0;32mfor\u001b[0m \u001b[0mcallback\u001b[0m \u001b[0;32min\u001b[0m \u001b[0mself\u001b[0m\u001b[0;34m.\u001b[0m\u001b[0mcallbacks\u001b[0m\u001b[0;34m:\u001b[0m\u001b[0;34m\u001b[0m\u001b[0m\n\u001b[0;32m---> 76\u001b[0;31m             \u001b[0mcallback\u001b[0m\u001b[0;34m.\u001b[0m\u001b[0mon_epoch_end\u001b[0m\u001b[0;34m(\u001b[0m\u001b[0mepoch\u001b[0m\u001b[0;34m,\u001b[0m \u001b[0mlogs\u001b[0m\u001b[0;34m)\u001b[0m\u001b[0;34m\u001b[0m\u001b[0m\n\u001b[0m\u001b[1;32m     77\u001b[0m \u001b[0;34m\u001b[0m\u001b[0m\n\u001b[1;32m     78\u001b[0m     \u001b[0;32mdef\u001b[0m \u001b[0mon_batch_begin\u001b[0m\u001b[0;34m(\u001b[0m\u001b[0mself\u001b[0m\u001b[0;34m,\u001b[0m \u001b[0mbatch\u001b[0m\u001b[0;34m,\u001b[0m \u001b[0mlogs\u001b[0m\u001b[0;34m=\u001b[0m\u001b[0mNone\u001b[0m\u001b[0;34m)\u001b[0m\u001b[0;34m:\u001b[0m\u001b[0;34m\u001b[0m\u001b[0m\n",
      "\u001b[0;32m<ipython-input-43-3bc1018e33b3>\u001b[0m in \u001b[0;36mon_epoch_end\u001b[0;34m(self, batch, logs)\u001b[0m\n\u001b[1;32m     41\u001b[0m             \u001b[0mself\u001b[0m\u001b[0;34m.\u001b[0m\u001b[0mp_train_history\u001b[0m\u001b[0;34m.\u001b[0m\u001b[0mappend\u001b[0m\u001b[0;34m(\u001b[0m\u001b[0mp_train\u001b[0m\u001b[0;34m)\u001b[0m\u001b[0;34m\u001b[0m\u001b[0m\n\u001b[1;32m     42\u001b[0m             \u001b[0;31m# record pearson correlation for train\u001b[0m\u001b[0;34m\u001b[0m\u001b[0;34m\u001b[0m\u001b[0m\n\u001b[0;32m---> 43\u001b[0;31m             \u001b[0mplt\u001b[0m\u001b[0;34m.\u001b[0m\u001b[0mplot\u001b[0m\u001b[0;34m(\u001b[0m\u001b[0mrange\u001b[0m\u001b[0;34m(\u001b[0m\u001b[0mself\u001b[0m\u001b[0;34m.\u001b[0m\u001b[0mepochs\u001b[0m\u001b[0;34m)\u001b[0m\u001b[0;34m,\u001b[0m \u001b[0mself\u001b[0m\u001b[0;34m.\u001b[0m\u001b[0mp_train_history\u001b[0m\u001b[0;34m)\u001b[0m\u001b[0;34m\u001b[0m\u001b[0m\n\u001b[0m\u001b[1;32m     44\u001b[0m             \u001b[0mplt\u001b[0m\u001b[0;34m.\u001b[0m\u001b[0mtitle\u001b[0m\u001b[0;34m(\u001b[0m\u001b[0;34m'Pearson Correlation - Train'\u001b[0m\u001b[0;34m)\u001b[0m\u001b[0;34m\u001b[0m\u001b[0m\n\u001b[1;32m     45\u001b[0m             \u001b[0mplt\u001b[0m\u001b[0;34m.\u001b[0m\u001b[0mylabel\u001b[0m\u001b[0;34m(\u001b[0m\u001b[0;34m'pearson correlation'\u001b[0m\u001b[0;34m)\u001b[0m\u001b[0;34m\u001b[0m\u001b[0m\n",
      "\u001b[0;32m/users/jesikmin/anaconda2/envs/genomelake_env/lib/python2.7/site-packages/matplotlib/pyplot.pyc\u001b[0m in \u001b[0;36mplot\u001b[0;34m(*args, **kwargs)\u001b[0m\n\u001b[1;32m   3259\u001b[0m                       mplDeprecation)\n\u001b[1;32m   3260\u001b[0m     \u001b[0;32mtry\u001b[0m\u001b[0;34m:\u001b[0m\u001b[0;34m\u001b[0m\u001b[0m\n\u001b[0;32m-> 3261\u001b[0;31m         \u001b[0mret\u001b[0m \u001b[0;34m=\u001b[0m \u001b[0max\u001b[0m\u001b[0;34m.\u001b[0m\u001b[0mplot\u001b[0m\u001b[0;34m(\u001b[0m\u001b[0;34m*\u001b[0m\u001b[0margs\u001b[0m\u001b[0;34m,\u001b[0m \u001b[0;34m**\u001b[0m\u001b[0mkwargs\u001b[0m\u001b[0;34m)\u001b[0m\u001b[0;34m\u001b[0m\u001b[0m\n\u001b[0m\u001b[1;32m   3262\u001b[0m     \u001b[0;32mfinally\u001b[0m\u001b[0;34m:\u001b[0m\u001b[0;34m\u001b[0m\u001b[0m\n\u001b[1;32m   3263\u001b[0m         \u001b[0max\u001b[0m\u001b[0;34m.\u001b[0m\u001b[0m_hold\u001b[0m \u001b[0;34m=\u001b[0m \u001b[0mwashold\u001b[0m\u001b[0;34m\u001b[0m\u001b[0m\n",
      "\u001b[0;32m/users/jesikmin/anaconda2/envs/genomelake_env/lib/python2.7/site-packages/matplotlib/__init__.pyc\u001b[0m in \u001b[0;36minner\u001b[0;34m(ax, *args, **kwargs)\u001b[0m\n\u001b[1;32m   1715\u001b[0m                     warnings.warn(msg % (label_namer, func.__name__),\n\u001b[1;32m   1716\u001b[0m                                   RuntimeWarning, stacklevel=2)\n\u001b[0;32m-> 1717\u001b[0;31m             \u001b[0;32mreturn\u001b[0m \u001b[0mfunc\u001b[0m\u001b[0;34m(\u001b[0m\u001b[0max\u001b[0m\u001b[0;34m,\u001b[0m \u001b[0;34m*\u001b[0m\u001b[0margs\u001b[0m\u001b[0;34m,\u001b[0m \u001b[0;34m**\u001b[0m\u001b[0mkwargs\u001b[0m\u001b[0;34m)\u001b[0m\u001b[0;34m\u001b[0m\u001b[0m\n\u001b[0m\u001b[1;32m   1718\u001b[0m         \u001b[0mpre_doc\u001b[0m \u001b[0;34m=\u001b[0m \u001b[0minner\u001b[0m\u001b[0;34m.\u001b[0m\u001b[0m__doc__\u001b[0m\u001b[0;34m\u001b[0m\u001b[0m\n\u001b[1;32m   1719\u001b[0m         \u001b[0;32mif\u001b[0m \u001b[0mpre_doc\u001b[0m \u001b[0;32mis\u001b[0m \u001b[0mNone\u001b[0m\u001b[0;34m:\u001b[0m\u001b[0;34m\u001b[0m\u001b[0m\n",
      "\u001b[0;32m/users/jesikmin/anaconda2/envs/genomelake_env/lib/python2.7/site-packages/matplotlib/axes/_axes.pyc\u001b[0m in \u001b[0;36mplot\u001b[0;34m(self, *args, **kwargs)\u001b[0m\n\u001b[1;32m   1370\u001b[0m         \u001b[0mkwargs\u001b[0m \u001b[0;34m=\u001b[0m \u001b[0mcbook\u001b[0m\u001b[0;34m.\u001b[0m\u001b[0mnormalize_kwargs\u001b[0m\u001b[0;34m(\u001b[0m\u001b[0mkwargs\u001b[0m\u001b[0;34m,\u001b[0m \u001b[0m_alias_map\u001b[0m\u001b[0;34m)\u001b[0m\u001b[0;34m\u001b[0m\u001b[0m\n\u001b[1;32m   1371\u001b[0m \u001b[0;34m\u001b[0m\u001b[0m\n\u001b[0;32m-> 1372\u001b[0;31m         \u001b[0;32mfor\u001b[0m \u001b[0mline\u001b[0m \u001b[0;32min\u001b[0m \u001b[0mself\u001b[0m\u001b[0;34m.\u001b[0m\u001b[0m_get_lines\u001b[0m\u001b[0;34m(\u001b[0m\u001b[0;34m*\u001b[0m\u001b[0margs\u001b[0m\u001b[0;34m,\u001b[0m \u001b[0;34m**\u001b[0m\u001b[0mkwargs\u001b[0m\u001b[0;34m)\u001b[0m\u001b[0;34m:\u001b[0m\u001b[0;34m\u001b[0m\u001b[0m\n\u001b[0m\u001b[1;32m   1373\u001b[0m             \u001b[0mself\u001b[0m\u001b[0;34m.\u001b[0m\u001b[0madd_line\u001b[0m\u001b[0;34m(\u001b[0m\u001b[0mline\u001b[0m\u001b[0;34m)\u001b[0m\u001b[0;34m\u001b[0m\u001b[0m\n\u001b[1;32m   1374\u001b[0m             \u001b[0mlines\u001b[0m\u001b[0;34m.\u001b[0m\u001b[0mappend\u001b[0m\u001b[0;34m(\u001b[0m\u001b[0mline\u001b[0m\u001b[0;34m)\u001b[0m\u001b[0;34m\u001b[0m\u001b[0m\n",
      "\u001b[0;32m/users/jesikmin/anaconda2/envs/genomelake_env/lib/python2.7/site-packages/matplotlib/axes/_base.pyc\u001b[0m in \u001b[0;36m_grab_next_args\u001b[0;34m(self, *args, **kwargs)\u001b[0m\n\u001b[1;32m    402\u001b[0m                 \u001b[0mthis\u001b[0m \u001b[0;34m+=\u001b[0m \u001b[0margs\u001b[0m\u001b[0;34m[\u001b[0m\u001b[0;36m0\u001b[0m\u001b[0;34m]\u001b[0m\u001b[0;34m,\u001b[0m\u001b[0;34m\u001b[0m\u001b[0m\n\u001b[1;32m    403\u001b[0m                 \u001b[0margs\u001b[0m \u001b[0;34m=\u001b[0m \u001b[0margs\u001b[0m\u001b[0;34m[\u001b[0m\u001b[0;36m1\u001b[0m\u001b[0;34m:\u001b[0m\u001b[0;34m]\u001b[0m\u001b[0;34m\u001b[0m\u001b[0m\n\u001b[0;32m--> 404\u001b[0;31m             \u001b[0;32mfor\u001b[0m \u001b[0mseg\u001b[0m \u001b[0;32min\u001b[0m \u001b[0mself\u001b[0m\u001b[0;34m.\u001b[0m\u001b[0m_plot_args\u001b[0m\u001b[0;34m(\u001b[0m\u001b[0mthis\u001b[0m\u001b[0;34m,\u001b[0m \u001b[0mkwargs\u001b[0m\u001b[0;34m)\u001b[0m\u001b[0;34m:\u001b[0m\u001b[0;34m\u001b[0m\u001b[0m\n\u001b[0m\u001b[1;32m    405\u001b[0m                 \u001b[0;32myield\u001b[0m \u001b[0mseg\u001b[0m\u001b[0;34m\u001b[0m\u001b[0m\n\u001b[1;32m    406\u001b[0m \u001b[0;34m\u001b[0m\u001b[0m\n",
      "\u001b[0;32m/users/jesikmin/anaconda2/envs/genomelake_env/lib/python2.7/site-packages/matplotlib/axes/_base.pyc\u001b[0m in \u001b[0;36m_plot_args\u001b[0;34m(self, tup, kwargs)\u001b[0m\n\u001b[1;32m    382\u001b[0m             \u001b[0mx\u001b[0m\u001b[0;34m,\u001b[0m \u001b[0my\u001b[0m \u001b[0;34m=\u001b[0m \u001b[0mindex_of\u001b[0m\u001b[0;34m(\u001b[0m\u001b[0mtup\u001b[0m\u001b[0;34m[\u001b[0m\u001b[0;34m-\u001b[0m\u001b[0;36m1\u001b[0m\u001b[0;34m]\u001b[0m\u001b[0;34m)\u001b[0m\u001b[0;34m\u001b[0m\u001b[0m\n\u001b[1;32m    383\u001b[0m \u001b[0;34m\u001b[0m\u001b[0m\n\u001b[0;32m--> 384\u001b[0;31m         \u001b[0mx\u001b[0m\u001b[0;34m,\u001b[0m \u001b[0my\u001b[0m \u001b[0;34m=\u001b[0m \u001b[0mself\u001b[0m\u001b[0;34m.\u001b[0m\u001b[0m_xy_from_xy\u001b[0m\u001b[0;34m(\u001b[0m\u001b[0mx\u001b[0m\u001b[0;34m,\u001b[0m \u001b[0my\u001b[0m\u001b[0;34m)\u001b[0m\u001b[0;34m\u001b[0m\u001b[0m\n\u001b[0m\u001b[1;32m    385\u001b[0m \u001b[0;34m\u001b[0m\u001b[0m\n\u001b[1;32m    386\u001b[0m         \u001b[0;32mif\u001b[0m \u001b[0mself\u001b[0m\u001b[0;34m.\u001b[0m\u001b[0mcommand\u001b[0m \u001b[0;34m==\u001b[0m \u001b[0;34m'plot'\u001b[0m\u001b[0;34m:\u001b[0m\u001b[0;34m\u001b[0m\u001b[0m\n",
      "\u001b[0;32m/users/jesikmin/anaconda2/envs/genomelake_env/lib/python2.7/site-packages/matplotlib/axes/_base.pyc\u001b[0m in \u001b[0;36m_xy_from_xy\u001b[0;34m(self, x, y)\u001b[0m\n\u001b[1;32m    241\u001b[0m         \u001b[0;32mif\u001b[0m \u001b[0mx\u001b[0m\u001b[0;34m.\u001b[0m\u001b[0mshape\u001b[0m\u001b[0;34m[\u001b[0m\u001b[0;36m0\u001b[0m\u001b[0;34m]\u001b[0m \u001b[0;34m!=\u001b[0m \u001b[0my\u001b[0m\u001b[0;34m.\u001b[0m\u001b[0mshape\u001b[0m\u001b[0;34m[\u001b[0m\u001b[0;36m0\u001b[0m\u001b[0;34m]\u001b[0m\u001b[0;34m:\u001b[0m\u001b[0;34m\u001b[0m\u001b[0m\n\u001b[1;32m    242\u001b[0m             raise ValueError(\"x and y must have same first dimension, but \"\n\u001b[0;32m--> 243\u001b[0;31m                              \"have shapes {} and {}\".format(x.shape, y.shape))\n\u001b[0m\u001b[1;32m    244\u001b[0m         \u001b[0;32mif\u001b[0m \u001b[0mx\u001b[0m\u001b[0;34m.\u001b[0m\u001b[0mndim\u001b[0m \u001b[0;34m>\u001b[0m \u001b[0;36m2\u001b[0m \u001b[0;32mor\u001b[0m \u001b[0my\u001b[0m\u001b[0;34m.\u001b[0m\u001b[0mndim\u001b[0m \u001b[0;34m>\u001b[0m \u001b[0;36m2\u001b[0m\u001b[0;34m:\u001b[0m\u001b[0;34m\u001b[0m\u001b[0m\n\u001b[1;32m    245\u001b[0m             raise ValueError(\"x and y can be no greater than 2-D, but have \"\n",
      "\u001b[0;31mValueError\u001b[0m: x and y must have same first dimension, but have shapes (50,) and (1,)"
     ]
    },
    {
     "data": {
      "image/png": "[encoded data removed]",
      "text/plain": [
       "<matplotlib.figure.Figure at 0x7f886015b650>"
      ]
     },
     "metadata": {},
     "output_type": "display_data"
    }
   ],
   "source": [
    "%env CUDA_VISIBLE_DEVICES=7\n",
    "print \"Fitting the model...\"\n",
    "for i in range(num_epochs/evaluation_freq):\n",
    "    model.fit(atac_seq_day0[:10000],\n",
    "              histone_mark_day0[:10000],\n",
    "              batch_size=batch_size,\n",
    "              epochs=evaluation_freq,\n",
    "              validation_split=0.2,   \n",
    "              shuffle=True,\n",
    "              callbacks=[tensorboard,\n",
    "                         reduce_lr,\n",
    "                         Plot_Train_Loss_Callback(),\n",
    "                         Compute_Pearson_Callback(atac_seq_day0[:10000], histone_mark_day0[:10000])])\n",
    "    # evaluate the model\n",
    "    scores = model.evaluate(atac_seq_day3[:10000], histone_mark_day3[:10000])"
   ]
  },
  {
   "cell_type": "code",
   "execution_count": null,
   "metadata": {
    "collapsed": true
   },
   "outputs": [],
   "source": []
  }
 ],
 "metadata": {
  "kernelspec": {
   "display_name": "Python 2",
   "language": "python",
   "name": "python2"
  },
  "language_info": {
   "codemirror_mode": {
    "name": "ipython",
    "version": 2
   },
   "file_extension": ".py",
   "mimetype": "text/x-python",
   "name": "python",
   "nbconvert_exporter": "python",
   "pygments_lexer": "ipython2",
   "version": "2.7.13"
  }
 },
 "nbformat": 4,
 "nbformat_minor": 2
}
