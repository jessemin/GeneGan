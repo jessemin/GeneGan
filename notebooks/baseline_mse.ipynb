{
 "cells": [
  {
   "cell_type": "markdown",
   "metadata": {},
   "source": [
    "# Baseline\n",
    "#### Convert histone mark signals and use deep CNN for training."
   ]
  },
  {
   "cell_type": "markdown",
   "metadata": {},
   "source": [
    "#### NOTE: Need to activate genomelake environment before this code. Simply type 'genomelake' in terminal."
   ]
  },
  {
   "cell_type": "code",
   "execution_count": 2,
   "metadata": {},
   "outputs": [
    {
     "name": "stdout",
     "output_type": "stream",
     "text": [
      "env: CUDA_VISIBLE_DEVICES=6\n"
     ]
    }
   ],
   "source": [
    "%env CUDA_VISIBLE_DEVICES=6\n",
    "import os, sys\n",
    "sys.path.append(\"..\")\n",
    "import random\n",
    "# custom file path package\n",
    "from data import Data_Directories\n",
    "# custom utility package\n",
    "from utils.compute_util import *\n",
    "# package for genomic data\n",
    "from pybedtools import Interval, BedTool\n",
    "from genomelake.extractors import ArrayExtractor, BigwigExtractor\n",
    "# package for plotting\n",
    "import matplotlib.pyplot as plt\n",
    "%matplotlib inline\n",
    "from scipy.stats.stats import pearsonr,spearmanr\n",
    "import tensorflow as tf"
   ]
  },
  {
   "cell_type": "code",
   "execution_count": 3,
   "metadata": {
    "collapsed": true
   },
   "outputs": [],
   "source": [
    "window_size = 2001\n",
    "process_all = False\n",
    "sample_num = 1000"
   ]
  },
  {
   "cell_type": "code",
   "execution_count": 4,
   "metadata": {},
   "outputs": [
    {
     "name": "stdout",
     "output_type": "stream",
     "text": [
      "['day6', 'day3', 'day0']\n",
      "['100', '140']\n",
      "['H3K27me3', 'H3K4me1', 'H3K27ac']\n"
     ]
    }
   ],
   "source": [
    "# retrieve data\n",
    "data = Data_Directories()\n",
    "print data.intervals.keys()\n",
    "print data.input_atac['day0'].keys()\n",
    "print data.output_histone['day0'].keys()"
   ]
  },
  {
   "cell_type": "code",
   "execution_count": 5,
   "metadata": {},
   "outputs": [
    {
     "name": "stdout",
     "output_type": "stream",
     "text": [
      "# of Intervals Extracted for day0: 267226\n",
      "# of Intervals Extracted for day3: 233846\n"
     ]
    }
   ],
   "source": [
    "# get intervals for day0 data\n",
    "day0_intervals = list(BedTool(data.intervals['day0']))\n",
    "print '# of Intervals Extracted for day0: {}'.format(len(day0_intervals))\n",
    "\n",
    "# get intervals for day3 data\n",
    "day3_intervals = list(BedTool(data.intervals['day3']))\n",
    "print '# of Intervals Extracted for day3: {}'.format(len(day3_intervals))"
   ]
  },
  {
   "cell_type": "code",
   "execution_count": 6,
   "metadata": {},
   "outputs": [
    {
     "name": "stdout",
     "output_type": "stream",
     "text": [
      "Finished extracting bigwig for day0, 140bp\n",
      "Finished extracting bigwig for day3, 140bp\n"
     ]
    }
   ],
   "source": [
    "# create an ArrayExtractor for ATAC-seq for day0 with 140 base pairs\n",
    "bw_140bp_day0 = ArrayExtractor(data.input_atac['day0']['140'])\n",
    "print 'Finished extracting bigwig for day0, 140bp'\n",
    "\n",
    "# create an ArrayExtractor for ATAC-seq for day3 with 140 base pairs\n",
    "bw_140bp_day3 = ArrayExtractor(data.input_atac['day3']['140'])\n",
    "print 'Finished extracting bigwig for day3, 140bp'"
   ]
  },
  {
   "cell_type": "code",
   "execution_count": 7,
   "metadata": {},
   "outputs": [
    {
     "name": "stdout",
     "output_type": "stream",
     "text": [
      "Finished extracting bigwig for day0, 140bp\n",
      "Finished extracting bigwig for day3, 140bp\n"
     ]
    }
   ],
   "source": [
    "# create a BigWigExtractor for histone makr 'H3K27ac' for day0\n",
    "bw_histone_mark_day0 = BigwigExtractor(data.output_histone['day0']['H3K27ac'])\n",
    "print 'Finished extracting bigwig for day0, 140bp'\n",
    "\n",
    "# create a BigWigExtractor for histone makr 'H3K27ac' for day3\n",
    "bw_histone_mark_day3 = BigwigExtractor(data.output_histone['day3']['H3K27ac'])\n",
    "print 'Finished extracting bigwig for day3, 140bp'"
   ]
  },
  {
   "cell_type": "code",
   "execution_count": 8,
   "metadata": {},
   "outputs": [
    {
     "name": "stdout",
     "output_type": "stream",
     "text": [
      "Finished normalizing day0 intervals!\n",
      "Finished normalizing day3 intervals!\n"
     ]
    }
   ],
   "source": [
    "# normalize day0 intervals\n",
    "normalized_day0_intervals = [normalize_interval(interval, window_size) for interval in day0_intervals if normalize_interval(interval, window_size)]\n",
    "print 'Finished normalizing day0 intervals!'\n",
    "\n",
    "# normalize day3 intervals\n",
    "normalized_day3_intervals = [normalize_interval(interval, window_size) for interval in day3_intervals if normalize_interval(interval, window_size)]\n",
    "print 'Finished normalizing day3 intervals!'"
   ]
  },
  {
   "cell_type": "code",
   "execution_count": 9,
   "metadata": {},
   "outputs": [
    {
     "name": "stdout",
     "output_type": "stream",
     "text": [
      "Examples of original intervals\n",
      "[(123412027, [123411855, 123412989]), (123411941, [123411855, 123412989]), (131908564, [131908487, 131910071])]\n",
      "Examples of normalized intervals with window size of 2001\n",
      "[[123411027, 123413028], [123410941, 123412942], [131907564, 131909565]]\n"
     ]
    }
   ],
   "source": [
    "assert (len(day0_intervals)==len(normalized_day0_intervals))\n",
    "assert (len(day3_intervals)==len(normalized_day3_intervals))\n",
    "print \"Examples of original intervals\"\n",
    "print [(int(_interval.start)+int(_interval[-1]), [int(_interval.start), int(_interval.end)])\n",
    "       for _interval in day0_intervals[:3]]\n",
    "print \"Examples of normalized intervals with window size of {}\".format(window_size)\n",
    "print [([int(_interval.start), int(_interval.end)])\n",
    "       for _interval in  normalized_day0_intervals[:3]]"
   ]
  },
  {
   "cell_type": "code",
   "execution_count": 10,
   "metadata": {},
   "outputs": [
    {
     "name": "stdout",
     "output_type": "stream",
     "text": [
      "(267226, 2001, 5) (233846, 2001, 5)\n"
     ]
    }
   ],
   "source": [
    "atac_seq_day0 = bw_140bp_day0(normalized_day0_intervals)\n",
    "atac_seq_day3 = bw_140bp_day3(normalized_day3_intervals)\n",
    "print atac_seq_day0.shape, atac_seq_day3.shape"
   ]
  },
  {
   "cell_type": "code",
   "execution_count": 11,
   "metadata": {},
   "outputs": [
    {
     "name": "stdout",
     "output_type": "stream",
     "text": [
      "Before pruning day0: 267226\n",
      "After pruning day0: 267226\n",
      "Before pruning day3: 233846\n",
      "After pruning day3: 233846\n"
     ]
    }
   ],
   "source": [
    "#TODO: put this into utils if possible\n",
    "def prune_invalid_intervals(intervals, bigwig_file):\n",
    "    for _interval in intervals[:]:\n",
    "        try:\n",
    "            bigwig_file([_interval])\n",
    "        except:\n",
    "            intervals.remove(_interval)\n",
    "            pass\n",
    "        \n",
    "print \"Before pruning day0: {}\".format(len(normalized_day0_intervals))\n",
    "prune_invalid_intervals(normalized_day0_intervals, bw_140bp_day0)\n",
    "print \"After pruning day0: {}\".format(len(normalized_day0_intervals))\n",
    "\n",
    "print \"Before pruning day3: {}\".format(len(normalized_day3_intervals))\n",
    "prune_invalid_intervals(normalized_day3_intervals, bw_140bp_day3)\n",
    "print \"After pruning day3: {}\".format(len(normalized_day3_intervals))"
   ]
  },
  {
   "cell_type": "code",
   "execution_count": 12,
   "metadata": {},
   "outputs": [
    {
     "name": "stdout",
     "output_type": "stream",
     "text": [
      "Dimension of ATAC-seq signal: (1, 2001, 5)\n"
     ]
    }
   ],
   "source": [
    "print \"Dimension of ATAC-seq signal: {}\".format(bw_140bp_day0(normalized_day0_intervals[:1]).shape)"
   ]
  },
  {
   "cell_type": "code",
   "execution_count": 13,
   "metadata": {},
   "outputs": [
    {
     "name": "stdout",
     "output_type": "stream",
     "text": [
      "Dimension of histone mark signal: (1, 2001)\n"
     ]
    }
   ],
   "source": [
    "print \"Dimension of histone mark signal: {}\".format(bw_histone_mark_day0(normalized_day0_intervals[:1]).shape)"
   ]
  },
  {
   "cell_type": "code",
   "execution_count": 14,
   "metadata": {},
   "outputs": [
    {
     "name": "stdout",
     "output_type": "stream",
     "text": [
      "(267226, 2001)\n",
      "(233846, 2001)\n"
     ]
    }
   ],
   "source": [
    "# replace nan values with zeros and convert it to p-values\n",
    "histone_mark_day0 = np.nan_to_num(bw_histone_mark_day0(normalized_day0_intervals))\n",
    "print histone_mark_day0.shape\n",
    "\n",
    "histone_mark_day3 = np.nan_to_num(bw_histone_mark_day3(normalized_day3_intervals))\n",
    "print histone_mark_day3.shape"
   ]
  },
  {
   "cell_type": "code",
   "execution_count": 15,
   "metadata": {},
   "outputs": [
    {
     "name": "stdout",
     "output_type": "stream",
     "text": [
      "(267226, 2001, 1) (233846, 2001, 1)\n"
     ]
    }
   ],
   "source": [
    "histone_mark_day0 = np.expand_dims(histone_mark_day0, axis=2)\n",
    "histone_mark_day3 = np.expand_dims(histone_mark_day3, axis=2)\n",
    "print histone_mark_day0.shape, histone_mark_day3.shape"
   ]
  },
  {
   "cell_type": "code",
   "execution_count": 16,
   "metadata": {},
   "outputs": [
    {
     "name": "stdout",
     "output_type": "stream",
     "text": [
      "Example histone mark signal\n",
      "\tRaw value: [ 0.01014  0.01014  0.01014  0.02435  0.02435]\n"
     ]
    }
   ],
   "source": [
    "print \"Example histone mark signal\"\n",
    "print \"\\tRaw value: {}\".format(bw_histone_mark_day0(normalized_day0_intervals[:1])[0][:5].reshape(-1))"
   ]
  },
  {
   "cell_type": "code",
   "execution_count": 32,
   "metadata": {
    "collapsed": true
   },
   "outputs": [],
   "source": [
    "from keras.layers import Input, Dense, Conv1D, Dropout\n",
    "from keras.models import Model\n",
    "from keras import optimizers\n",
    "from keras import metrics\n",
    "from keras import losses\n",
    "from keras import backend as K\n",
    "from keras.callbacks import Callback, TensorBoard, ReduceLROnPlateau, ModelCheckpoint"
   ]
  },
  {
   "cell_type": "code",
   "execution_count": 30,
   "metadata": {
    "collapsed": true
   },
   "outputs": [],
   "source": [
    "dropout_rate = 0.5\n",
    "# parameters for first conv layer\n",
    "hidden_filters_1 = 20\n",
    "hidden_kernel_size_1 = 30\n",
    "# parameters for second conv layer\n",
    "hidden_filters_2 = 10\n",
    "hidden_kernel_size_2 = 20\n",
    "# parameters for the output layer\n",
    "output_filters = 1\n",
    "output_kernel_size = 5\n",
    "# parameters for training\n",
    "batch_size = 64\n",
    "num_epochs = 150\n",
    "evaluation_freq = 10"
   ]
  },
  {
   "cell_type": "code",
   "execution_count": 19,
   "metadata": {
    "collapsed": true
   },
   "outputs": [],
   "source": [
    "'''\n",
    "Baseline CNN (based on KERAS functional API)\n",
    "'''\n",
    "# \n",
    "inputs = Input(shape=(window_size, 5, ))\n",
    "x = Conv1D(\n",
    "    filters=hidden_filters_1,\n",
    "    kernel_size=hidden_kernel_size_1,\n",
    "    padding='same',\n",
    "    activation='relu',\n",
    "    strides=1)(inputs)\n",
    "x = Dropout(dropout_rate)(x)\n",
    "\n",
    "x = Conv1D(\n",
    "    filters=hidden_filters_1,\n",
    "    kernel_size=hidden_kernel_size_1,\n",
    "    padding='same',\n",
    "    activation='relu',\n",
    "    strides=1)(x)\n",
    "x = Dropout(dropout_rate)(x)\n",
    "\n",
    "x = Conv1D(\n",
    "    filters=hidden_filters_1,\n",
    "    kernel_size=hidden_kernel_size_1,\n",
    "    padding='same',\n",
    "    activation='relu',\n",
    "    strides=1)(x)\n",
    "x = Dropout(dropout_rate)(x)\n",
    "\n",
    "x = Conv1D(\n",
    "    filters=hidden_filters_1,\n",
    "    kernel_size=hidden_kernel_size_1,\n",
    "    padding='same',\n",
    "    activation='relu',\n",
    "    strides=1)(x)\n",
    "x = Dropout(dropout_rate)(x)\n",
    "\n",
    "x = Conv1D(\n",
    "    filters=hidden_filters_1,\n",
    "    kernel_size=hidden_kernel_size_1,\n",
    "    padding='same',\n",
    "    activation='relu',\n",
    "    strides=1)(x)\n",
    "x = Dropout(dropout_rate)(x)\n",
    "\n",
    "x = Conv1D(\n",
    "    filters=hidden_filters_1,\n",
    "    kernel_size=hidden_kernel_size_1,\n",
    "    padding='same',\n",
    "    activation='relu',\n",
    "    strides=1)(x)\n",
    "x = Dropout(dropout_rate)(x)\n",
    "x = Conv1D(\n",
    "    filters=hidden_filters_1,\n",
    "    kernel_size=hidden_kernel_size_1,\n",
    "    padding='same',\n",
    "    activation='relu',\n",
    "    strides=1)(x)\n",
    "x = Dropout(dropout_rate)(x)\n",
    "\n",
    "x = Conv1D(\n",
    "    filters=hidden_filters_1,\n",
    "    kernel_size=hidden_kernel_size_1,\n",
    "    padding='same',\n",
    "    activation='relu',\n",
    "    strides=1)(x)\n",
    "x = Dropout(dropout_rate)(x)\n",
    "\n",
    "x = Conv1D(\n",
    "    filters=hidden_filters_1,\n",
    "    kernel_size=hidden_kernel_size_1,\n",
    "    padding='same',\n",
    "    activation='relu',\n",
    "    strides=1)(x)\n",
    "x = Dropout(dropout_rate)(x)\n",
    "\n",
    "x = Conv1D(\n",
    "    filters=hidden_filters_1,\n",
    "    kernel_size=hidden_kernel_size_1,\n",
    "    padding='same',\n",
    "    activation='relu',\n",
    "    strides=1)(x)\n",
    "x = Dropout(dropout_rate)(x)\n",
    "\n",
    "x = Conv1D(\n",
    "    filters=hidden_filters_1,\n",
    "    kernel_size=hidden_kernel_size_1,\n",
    "    padding='same',\n",
    "    activation='relu',\n",
    "    strides=1)(x)\n",
    "x = Dropout(dropout_rate)(x)\n",
    "\n",
    "\n",
    "x = Conv1D(\n",
    "    filters=hidden_filters_2,\n",
    "    kernel_size=hidden_kernel_size_2,\n",
    "    padding='same',\n",
    "    activation='relu',\n",
    "    strides=1)(x)\n",
    "x = Dropout(dropout_rate)(x)\n",
    "x = Conv1D(\n",
    "    filters=hidden_filters_2,\n",
    "    kernel_size=hidden_kernel_size_2,\n",
    "    padding='same',\n",
    "    activation='relu',\n",
    "    strides=1)(x)\n",
    "x = Dropout(dropout_rate)(x)\n",
    "x = Conv1D(\n",
    "    filters=hidden_filters_2,\n",
    "    kernel_size=hidden_kernel_size_2,\n",
    "    padding='same',\n",
    "    activation='relu',\n",
    "    strides=1)(x)\n",
    "x = Dropout(dropout_rate)(x)\n",
    "x = Conv1D(\n",
    "    filters=hidden_filters_2,\n",
    "    kernel_size=hidden_kernel_size_2,\n",
    "    padding='same',\n",
    "    activation='relu',\n",
    "    strides=1)(x)\n",
    "x = Dropout(dropout_rate)(x)\n",
    "x = Conv1D(\n",
    "    filters=hidden_filters_2,\n",
    "    kernel_size=hidden_kernel_size_2,\n",
    "    padding='same',\n",
    "    activation='relu',\n",
    "    strides=1)(x)\n",
    "x = Dropout(dropout_rate)(x)\n",
    "x = Conv1D(\n",
    "    filters=hidden_filters_2,\n",
    "    kernel_size=hidden_kernel_size_2,\n",
    "    padding='same',\n",
    "    activation='relu',\n",
    "    strides=1)(x)\n",
    "x = Dropout(dropout_rate)(x)\n",
    "\n",
    "outputs = Conv1D(\n",
    "    filters=output_filters,\n",
    "    kernel_size=output_kernel_size,\n",
    "    padding='same',\n",
    "    activation='linear',\n",
    "    strides=1\n",
    "    )(x)\n",
    "\n",
    "model = Model(inputs=inputs, outputs=outputs)"
   ]
  },
  {
   "cell_type": "code",
   "execution_count": 20,
   "metadata": {},
   "outputs": [
    {
     "name": "stdout",
     "output_type": "stream",
     "text": [
      "_________________________________________________________________\n",
      "Layer (type)                 Output Shape              Param #   \n",
      "=================================================================\n",
      "input_1 (InputLayer)         (None, 2001, 5)           0         \n",
      "_________________________________________________________________\n",
      "conv1d_1 (Conv1D)            (None, 2001, 20)          3020      \n",
      "_________________________________________________________________\n",
      "dropout_1 (Dropout)          (None, 2001, 20)          0         \n",
      "_________________________________________________________________\n",
      "conv1d_2 (Conv1D)            (None, 2001, 20)          12020     \n",
      "_________________________________________________________________\n",
      "dropout_2 (Dropout)          (None, 2001, 20)          0         \n",
      "_________________________________________________________________\n",
      "conv1d_3 (Conv1D)            (None, 2001, 20)          12020     \n",
      "_________________________________________________________________\n",
      "dropout_3 (Dropout)          (None, 2001, 20)          0         \n",
      "_________________________________________________________________\n",
      "conv1d_4 (Conv1D)            (None, 2001, 20)          12020     \n",
      "_________________________________________________________________\n",
      "dropout_4 (Dropout)          (None, 2001, 20)          0         \n",
      "_________________________________________________________________\n",
      "conv1d_5 (Conv1D)            (None, 2001, 20)          12020     \n",
      "_________________________________________________________________\n",
      "dropout_5 (Dropout)          (None, 2001, 20)          0         \n",
      "_________________________________________________________________\n",
      "conv1d_6 (Conv1D)            (None, 2001, 20)          12020     \n",
      "_________________________________________________________________\n",
      "dropout_6 (Dropout)          (None, 2001, 20)          0         \n",
      "_________________________________________________________________\n",
      "conv1d_7 (Conv1D)            (None, 2001, 20)          12020     \n",
      "_________________________________________________________________\n",
      "dropout_7 (Dropout)          (None, 2001, 20)          0         \n",
      "_________________________________________________________________\n",
      "conv1d_8 (Conv1D)            (None, 2001, 20)          12020     \n",
      "_________________________________________________________________\n",
      "dropout_8 (Dropout)          (None, 2001, 20)          0         \n",
      "_________________________________________________________________\n",
      "conv1d_9 (Conv1D)            (None, 2001, 20)          12020     \n",
      "_________________________________________________________________\n",
      "dropout_9 (Dropout)          (None, 2001, 20)          0         \n",
      "_________________________________________________________________\n",
      "conv1d_10 (Conv1D)           (None, 2001, 20)          12020     \n",
      "_________________________________________________________________\n",
      "dropout_10 (Dropout)         (None, 2001, 20)          0         \n",
      "_________________________________________________________________\n",
      "conv1d_11 (Conv1D)           (None, 2001, 20)          12020     \n",
      "_________________________________________________________________\n",
      "dropout_11 (Dropout)         (None, 2001, 20)          0         \n",
      "_________________________________________________________________\n",
      "conv1d_12 (Conv1D)           (None, 2001, 10)          4010      \n",
      "_________________________________________________________________\n",
      "dropout_12 (Dropout)         (None, 2001, 10)          0         \n",
      "_________________________________________________________________\n",
      "conv1d_13 (Conv1D)           (None, 2001, 10)          2010      \n",
      "_________________________________________________________________\n",
      "dropout_13 (Dropout)         (None, 2001, 10)          0         \n",
      "_________________________________________________________________\n",
      "conv1d_14 (Conv1D)           (None, 2001, 10)          2010      \n",
      "_________________________________________________________________\n",
      "dropout_14 (Dropout)         (None, 2001, 10)          0         \n",
      "_________________________________________________________________\n",
      "conv1d_15 (Conv1D)           (None, 2001, 10)          2010      \n",
      "_________________________________________________________________\n",
      "dropout_15 (Dropout)         (None, 2001, 10)          0         \n",
      "_________________________________________________________________\n",
      "conv1d_16 (Conv1D)           (None, 2001, 10)          2010      \n",
      "_________________________________________________________________\n",
      "dropout_16 (Dropout)         (None, 2001, 10)          0         \n",
      "_________________________________________________________________\n",
      "conv1d_17 (Conv1D)           (None, 2001, 10)          2010      \n",
      "_________________________________________________________________\n",
      "dropout_17 (Dropout)         (None, 2001, 10)          0         \n",
      "_________________________________________________________________\n",
      "conv1d_18 (Conv1D)           (None, 2001, 1)           51        \n",
      "=================================================================\n",
      "Total params: 137,331\n",
      "Trainable params: 137,331\n",
      "Non-trainable params: 0\n",
      "_________________________________________________________________\n",
      "None\n"
     ]
    }
   ],
   "source": [
    "# Print out model summary\n",
    "print model.summary()"
   ]
  },
  {
   "cell_type": "code",
   "execution_count": 21,
   "metadata": {
    "collapsed": true
   },
   "outputs": [],
   "source": [
    "def pearson(y_true, y_pred):\n",
    "    x = y_true\n",
    "    y = y_pred\n",
    "    mx = K.mean(x)\n",
    "    my = K.mean(y)\n",
    "    xm, ym = x-mx, y-my\n",
    "    r_num = K.sum(np.multiply(xm,ym))\n",
    "    r_den = K.sqrt(np.multiply(K.sum(K.square(xm)), K.sum(K.square(ym))))\n",
    "    r = r_num / r_den\n",
    "    r = K.maximum(K.minimum(r, 1.0), -1.0)\n",
    "    return K.square(r)"
   ]
  },
  {
   "cell_type": "code",
   "execution_count": 50,
   "metadata": {
    "collapsed": true
   },
   "outputs": [],
   "source": [
    "# Helper functions for writing the scores into bigwig file\n",
    "from itertools import izip\n",
    "from itertools import groupby\n",
    "import subprocess\n",
    "\n",
    "def interval_key(interval):\n",
    "    return (interval.chrom, interval.start, interval.stop)\n",
    "\n",
    "def merged_scores(scores, intervals, merge_type):\n",
    "    # A generator that returns merged intervals/scores\n",
    "    # Scores should have shape: #examples x #categories x #interval_size\n",
    "    # Second dimension can be omitted for a 1D signal\n",
    "    signal_dims = scores.ndim - 1\n",
    "    assert signal_dims in {1, 2}\n",
    "\n",
    "    # Only support max for now\n",
    "    assert merge_type == 'max'\n",
    "    score_first_dim = 1 if signal_dims == 1 else scores.shape[1]\n",
    "\n",
    "    dtype = scores.dtype\n",
    "\n",
    "    sort_idx, sorted_intervals = \\\n",
    "        zip(*sorted(enumerate(intervals),\n",
    "                    key=lambda item: interval_key(item[1])))\n",
    "    sorted_intervals = BedTool(sorted_intervals)\n",
    "\n",
    "    # Require at least 1bp overlap\n",
    "    # Explicitly convert to list otherwise it will keep opening a file when\n",
    "    # retrieving an index resulting in an error (too many open files)\n",
    "    interval_clust = list(sorted_intervals.cluster(d=-1))\n",
    "    for _, group in groupby(izip(sort_idx, interval_clust),\n",
    "                            key=lambda item: item[1].fields[-1]):\n",
    "        idx_interval_pairs = list(group)\n",
    "        group_idx, group_intervals = zip(*idx_interval_pairs)\n",
    "\n",
    "        if len(idx_interval_pairs) == 1:\n",
    "            yield group_intervals[0], scores[group_idx[0], ...]\n",
    "        else:\n",
    "            group_chrom = group_intervals[0].chrom\n",
    "            group_start = min(interval.start for interval in group_intervals)\n",
    "            group_stop = max(interval.stop for interval in group_intervals)\n",
    "\n",
    "            # This part needs to change to support more merge_types (e.g. mean)\n",
    "            group_score = np.full((score_first_dim, group_stop - group_start),\n",
    "                                  -np.inf, dtype)\n",
    "            for idx, interval in idx_interval_pairs:\n",
    "                slice_start = interval.start - group_start\n",
    "                slice_stop = slice_start + (interval.stop - interval.start)\n",
    "                group_score[..., slice_start:slice_stop] = \\\n",
    "                    np.maximum(group_score[..., slice_start:slice_stop],\n",
    "                               scores[idx, ...])\n",
    "            if signal_dims == 1:\n",
    "                group_score = group_score.squeeze(axis=0)\n",
    "            yield Interval(group_chrom, group_start, group_stop), group_score\n",
    "            \n",
    "def interval_score_pairs(intervals, scores, merge_type):\n",
    "    return (izip(intervals, scores) if merge_type is None\n",
    "            else merged_scores(scores, intervals, merge_type))\n",
    "\n",
    "def _write_1D_deeplift_track(scores, intervals, file_prefix, merge_type='max',\n",
    "                             CHROM_SIZES='/mnt/data/annotations/by_release/hg19.GRCh37/hg19.chrom.sizes'):\n",
    "    assert scores.ndim == 2\n",
    "\n",
    "    bedgraph = file_prefix + '.bedGraph'\n",
    "    bigwig = file_prefix + '.bw'\n",
    "\n",
    "    print 'Writing 1D track of shape: {}'.format(scores.shape)\n",
    "    print 'Writing to file: {}'.format(bigwig)\n",
    "\n",
    "    with open(bedgraph, 'w') as fp:\n",
    "        for interval, score in interval_score_pairs(intervals, scores,\n",
    "                                                    merge_type):\n",
    "            chrom = interval.chrom\n",
    "            start = interval.start\n",
    "            for score_idx, val in enumerate(score):\n",
    "                fp.write('%s\\t%d\\t%d\\t%g\\n' % (chrom,\n",
    "                                               start + score_idx,\n",
    "                                               start + score_idx + 1,\n",
    "                                               val))\n",
    "    print 'Wrote bedgraph.'\n",
    "\n",
    "    try:\n",
    "        output = subprocess.check_output(\n",
    "            ['wigToBigWig', bedgraph, CHROM_SIZES, bigwig],\n",
    "            stderr=subprocess.STDOUT)\n",
    "        print 'wigToBigWig output: {}'.format(output)\n",
    "    except subprocess.CalledProcessError as e:\n",
    "        print 'wigToBigWig terminated with exit code {}'.format(\n",
    "            e.returncode)\n",
    "        print 'output was:\\n' + e.output\n",
    "\n",
    "    print 'Wrote bigwig.'"
   ]
  },
  {
   "cell_type": "code",
   "execution_count": 42,
   "metadata": {
    "collapsed": true
   },
   "outputs": [],
   "source": [
    "model_dir = os.path.join(\"models\", \"mse\")\n",
    "log_dir = os.path.join(\"logs\", \"mse\")\n",
    "srv_dir = os.path.join(\"/srv\", \"www\", \"kundaje\", \"jesikmin\")"
   ]
  },
  {
   "cell_type": "code",
   "execution_count": 24,
   "metadata": {},
   "outputs": [
    {
     "name": "stdout",
     "output_type": "stream",
     "text": [
      "Compiling a model with adam optimizer\n"
     ]
    }
   ],
   "source": [
    "# setting an adam optimizer with 1.0 clip norm\n",
    "adam = optimizers.Adam(clipnorm=1.)\n",
    "\n",
    "print \"Compiling a model with adam optimizer\"\n",
    "model.compile(loss=losses.mean_squared_error,\n",
    "              optimizer=adam,\n",
    "              metrics=[pearson, metrics.mse, metrics.mae])"
   ]
  },
  {
   "cell_type": "code",
   "execution_count": 25,
   "metadata": {
    "collapsed": true
   },
   "outputs": [],
   "source": [
    "# CallBack: tensorboard with grad histogram\n",
    "tensorboard = TensorBoard(log_dir=log_dir,\n",
    "                          histogram_freq=1,\n",
    "                          batch_size=batch_size,\n",
    "                          write_grads=True)"
   ]
  },
  {
   "cell_type": "code",
   "execution_count": 26,
   "metadata": {
    "collapsed": true
   },
   "outputs": [],
   "source": [
    "# CallBack: reduce learning rate when validation loss meets plateau\n",
    "reduce_lr = ReduceLROnPlateau(monitor='val_loss',\n",
    "                              factor=0.2,\n",
    "                              patience=5,\n",
    "                              min_lr=1e-5)"
   ]
  },
  {
   "cell_type": "code",
   "execution_count": 27,
   "metadata": {
    "collapsed": true
   },
   "outputs": [],
   "source": [
    "# CallBack: evaluate model for every evaulation epoch\n",
    "class EvaluateModel(Callback):\n",
    "    def __init__(self, X_test, y_test):\n",
    "        self.X_test, self.y_test = X_test, y_test\n",
    "        self.epochs = 0\n",
    "\n",
    "    def on_epoch_end(self, batch, logs={}):\n",
    "        self.epochs += 1\n",
    "        # evaluate the model\n",
    "        if self.epochs % evaluation_freq == 0:\n",
    "            scores = model.evaluate(X_test, y_test)\n",
    "            print zip(model.metrics_names, scores)\n",
    "            test_prediction = model.predict(X_test)\n",
    "            test_spearman_sum = 0.0\n",
    "            for idx, _pred in enumerate(test_prediction):\n",
    "                rho, _ = spearmanr(histone_mark_day0[10000+idx], _pred)\n",
    "                test_spearman_sum += rho\n",
    "            print \"Test spearman: {}\".format(test_spearman_sum * 1.0 / 1000)"
   ]
  },
  {
   "cell_type": "code",
   "execution_count": 43,
   "metadata": {
    "collapsed": true
   },
   "outputs": [],
   "source": [
    "# CallBack: store bigwig file for the best model\n",
    "class SaveBigwig(Callback):\n",
    "    def __init__(self, X_train, y_train, X_val, y_val, X_test, y_test):\n",
    "        self.best_val_loss = float('Inf')\n",
    "        self.best_epoch = -1\n",
    "        self.X_train, self.y_train = X_train, y_train\n",
    "        self.X_val, self.y_val = X_val, y_val\n",
    "        self.X_test, self.y_test = X_test, y_test\n",
    "        self.epochs = 0\n",
    "    \n",
    "    def on_epoch_end(self, batch, logs={}):\n",
    "        self.epochs += 1\n",
    "        cur_val_loss = logs['val_loss']\n",
    "        if cur_val_loss < self.best_val_loss:\n",
    "            self.best_val_loss = cur_val_loss\n",
    "            self.best_epoch = self.epochs\n",
    "            prediction = model.predict(X_train).reshape(7500, 2001)\n",
    "            _write_1D_deeplift_track(prediction,\n",
    "                                     normalized_day0_intervals[:7500], os.path.join(srv_dir, 'train'))\n",
    "            prediction = model.predict(X_val).reshape(2500, 2001)\n",
    "            _write_1D_deeplift_track(prediction,\n",
    "                                     normalized_day0_intervals[7500:10000], os.path.join(srv_dir, 'val'))\n",
    "            prediction = model.predict(X_test).reshape(1000, 2001)\n",
    "            _write_1D_deeplift_track(prediction,\n",
    "                                     normalized_day0_intervals[10000:11000], os.path.join(srv_dir, 'test'))\n",
    "            f = open(os.path.join(srv_dir, 'meta.txt'), 'wb')\n",
    "            f.write(str(self.epochs) + \"  \" + str(logs))\n",
    "            f.close()"
   ]
  },
  {
   "cell_type": "code",
   "execution_count": 44,
   "metadata": {},
   "outputs": [],
   "source": [
    "# CallBack: Save model checkpoint based on validation loss\n",
    "checkpointer = ModelCheckpoint(os.path.join(model_dir, \"best_model.h5\"),\n",
    "                               monitor='val_loss',\n",
    "                               verbose=1,\n",
    "                               save_best_only=True,\n",
    "                               mode='min')"
   ]
  },
  {
   "cell_type": "code",
   "execution_count": 51,
   "metadata": {},
   "outputs": [
    {
     "name": "stdout",
     "output_type": "stream",
     "text": [
      "Fitting the model...\n",
      "Train on 7500 samples, validate on 2500 samples\n",
      "Epoch 1/1\n",
      "1000/1000 [==============================] - 0s 486us/steps: 400.9920 - pearson: 0.1498 - mean_squared_error: 400.9920 - mean_absolu\n",
      "[('loss', 264.58325268554688), ('pearson', 0.047621041834354401), ('mean_squared_error', 264.58323107910155), ('mean_absolute_error', 5.5871324882507327)]\n",
      "Test spearman: 0.16422460311\n",
      "\n",
      "Epoch 00001: val_loss did not improve\n",
      "Writing 1D track of shape: (7500, 2001)\n",
      "Writing to file: /srv/www/kundaje/jesikmin/train.bw\n",
      "Wrote bedgraph.\n",
      "wigToBigWig output: \n",
      "Wrote bigwig.\n",
      "Writing 1D track of shape: (2500, 2001)\n",
      "Writing to file: /srv/www/kundaje/jesikmin/val.bw\n",
      "Wrote bedgraph.\n",
      "wigToBigWig output: \n",
      "Wrote bigwig.\n",
      "Writing 1D track of shape: (1000, 2001)\n",
      "Writing to file: /srv/www/kundaje/jesikmin/test.bw\n",
      "Wrote bedgraph.\n",
      "wigToBigWig output: \n",
      "Wrote bigwig.\n",
      "7500/7500 [==============================] - 179s 24ms/step - loss: 400.5508 - pearson: 0.1500 - mean_squared_error: 400.5508 - mean_absolute_error: 8.6587 - val_loss: 200.7414 - val_pearson: 0.0267 - val_mean_squared_error: 200.7414 - val_mean_absolute_error: 4.7490\n"
     ]
    },
    {
     "data": {
      "text/plain": [
       "<keras.callbacks.History at 0x7fe993d984d0>"
      ]
     },
     "execution_count": 51,
     "metadata": {},
     "output_type": "execute_result"
    }
   ],
   "source": [
    "print \"Fitting the model...\"\n",
    "X_train, y_train = atac_seq_day0[:7500], histone_mark_day0[:7500]\n",
    "X_val, y_val = atac_seq_day0[7500:10000], histone_mark_day0[7500:10000]\n",
    "X_test, y_test = atac_seq_day0[10000:11000], histone_mark_day0[10000:11000]\n",
    "\n",
    "model.fit(atac_seq_day0[:10000],\n",
    "          histone_mark_day0[:10000],\n",
    "          batch_size=batch_size,\n",
    "          epochs=num_epochs,\n",
    "          validation_split=0.25,   \n",
    "          #shuffle=True,\n",
    "          callbacks=[tensorboard,\n",
    "                     reduce_lr,\n",
    "                     EvaluateModel(X_test, y_test),\n",
    "                     checkpointer,\n",
    "                     SaveBigwig(X_train, y_train, X_val, y_val, X_test, y_test)])"
   ]
  },
  {
   "cell_type": "code",
   "execution_count": null,
   "metadata": {
    "collapsed": true
   },
   "outputs": [],
   "source": []
  }
 ],
 "metadata": {
  "kernelspec": {
   "display_name": "Python 2",
   "language": "python",
   "name": "python2"
  },
  "language_info": {
   "codemirror_mode": {
    "name": "ipython",
    "version": 2
   },
   "file_extension": ".py",
   "mimetype": "text/x-python",
   "name": "python",
   "nbconvert_exporter": "python",
   "pygments_lexer": "ipython2",
   "version": "2.7.13"
  }
 },
 "nbformat": 4,
 "nbformat_minor": 2
}
