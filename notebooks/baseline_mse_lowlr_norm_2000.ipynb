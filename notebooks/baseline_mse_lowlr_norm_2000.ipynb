{
 "cells": [
  {
   "cell_type": "markdown",
   "metadata": {},
   "source": [
    "# Baseline with mse loss with wide cnn modified + adam\n",
    "#### Convert histone mark signals and use deep CNN for training."
   ]
  },
  {
   "cell_type": "markdown",
   "metadata": {},
   "source": [
    "#### NOTE: Need to activate genomelake environment before this code. Simply type 'genomelake' in terminal."
   ]
  },
  {
   "cell_type": "code",
   "execution_count": 1,
   "metadata": {},
   "outputs": [
    {
     "name": "stdout",
     "output_type": "stream",
     "text": [
      "env: CUDA_VISIBLE_DEVICES=4,5\n"
     ]
    },
    {
     "name": "stderr",
     "output_type": "stream",
     "text": [
      "Using TensorFlow backend.\n"
     ]
    }
   ],
   "source": [
    "%env CUDA_VISIBLE_DEVICES=4,5\n",
    "import os, sys\n",
    "sys.path.append(\"..\")\n",
    "import random\n",
    "# custom file path package\n",
    "from data import Data_Directories\n",
    "# custom utility package\n",
    "from utils.compute_util import *\n",
    "# package for genomic data\n",
    "from pybedtools import Interval, BedTool\n",
    "from genomelake.extractors import ArrayExtractor, BigwigExtractor\n",
    "# package for plotting\n",
    "import matplotlib.pyplot as plt\n",
    "%matplotlib inline\n",
    "from scipy.stats.stats import pearsonr,spearmanr\n",
    "import tensorflow as tf\n",
    "from sklearn.preprocessing import quantile_transform"
   ]
  },
  {
   "cell_type": "code",
   "execution_count": 2,
   "metadata": {
    "collapsed": true
   },
   "outputs": [],
   "source": [
    "window_size = 2001\n",
    "sample_num = 10000"
   ]
  },
  {
   "cell_type": "code",
   "execution_count": 3,
   "metadata": {},
   "outputs": [
    {
     "name": "stdout",
     "output_type": "stream",
     "text": [
      "['day6', 'day3', 'day0']\n",
      "['100', '140']\n",
      "['H3K27me3', 'H3K4me1', 'H3K27ac']\n"
     ]
    }
   ],
   "source": [
    "# retrieve data\n",
    "data = Data_Directories()\n",
    "print data.intervals.keys()\n",
    "print data.input_atac['day0'].keys()\n",
    "print data.output_histone['day0'].keys()"
   ]
  },
  {
   "cell_type": "code",
   "execution_count": 4,
   "metadata": {},
   "outputs": [
    {
     "name": "stdout",
     "output_type": "stream",
     "text": [
      "# of Intervals Extracted for day0: 267226\n"
     ]
    }
   ],
   "source": [
    "# get intervals for day0 data\n",
    "day0_intervals = list(BedTool(data.intervals['day0']))\n",
    "print '# of Intervals Extracted for day0: {}'.format(len(day0_intervals))"
   ]
  },
  {
   "cell_type": "code",
   "execution_count": 5,
   "metadata": {},
   "outputs": [
    {
     "name": "stdout",
     "output_type": "stream",
     "text": [
      "Finished extracting bigwig for day0, 140bp\n"
     ]
    }
   ],
   "source": [
    "# create an ArrayExtractor for ATAC-seq for day0 with 140 base pairs\n",
    "bw_140bp_day0 = ArrayExtractor(data.input_atac['day0']['140'])\n",
    "print 'Finished extracting bigwig for day0, 140bp'"
   ]
  },
  {
   "cell_type": "code",
   "execution_count": 6,
   "metadata": {},
   "outputs": [
    {
     "name": "stdout",
     "output_type": "stream",
     "text": [
      "Finished extracting bigwig for day0, 140bp\n"
     ]
    }
   ],
   "source": [
    "# create a BigWigExtractor for histone makr 'H3K27ac' for day0\n",
    "bw_histone_mark_day0 = BigwigExtractor(data.output_histone['day0']['H3K27ac'])\n",
    "print 'Finished extracting bigwig for day0, 140bp'"
   ]
  },
  {
   "cell_type": "code",
   "execution_count": 7,
   "metadata": {},
   "outputs": [
    {
     "name": "stdout",
     "output_type": "stream",
     "text": [
      "Finished normalizing day0 intervals!\n"
     ]
    }
   ],
   "source": [
    "# normalize day0 intervals\n",
    "normalized_day0_intervals = [normalize_interval(interval, window_size) for interval in day0_intervals if normalize_interval(interval, window_size)]\n",
    "print 'Finished normalizing day0 intervals!'"
   ]
  },
  {
   "cell_type": "code",
   "execution_count": 8,
   "metadata": {},
   "outputs": [
    {
     "name": "stdout",
     "output_type": "stream",
     "text": [
      "Examples of original intervals\n",
      "[(123412027, [123411855, 123412989]), (123411941, [123411855, 123412989]), (131908564, [131908487, 131910071])]\n",
      "Examples of normalized intervals with window size of 2001\n",
      "[[123411027, 123413028], [123410941, 123412942], [131907564, 131909565]]\n"
     ]
    }
   ],
   "source": [
    "assert (len(day0_intervals)==len(normalized_day0_intervals))\n",
    "print \"Examples of original intervals\"\n",
    "print [(int(_interval.start)+int(_interval[-1]), [int(_interval.start), int(_interval.end)])\n",
    "       for _interval in day0_intervals[:3]]\n",
    "print \"Examples of normalized intervals with window size of {}\".format(window_size)\n",
    "print [([int(_interval.start), int(_interval.end)])\n",
    "       for _interval in  normalized_day0_intervals[:3]]"
   ]
  },
  {
   "cell_type": "code",
   "execution_count": 9,
   "metadata": {},
   "outputs": [
    {
     "name": "stdout",
     "output_type": "stream",
     "text": [
      "(267226, 2001, 5)\n"
     ]
    }
   ],
   "source": [
    "atac_seq_day0 = bw_140bp_day0(normalized_day0_intervals)\n",
    "print atac_seq_day0.shape"
   ]
  },
  {
   "cell_type": "code",
   "execution_count": 10,
   "metadata": {},
   "outputs": [
    {
     "name": "stdout",
     "output_type": "stream",
     "text": [
      "Before pruning day0: 267226\n",
      "After pruning day0: 267226\n"
     ]
    }
   ],
   "source": [
    "#TODO: put this into utils if possible\n",
    "def prune_invalid_intervals(intervals, bigwig_file):\n",
    "    for _interval in intervals[:]:\n",
    "        try:\n",
    "            bigwig_file([_interval])\n",
    "        except:\n",
    "            intervals.remove(_interval)\n",
    "            pass\n",
    "        \n",
    "print \"Before pruning day0: {}\".format(len(normalized_day0_intervals))\n",
    "prune_invalid_intervals(normalized_day0_intervals, bw_140bp_day0)\n",
    "print \"After pruning day0: {}\".format(len(normalized_day0_intervals))"
   ]
  },
  {
   "cell_type": "code",
   "execution_count": 11,
   "metadata": {},
   "outputs": [
    {
     "name": "stdout",
     "output_type": "stream",
     "text": [
      "Dimension of ATAC-seq signal: (1, 2001, 5)\n"
     ]
    }
   ],
   "source": [
    "print \"Dimension of ATAC-seq signal: {}\".format(bw_140bp_day0(normalized_day0_intervals[:1]).shape)"
   ]
  },
  {
   "cell_type": "code",
   "execution_count": 12,
   "metadata": {},
   "outputs": [
    {
     "name": "stdout",
     "output_type": "stream",
     "text": [
      "Dimension of histone mark signal: (1, 2001)\n"
     ]
    }
   ],
   "source": [
    "print \"Dimension of histone mark signal: {}\".format(bw_histone_mark_day0(normalized_day0_intervals[:1]).shape)"
   ]
  },
  {
   "cell_type": "code",
   "execution_count": 13,
   "metadata": {},
   "outputs": [
    {
     "name": "stdout",
     "output_type": "stream",
     "text": [
      "(267226, 2001)\n"
     ]
    }
   ],
   "source": [
    "# replace nan values with zeros and convert it to p-values\n",
    "histone_mark_day0 = np.nan_to_num(bw_histone_mark_day0(normalized_day0_intervals))\n",
    "print histone_mark_day0.shape"
   ]
  },
  {
   "cell_type": "code",
   "execution_count": 14,
   "metadata": {},
   "outputs": [
    {
     "name": "stdout",
     "output_type": "stream",
     "text": [
      "(267226, 2001, 1)\n"
     ]
    }
   ],
   "source": [
    "histone_mark_day0 = np.expand_dims(histone_mark_day0, axis=2)\n",
    "print histone_mark_day0.shape"
   ]
  },
  {
   "cell_type": "code",
   "execution_count": 15,
   "metadata": {},
   "outputs": [
    {
     "name": "stdout",
     "output_type": "stream",
     "text": [
      "Example histone mark signal\n",
      "\tRaw value: [ 0.01014  0.01014  0.01014  0.02435  0.02435]\n"
     ]
    }
   ],
   "source": [
    "print \"Example histone mark signal\"\n",
    "print \"\\tRaw value: {}\".format(bw_histone_mark_day0(normalized_day0_intervals[:1])[0][:5].reshape(-1))"
   ]
  },
  {
   "cell_type": "code",
   "execution_count": 16,
   "metadata": {
    "collapsed": true
   },
   "outputs": [],
   "source": [
    "from keras.layers import Input, Dense, Conv1D, Dropout, BatchNormalization\n",
    "from keras.layers.advanced_activations import LeakyReLU\n",
    "from keras.models import Model\n",
    "from keras import optimizers\n",
    "from keras import metrics\n",
    "from keras import losses\n",
    "from keras import backend as K\n",
    "from keras.callbacks import Callback, TensorBoard, ReduceLROnPlateau, ModelCheckpoint"
   ]
  },
  {
   "cell_type": "code",
   "execution_count": 17,
   "metadata": {
    "collapsed": true
   },
   "outputs": [],
   "source": [
    "dropout_rate = 0.5\n",
    "# parameters for first conv layer\n",
    "hidden_filters_1 = 32\n",
    "hidden_kernel_size_1 = window_size\n",
    "# parameters for second conv layer\n",
    "output_filters = 1\n",
    "output_kernel_size = 32\n",
    "# parameters for training\n",
    "batch_size = 128\n",
    "num_epochs = 150\n",
    "evaluation_freq = 10"
   ]
  },
  {
   "cell_type": "code",
   "execution_count": 18,
   "metadata": {
    "collapsed": true
   },
   "outputs": [],
   "source": [
    "'''\n",
    "Baseline CNN (based on KERAS functional API)\n",
    "'''\n",
    "inputs = Input(shape=(window_size, 5, ))\n",
    "x = Conv1D(\n",
    "    filters=hidden_filters_1,\n",
    "    kernel_size=hidden_kernel_size_1,\n",
    "    padding='same',\n",
    "    activation='relu',\n",
    "    strides=1,\n",
    "    name='gen_conv1d_1')(inputs)\n",
    "x = Dropout(dropout_rate,\n",
    "            name='gen_dropout_1')(x)\n",
    "# x = BatchNormalization(momentum=0.8)(x)\n",
    "\n",
    "outputs = Conv1D(\n",
    "    filters=output_filters,\n",
    "    kernel_size=output_kernel_size,\n",
    "    padding='same',\n",
    "    activation='linear',\n",
    "    strides=1,\n",
    "    name='gen_conv1d_output'\n",
    "    )(x)\n",
    "\n",
    "model = Model(inputs=inputs, outputs=outputs)"
   ]
  },
  {
   "cell_type": "code",
   "execution_count": 19,
   "metadata": {},
   "outputs": [
    {
     "name": "stdout",
     "output_type": "stream",
     "text": [
      "_________________________________________________________________\n",
      "Layer (type)                 Output Shape              Param #   \n",
      "=================================================================\n",
      "input_1 (InputLayer)         (None, 2001, 5)           0         \n",
      "_________________________________________________________________\n",
      "gen_conv1d_1 (Conv1D)        (None, 2001, 32)          320192    \n",
      "_________________________________________________________________\n",
      "gen_dropout_1 (Dropout)      (None, 2001, 32)          0         \n",
      "_________________________________________________________________\n",
      "gen_conv1d_output (Conv1D)   (None, 2001, 1)           1025      \n",
      "=================================================================\n",
      "Total params: 321,217\n",
      "Trainable params: 321,217\n",
      "Non-trainable params: 0\n",
      "_________________________________________________________________\n",
      "None\n"
     ]
    }
   ],
   "source": [
    "# Print out model summary\n",
    "print model.summary()"
   ]
  },
  {
   "cell_type": "code",
   "execution_count": 20,
   "metadata": {
    "collapsed": true
   },
   "outputs": [],
   "source": [
    "def pearson(y_true, y_pred):\n",
    "    x = y_true\n",
    "    y = y_pred\n",
    "    mx = K.mean(x)\n",
    "    my = K.mean(y)\n",
    "    xm, ym = x-mx, y-my\n",
    "    r_num = K.sum(np.multiply(xm,ym))\n",
    "    r_den = K.sqrt(np.multiply(K.sum(K.square(xm)), K.sum(K.square(ym))))\n",
    "    r = r_num / r_den\n",
    "    r = K.maximum(K.minimum(r, 1.0), -1.0)\n",
    "    return K.square(r)"
   ]
  },
  {
   "cell_type": "code",
   "execution_count": 21,
   "metadata": {
    "collapsed": true
   },
   "outputs": [],
   "source": [
    "# Helper functions for writing the scores into bigwig file\n",
    "from itertools import izip\n",
    "from itertools import groupby\n",
    "import subprocess\n",
    "\n",
    "def interval_key(interval):\n",
    "    return (interval.chrom, interval.start, interval.stop)\n",
    "\n",
    "def merged_scores(scores, intervals, merge_type):\n",
    "    # A generator that returns merged intervals/scores\n",
    "    # Scores should have shape: #examples x #categories x #interval_size\n",
    "    # Second dimension can be omitted for a 1D signal\n",
    "    signal_dims = scores.ndim - 1\n",
    "    assert signal_dims in {1, 2}\n",
    "\n",
    "    # Only support max for now\n",
    "    assert merge_type == 'max'\n",
    "    score_first_dim = 1 if signal_dims == 1 else scores.shape[1]\n",
    "\n",
    "    dtype = scores.dtype\n",
    "\n",
    "    sort_idx, sorted_intervals = \\\n",
    "        zip(*sorted(enumerate(intervals),\n",
    "                    key=lambda item: interval_key(item[1])))\n",
    "    sorted_intervals = BedTool(sorted_intervals)\n",
    "\n",
    "    # Require at least 1bp overlap\n",
    "    # Explicitly convert to list otherwise it will keep opening a file when\n",
    "    # retrieving an index resulting in an error (too many open files)\n",
    "    interval_clust = list(sorted_intervals.cluster(d=-1))\n",
    "    for _, group in groupby(izip(sort_idx, interval_clust),\n",
    "                            key=lambda item: item[1].fields[-1]):\n",
    "        idx_interval_pairs = list(group)\n",
    "        group_idx, group_intervals = zip(*idx_interval_pairs)\n",
    "\n",
    "        if len(idx_interval_pairs) == 1:\n",
    "            yield group_intervals[0], scores[group_idx[0], ...]\n",
    "        else:\n",
    "            group_chrom = group_intervals[0].chrom\n",
    "            group_start = min(interval.start for interval in group_intervals)\n",
    "            group_stop = max(interval.stop for interval in group_intervals)\n",
    "\n",
    "            # This part needs to change to support more merge_types (e.g. mean)\n",
    "            group_score = np.full((score_first_dim, group_stop - group_start),\n",
    "                                  -np.inf, dtype)\n",
    "            for idx, interval in idx_interval_pairs:\n",
    "                slice_start = interval.start - group_start\n",
    "                slice_stop = slice_start + (interval.stop - interval.start)\n",
    "                group_score[..., slice_start:slice_stop] = \\\n",
    "                    np.maximum(group_score[..., slice_start:slice_stop],\n",
    "                               scores[idx, ...])\n",
    "            if signal_dims == 1:\n",
    "                group_score = group_score.squeeze(axis=0)\n",
    "            yield Interval(group_chrom, group_start, group_stop), group_score\n",
    "            \n",
    "def interval_score_pairs(intervals, scores, merge_type):\n",
    "    return (izip(intervals, scores) if merge_type is None\n",
    "            else merged_scores(scores, intervals, merge_type))\n",
    "\n",
    "def _write_1D_deeplift_track(scores, intervals, file_prefix, merge_type='max',\n",
    "                             CHROM_SIZES='/mnt/data/annotations/by_release/hg19.GRCh37/hg19.chrom.sizes'):\n",
    "    assert scores.ndim == 2\n",
    "\n",
    "    bedgraph = file_prefix + '.bedGraph'\n",
    "    bigwig = file_prefix + '.bw'\n",
    "\n",
    "    print 'Writing 1D track of shape: {}'.format(scores.shape)\n",
    "    print 'Writing to file: {}'.format(bigwig)\n",
    "\n",
    "    with open(bedgraph, 'w') as fp:\n",
    "        for interval, score in interval_score_pairs(intervals, scores,\n",
    "                                                    merge_type):\n",
    "            chrom = interval.chrom\n",
    "            start = interval.start\n",
    "            for score_idx, val in enumerate(score):\n",
    "                fp.write('%s\\t%d\\t%d\\t%g\\n' % (chrom,\n",
    "                                               start + score_idx,\n",
    "                                               start + score_idx + 1,\n",
    "                                               val))\n",
    "    print 'Wrote bedgraph.'\n",
    "\n",
    "    try:\n",
    "        output = subprocess.check_output(\n",
    "            ['wigToBigWig', bedgraph, CHROM_SIZES, bigwig],\n",
    "            stderr=subprocess.STDOUT)\n",
    "        print 'wigToBigWig output: {}'.format(output)\n",
    "    except subprocess.CalledProcessError as e:\n",
    "        print 'wigToBigWig terminated with exit code {}'.format(\n",
    "            e.returncode)\n",
    "        print 'output was:\\n' + e.output\n",
    "\n",
    "    print 'Wrote bigwig.'"
   ]
  },
  {
   "cell_type": "code",
   "execution_count": 22,
   "metadata": {
    "collapsed": true
   },
   "outputs": [],
   "source": [
    "model_dir = os.path.join(\"models\", \"cnn_2000_norm_new\")\n",
    "log_dir = os.path.join(\"logs\", \"cnn_2000_norm_new\")\n",
    "srv_dir = os.path.join(\"/srv\", \"www\", \"kundaje\", \"jesikmin\", \"cnn_2000_norm_new\")\n",
    "if not os.path.exists(model_dir):\n",
    "    os.makedirs(model_dir)\n",
    "if not os.path.exists(log_dir):\n",
    "    os.makedirs(log_dir)\n",
    "if not os.path.exists(srv_dir):\n",
    "    os.makedirs(srv_dir)"
   ]
  },
  {
   "cell_type": "code",
   "execution_count": 23,
   "metadata": {},
   "outputs": [
    {
     "name": "stdout",
     "output_type": "stream",
     "text": [
      "Compiling a model with adam optimizer\n"
     ]
    }
   ],
   "source": [
    "# setting an adam optimizer with 1.0 clip norm\n",
    "adam = optimizers.Adam(lr=1e-3, clipnorm=1.)\n",
    "\n",
    "print \"Compiling a model with adam optimizer\"\n",
    "model.compile(loss=losses.mean_squared_error,\n",
    "              optimizer=adam,\n",
    "              metrics=[pearson, metrics.mse, metrics.mae])"
   ]
  },
  {
   "cell_type": "code",
   "execution_count": 24,
   "metadata": {
    "collapsed": true
   },
   "outputs": [],
   "source": [
    "# CallBack: tensorboard with grad histogram\n",
    "tensorboard = TensorBoard(log_dir=log_dir,\n",
    "                          histogram_freq=1,\n",
    "                          batch_size=batch_size,\n",
    "                          write_grads=True)"
   ]
  },
  {
   "cell_type": "code",
   "execution_count": 25,
   "metadata": {
    "collapsed": true
   },
   "outputs": [],
   "source": [
    "# CallBack: reduce learning rate when validation loss meets plateau\n",
    "reduce_lr = ReduceLROnPlateau(monitor='val_loss',\n",
    "                              factor=0.96,\n",
    "                              patience=5,\n",
    "                              min_lr=1e-7)"
   ]
  },
  {
   "cell_type": "code",
   "execution_count": 26,
   "metadata": {
    "collapsed": true
   },
   "outputs": [],
   "source": [
    "# CallBack: evaluate model for every evaulation epoch\n",
    "class EvaluateModel(Callback):\n",
    "    def __init__(self, X_test, y_test):\n",
    "        self.X_test, self.y_test = X_test, y_test\n",
    "        self.epochs = 0\n",
    "\n",
    "    def on_epoch_end(self, batch, logs={}):\n",
    "        self.epochs += 1\n",
    "        # evaluate the model\n",
    "        if self.epochs % evaluation_freq == 0:\n",
    "            scores = model.evaluate(X_test, y_test)\n",
    "            print zip(model.metrics_names, scores)\n",
    "            test_prediction = model.predict(X_test)\n",
    "            test_spearman_sum = 0.0\n",
    "            for idx, _pred in enumerate(test_prediction):\n",
    "                rho, _ = spearmanr(histone_mark_day0[10000+idx], _pred)\n",
    "                test_spearman_sum += rho\n",
    "            print \"Test spearman: {}\".format(test_spearman_sum * 1.0 / 1000)"
   ]
  },
  {
   "cell_type": "code",
   "execution_count": 27,
   "metadata": {
    "collapsed": true
   },
   "outputs": [],
   "source": [
    "# CallBack: store bigwig file for the best model\n",
    "class SaveBigwig(Callback):\n",
    "    def __init__(self, X_train, y_train, X_val, y_val, X_test, y_test):\n",
    "        self.best_val_loss = float('Inf')\n",
    "        self.best_epoch = -1\n",
    "        self.X_train, self.y_train = X_train, y_train\n",
    "        self.X_val, self.y_val = X_val, y_val\n",
    "        self.X_test, self.y_test = X_test, y_test\n",
    "        self.epochs = 0\n",
    "    \n",
    "    def on_epoch_end(self, batch, logs={}):\n",
    "        self.epochs += 1\n",
    "        cur_val_loss = logs['val_loss']\n",
    "        if cur_val_loss < self.best_val_loss:\n",
    "            self.best_val_loss = cur_val_loss\n",
    "            self.best_epoch = self.epochs\n",
    "            prediction = model.predict(X_train).reshape(int(sample_num*0.8), window_size)\n",
    "            _write_1D_deeplift_track(prediction,\n",
    "                                     normalized_day0_intervals[:int(sample_num*0.8)], os.path.join(srv_dir, 'train'))\n",
    "            prediction = model.predict(X_val).reshape(int(sample_num*0.2), window_size)\n",
    "            _write_1D_deeplift_track(prediction,\n",
    "                                     normalized_day0_intervals[int(sample_num*0.8):sample_num], os.path.join(srv_dir, 'val'))\n",
    "            prediction = model.predict(X_test).reshape(int(sample_num*0.1), window_size)\n",
    "            _write_1D_deeplift_track(prediction,\n",
    "                                     normalized_day0_intervals[sample_num:int(sample_num*1.1)], os.path.join(srv_dir, 'test'))\n",
    "            f = open(os.path.join(srv_dir, 'meta.txt'), 'wb')\n",
    "            f.write(str(self.epochs) + \"  \" + str(logs))\n",
    "            f.close()"
   ]
  },
  {
   "cell_type": "code",
   "execution_count": 28,
   "metadata": {
    "collapsed": true
   },
   "outputs": [],
   "source": [
    "# CallBack: Save model checkpoint based on validation loss\n",
    "checkpointer = ModelCheckpoint(os.path.join(model_dir, \"best_model.h5\"),\n",
    "                               monitor='val_loss',\n",
    "                               verbose=1,\n",
    "                               save_best_only=True,\n",
    "                               mode='min')"
   ]
  },
  {
   "cell_type": "code",
   "execution_count": 54,
   "metadata": {
    "scrolled": false
   },
   "outputs": [
    {
     "name": "stdout",
     "output_type": "stream",
     "text": [
      "Fitting the model...\n",
      "1.0 -1.0\n",
      "1.0 -1.0\n",
      "1.0 -1.0\n",
      "Train on 8000 samples, validate on 2000 samples\n",
      "Epoch 1/150\n",
      "7936/8000 [============================>.] - ETA: 0s - loss: 364.8990 - pearson: 0.1999 - mean_squared_error: 364.8990 - mean_absolute_error: 7.9596\n",
      "Epoch 00001: val_loss improved from 132.13225 to 130.81945, saving model to models/cnn_2000_norm_new/best_model.h5\n",
      "Writing 1D track of shape: (8000, 2001)\n",
      "Writing to file: /srv/www/kundaje/jesikmin/cnn_2000_norm_new/train.bw\n",
      "Wrote bedgraph.\n",
      "wigToBigWig output: \n",
      "Wrote bigwig.\n",
      "Writing 1D track of shape: (2000, 2001)\n",
      "Writing to file: /srv/www/kundaje/jesikmin/cnn_2000_norm_new/val.bw\n",
      "Wrote bedgraph.\n",
      "wigToBigWig output: \n",
      "Wrote bigwig.\n",
      "Writing 1D track of shape: (1000, 2001)\n",
      "Writing to file: /srv/www/kundaje/jesikmin/cnn_2000_norm_new/test.bw\n",
      "Wrote bedgraph.\n",
      "wigToBigWig output: \n",
      "Wrote bigwig.\n",
      "8000/8000 [==============================] - 159s 20ms/step - loss: 364.7033 - pearson: 0.1997 - mean_squared_error: 364.7033 - mean_absolute_error: 7.9578 - val_loss: 130.8194 - val_pearson: 0.1535 - val_mean_squared_error: 130.8195 - val_mean_absolute_error: 4.2030\n",
      "Epoch 2/150\n",
      "7936/8000 [============================>.] - ETA: 0s - loss: 365.5948 - pearson: 0.1992 - mean_squared_error: 365.5948 - mean_absolute_error: 7.9357\n",
      "Epoch 00002: val_loss improved from 130.81945 to 129.86874, saving model to models/cnn_2000_norm_new/best_model.h5\n",
      "Writing 1D track of shape: (8000, 2001)\n",
      "Writing to file: /srv/www/kundaje/jesikmin/cnn_2000_norm_new/train.bw\n",
      "Wrote bedgraph.\n",
      "wigToBigWig output: \n",
      "Wrote bigwig.\n",
      "Writing 1D track of shape: (2000, 2001)\n",
      "Writing to file: /srv/www/kundaje/jesikmin/cnn_2000_norm_new/val.bw\n",
      "Wrote bedgraph.\n",
      "wigToBigWig output: \n",
      "Wrote bigwig.\n",
      "Writing 1D track of shape: (1000, 2001)\n",
      "Writing to file: /srv/www/kundaje/jesikmin/cnn_2000_norm_new/test.bw\n",
      "Wrote bedgraph.\n",
      "wigToBigWig output: \n",
      "Wrote bigwig.\n",
      "8000/8000 [==============================] - 160s 20ms/step - loss: 364.8381 - pearson: 0.1997 - mean_squared_error: 364.8381 - mean_absolute_error: 7.9322 - val_loss: 129.8687 - val_pearson: 0.1560 - val_mean_squared_error: 129.8687 - val_mean_absolute_error: 3.8379\n",
      "Epoch 3/150\n",
      "7936/8000 [============================>.] - ETA: 0s - loss: 365.4820 - pearson: 0.2056 - mean_squared_error: 365.4819 - mean_absolute_error: 7.9376\n",
      "Epoch 00003: val_loss did not improve\n",
      "8000/8000 [==============================] - 16s 2ms/step - loss: 364.2478 - pearson: 0.2070 - mean_squared_error: 364.2478 - mean_absolute_error: 7.9295 - val_loss: 130.3799 - val_pearson: 0.1549 - val_mean_squared_error: 130.3799 - val_mean_absolute_error: 4.2044\n",
      "Epoch 4/150\n",
      "7936/8000 [============================>.] - ETA: 0s - loss: 363.1076 - pearson: 0.2055 - mean_squared_error: 363.1076 - mean_absolute_error: 7.8892\n",
      "Epoch 00004: val_loss did not improve\n",
      "8000/8000 [==============================] - 16s 2ms/step - loss: 362.1777 - pearson: 0.2064 - mean_squared_error: 362.1777 - mean_absolute_error: 7.8746 - val_loss: 131.6352 - val_pearson: 0.1552 - val_mean_squared_error: 131.6352 - val_mean_absolute_error: 3.5865\n",
      "Epoch 5/150\n",
      "7936/8000 [============================>.] - ETA: 0s - loss: 366.2949 - pearson: 0.2059 - mean_squared_error: 366.2949 - mean_absolute_error: 8.0602\n",
      "Epoch 00005: val_loss did not improve\n",
      "8000/8000 [==============================] - 16s 2ms/step - loss: 364.4775 - pearson: 0.2056 - mean_squared_error: 364.4775 - mean_absolute_error: 8.0395 - val_loss: 131.8381 - val_pearson: 0.1540 - val_mean_squared_error: 131.8381 - val_mean_absolute_error: 3.6815\n",
      "Epoch 6/150\n",
      "7936/8000 [============================>.] - ETA: 0s - loss: 363.0214 - pearson: 0.2052 - mean_squared_error: 363.0214 - mean_absolute_error: 8.0492\n",
      "Epoch 00006: val_loss did not improve\n",
      "8000/8000 [==============================] - 16s 2ms/step - loss: 361.3045 - pearson: 0.2053 - mean_squared_error: 361.3045 - mean_absolute_error: 8.0291 - val_loss: 132.4488 - val_pearson: 0.1546 - val_mean_squared_error: 132.4488 - val_mean_absolute_error: 3.5414\n",
      "Epoch 7/150\n",
      "7936/8000 [============================>.] - ETA: 0s - loss: 363.6704 - pearson: 0.2072 - mean_squared_error: 363.6704 - mean_absolute_error: 7.8990\n",
      "Epoch 00007: val_loss did not improve\n",
      "8000/8000 [==============================] - 16s 2ms/step - loss: 361.6978 - pearson: 0.2090 - mean_squared_error: 361.6978 - mean_absolute_error: 7.8868 - val_loss: 132.5706 - val_pearson: 0.1533 - val_mean_squared_error: 132.5706 - val_mean_absolute_error: 4.6394\n",
      "Epoch 8/150\n",
      "7936/8000 [============================>.] - ETA: 0s - loss: 361.7380 - pearson: 0.2085 - mean_squared_error: 361.7380 - mean_absolute_error: 8.0412\n",
      "Epoch 00008: val_loss did not improve\n",
      "8000/8000 [==============================] - 16s 2ms/step - loss: 361.3457 - pearson: 0.2086 - mean_squared_error: 361.3457 - mean_absolute_error: 8.0352 - val_loss: 130.6345 - val_pearson: 0.1561 - val_mean_squared_error: 130.6345 - val_mean_absolute_error: 3.7885\n",
      "Epoch 9/150\n",
      "7936/8000 [============================>.] - ETA: 0s - loss: 361.8179 - pearson: 0.2103 - mean_squared_error: 361.8179 - mean_absolute_error: 8.1543\n",
      "Epoch 00009: val_loss did not improve\n",
      "8000/8000 [==============================] - 16s 2ms/step - loss: 362.6201 - pearson: 0.2110 - mean_squared_error: 362.6201 - mean_absolute_error: 8.1570 - val_loss: 130.6142 - val_pearson: 0.1549 - val_mean_squared_error: 130.6142 - val_mean_absolute_error: 3.8043\n",
      "Epoch 10/150\n",
      "1000/1000 [==============================] - 1s 650us/steps: 360.8688 - pearson: 0.2143 - mean_squared_error: 360.8688 - mean_\n",
      "[('loss', 7031.2158124999996), ('pearson', 0.0057680481303832498), ('mean_squared_error', 7031.2158164062503), ('mean_absolute_error', 70.906794799804686)]\n",
      "Test spearman: 0.0499291107075\n",
      "\n",
      "Epoch 00010: val_loss did not improve\n",
      "8000/8000 [==============================] - 18s 2ms/step - loss: 359.2298 - pearson: 0.2138 - mean_squared_error: 359.2298 - mean_absolute_error: 8.0365 - val_loss: 130.3631 - val_pearson: 0.1568 - val_mean_squared_error: 130.3631 - val_mean_absolute_error: 3.8358\n",
      "Epoch 11/150\n",
      "7936/8000 [============================>.] - ETA: 0s - loss: 360.6976 - pearson: 0.2166 - mean_squared_error: 360.6976 - mean_absolute_error: 7.9034\n",
      "Epoch 00011: val_loss did not improve\n",
      "8000/8000 [==============================] - 16s 2ms/step - loss: 359.7589 - pearson: 0.2158 - mean_squared_error: 359.7589 - mean_absolute_error: 7.9099 - val_loss: 130.3314 - val_pearson: 0.1569 - val_mean_squared_error: 130.3314 - val_mean_absolute_error: 4.2582\n",
      "Epoch 12/150\n",
      "7936/8000 [============================>.] - ETA: 0s - loss: 360.0311 - pearson: 0.2107 - mean_squared_error: 360.0311 - mean_absolute_error: 7.9893\n",
      "Epoch 00012: val_loss did not improve\n",
      "8000/8000 [==============================] - 16s 2ms/step - loss: 358.4870 - pearson: 0.2122 - mean_squared_error: 358.4870 - mean_absolute_error: 7.9748 - val_loss: 131.2819 - val_pearson: 0.1536 - val_mean_squared_error: 131.2819 - val_mean_absolute_error: 4.2371\n",
      "Epoch 13/150\n",
      "7936/8000 [============================>.] - ETA: 0s - loss: 359.3203 - pearson: 0.2143 - mean_squared_error: 359.3203 - mean_absolute_error: 7.9881\n",
      "Epoch 00013: val_loss improved from 129.86874 to 129.59431, saving model to models/cnn_2000_norm_new/best_model.h5\n",
      "Writing 1D track of shape: (8000, 2001)\n",
      "Writing to file: /srv/www/kundaje/jesikmin/cnn_2000_norm_new/train.bw\n",
      "Wrote bedgraph.\n",
      "wigToBigWig output: \n",
      "Wrote bigwig.\n",
      "Writing 1D track of shape: (2000, 2001)\n",
      "Writing to file: /srv/www/kundaje/jesikmin/cnn_2000_norm_new/val.bw\n",
      "Wrote bedgraph.\n",
      "wigToBigWig output: \n",
      "Wrote bigwig.\n",
      "Writing 1D track of shape: (1000, 2001)\n",
      "Writing to file: /srv/www/kundaje/jesikmin/cnn_2000_norm_new/test.bw\n",
      "Wrote bedgraph.\n",
      "wigToBigWig output: \n",
      "Wrote bigwig.\n",
      "8000/8000 [==============================] - 159s 20ms/step - loss: 358.8277 - pearson: 0.2165 - mean_squared_error: 358.8277 - mean_absolute_error: 7.9775 - val_loss: 129.5943 - val_pearson: 0.1598 - val_mean_squared_error: 129.5943 - val_mean_absolute_error: 4.2464\n",
      "Epoch 14/150\n",
      "7936/8000 [============================>.] - ETA: 0s - loss: 356.4811 - pearson: 0.2162 - mean_squared_error: 356.4811 - mean_absolute_error: 8.0491\n",
      "Epoch 00014: val_loss did not improve\n",
      "8000/8000 [==============================] - 16s 2ms/step - loss: 355.9230 - pearson: 0.2153 - mean_squared_error: 355.9230 - mean_absolute_error: 8.0352 - val_loss: 131.0029 - val_pearson: 0.1546 - val_mean_squared_error: 131.0029 - val_mean_absolute_error: 3.8930\n"
     ]
    },
    {
     "name": "stdout",
     "output_type": "stream",
     "text": [
      "Epoch 15/150\n",
      "7936/8000 [============================>.] - ETA: 0s - loss: 356.3759 - pearson: 0.2202 - mean_squared_error: 356.3759 - mean_absolute_error: 7.9445\n",
      "Epoch 00015: val_loss did not improve\n",
      "8000/8000 [==============================] - 16s 2ms/step - loss: 356.0722 - pearson: 0.2191 - mean_squared_error: 356.0722 - mean_absolute_error: 7.9432 - val_loss: 130.2129 - val_pearson: 0.1554 - val_mean_squared_error: 130.2129 - val_mean_absolute_error: 3.9725\n",
      "Epoch 16/150\n",
      "7936/8000 [============================>.] - ETA: 0s - loss: 355.8525 - pearson: 0.2190 - mean_squared_error: 355.8525 - mean_absolute_error: 7.8555\n",
      "Epoch 00016: val_loss did not improve\n",
      "8000/8000 [==============================] - 16s 2ms/step - loss: 356.3076 - pearson: 0.2189 - mean_squared_error: 356.3076 - mean_absolute_error: 7.8647 - val_loss: 130.7053 - val_pearson: 0.1560 - val_mean_squared_error: 130.7053 - val_mean_absolute_error: 4.2929\n",
      "Epoch 17/150\n",
      "7936/8000 [============================>.] - ETA: 0s - loss: 357.0058 - pearson: 0.2194 - mean_squared_error: 357.0058 - mean_absolute_error: 8.1250\n",
      "Epoch 00017: val_loss did not improve\n",
      "8000/8000 [==============================] - 16s 2ms/step - loss: 359.4300 - pearson: 0.2200 - mean_squared_error: 359.4300 - mean_absolute_error: 8.1365 - val_loss: 130.6173 - val_pearson: 0.1534 - val_mean_squared_error: 130.6173 - val_mean_absolute_error: 3.8598\n",
      "Epoch 18/150\n",
      "7936/8000 [============================>.] - ETA: 0s - loss: 356.8851 - pearson: 0.2237 - mean_squared_error: 356.8851 - mean_absolute_error: 8.0007\n",
      "Epoch 00018: val_loss did not improve\n",
      "8000/8000 [==============================] - 16s 2ms/step - loss: 356.2540 - pearson: 0.2244 - mean_squared_error: 356.2540 - mean_absolute_error: 7.9847 - val_loss: 132.1582 - val_pearson: 0.1512 - val_mean_squared_error: 132.1582 - val_mean_absolute_error: 3.6470\n",
      "Epoch 19/150\n",
      "7936/8000 [============================>.] - ETA: 0s - loss: 354.7223 - pearson: 0.2153 - mean_squared_error: 354.7223 - mean_absolute_error: 7.7984\n",
      "Epoch 00019: val_loss did not improve\n",
      "8000/8000 [==============================] - 16s 2ms/step - loss: 358.0472 - pearson: 0.2149 - mean_squared_error: 358.0472 - mean_absolute_error: 7.8146 - val_loss: 130.6311 - val_pearson: 0.1536 - val_mean_squared_error: 130.6311 - val_mean_absolute_error: 4.2024\n",
      "Epoch 20/150\n",
      "1000/1000 [==============================] - 1s 658us/steps: 356.6504 - pearson: 0.2189 - mean_squared_error: 356.6504 - mean_\n",
      "[('loss', 17480.285984375001), ('pearson', 0.0049436831523489676), ('mean_squared_error', 17480.286046875), ('mean_absolute_error', 107.98491076660156)]\n",
      "Test spearman: 0.0785972831829\n",
      "\n",
      "Epoch 00020: val_loss did not improve\n",
      "8000/8000 [==============================] - 18s 2ms/step - loss: 356.8369 - pearson: 0.2188 - mean_squared_error: 356.8369 - mean_absolute_error: 7.9956 - val_loss: 130.7247 - val_pearson: 0.1549 - val_mean_squared_error: 130.7247 - val_mean_absolute_error: 3.8828\n",
      "Epoch 21/150\n",
      "7936/8000 [============================>.] - ETA: 0s - loss: 354.5231 - pearson: 0.2176 - mean_squared_error: 354.5231 - mean_absolute_error: 8.0358\n",
      "Epoch 00021: val_loss did not improve\n",
      "8000/8000 [==============================] - 16s 2ms/step - loss: 355.2690 - pearson: 0.2193 - mean_squared_error: 355.2690 - mean_absolute_error: 8.0388 - val_loss: 130.3967 - val_pearson: 0.1552 - val_mean_squared_error: 130.3967 - val_mean_absolute_error: 3.9365\n",
      "Epoch 22/150\n",
      "7936/8000 [============================>.] - ETA: 0s - loss: 358.5878 - pearson: 0.2218 - mean_squared_error: 358.5878 - mean_absolute_error: 8.0699\n",
      "Epoch 00022: val_loss did not improve\n",
      "8000/8000 [==============================] - 16s 2ms/step - loss: 356.5591 - pearson: 0.2221 - mean_squared_error: 356.5591 - mean_absolute_error: 8.0523 - val_loss: 130.0769 - val_pearson: 0.1561 - val_mean_squared_error: 130.0769 - val_mean_absolute_error: 4.1933\n",
      "Epoch 23/150\n",
      "7936/8000 [============================>.] - ETA: 0s - loss: 356.2995 - pearson: 0.2149 - mean_squared_error: 356.2995 - mean_absolute_error: 7.9364\n",
      "Epoch 00023: val_loss did not improve\n",
      "8000/8000 [==============================] - 16s 2ms/step - loss: 356.3646 - pearson: 0.2162 - mean_squared_error: 356.3646 - mean_absolute_error: 7.9367 - val_loss: 130.7497 - val_pearson: 0.1544 - val_mean_squared_error: 130.7497 - val_mean_absolute_error: 4.1997\n",
      "Epoch 24/150\n",
      "7936/8000 [============================>.] - ETA: 0s - loss: 356.5423 - pearson: 0.2203 - mean_squared_error: 356.5423 - mean_absolute_error: 7.9959\n",
      "Epoch 00024: val_loss did not improve\n",
      "8000/8000 [==============================] - 16s 2ms/step - loss: 354.9312 - pearson: 0.2202 - mean_squared_error: 354.9312 - mean_absolute_error: 7.9818 - val_loss: 130.5891 - val_pearson: 0.1537 - val_mean_squared_error: 130.5891 - val_mean_absolute_error: 3.9119\n",
      "Epoch 25/150\n",
      "7936/8000 [============================>.] - ETA: 0s - loss: 356.9770 - pearson: 0.2212 - mean_squared_error: 356.9770 - mean_absolute_error: 8.1151\n",
      "Epoch 00025: val_loss did not improve\n",
      "8000/8000 [==============================] - 16s 2ms/step - loss: 356.4087 - pearson: 0.2199 - mean_squared_error: 356.4087 - mean_absolute_error: 8.1082 - val_loss: 130.9460 - val_pearson: 0.1541 - val_mean_squared_error: 130.9460 - val_mean_absolute_error: 3.8743\n",
      "Epoch 26/150\n",
      "7936/8000 [============================>.] - ETA: 0s - loss: 355.5239 - pearson: 0.2215 - mean_squared_error: 355.5239 - mean_absolute_error: 8.0394\n",
      "Epoch 00026: val_loss did not improve\n",
      "8000/8000 [==============================] - 16s 2ms/step - loss: 355.1547 - pearson: 0.2218 - mean_squared_error: 355.1547 - mean_absolute_error: 8.0289 - val_loss: 133.1233 - val_pearson: 0.1513 - val_mean_squared_error: 133.1233 - val_mean_absolute_error: 3.6875\n",
      "Epoch 27/150\n",
      "7936/8000 [============================>.] - ETA: 0s - loss: 354.5584 - pearson: 0.2243 - mean_squared_error: 354.5584 - mean_absolute_error: 7.9313\n",
      "Epoch 00027: val_loss did not improve\n",
      "8000/8000 [==============================] - 16s 2ms/step - loss: 355.3506 - pearson: 0.2235 - mean_squared_error: 355.3506 - mean_absolute_error: 7.9412 - val_loss: 134.7684 - val_pearson: 0.1575 - val_mean_squared_error: 134.7684 - val_mean_absolute_error: 4.8609\n",
      "Epoch 28/150\n",
      "7936/8000 [============================>.] - ETA: 0s - loss: 352.8552 - pearson: 0.2197 - mean_squared_error: 352.8552 - mean_absolute_error: 8.0766\n",
      "Epoch 00028: val_loss did not improve\n",
      "8000/8000 [==============================] - 16s 2ms/step - loss: 355.3140 - pearson: 0.2195 - mean_squared_error: 355.3140 - mean_absolute_error: 8.0858 - val_loss: 130.6218 - val_pearson: 0.1548 - val_mean_squared_error: 130.6218 - val_mean_absolute_error: 4.0439\n",
      "Epoch 29/150\n",
      "7936/8000 [============================>.] - ETA: 0s - loss: 356.9315 - pearson: 0.2230 - mean_squared_error: 356.9315 - mean_absolute_error: 8.2051\n",
      "Epoch 00029: val_loss did not improve\n",
      "8000/8000 [==============================] - 16s 2ms/step - loss: 355.5928 - pearson: 0.2227 - mean_squared_error: 355.5928 - mean_absolute_error: 8.1937 - val_loss: 130.5637 - val_pearson: 0.1532 - val_mean_squared_error: 130.5637 - val_mean_absolute_error: 4.1580\n",
      "Epoch 30/150\n",
      "1000/1000 [==============================] - 1s 656us/steps: 354.1530 - pearson: 0.2235 - mean_squared_error: 354.1530 - mean_\n",
      "[('loss', 71518.950500000006), ('pearson', 0.0051044340833918227), ('mean_squared_error', 71518.948000000004), ('mean_absolute_error', 216.08417980957032)]\n",
      "Test spearman: 0.0261980550967\n",
      "\n",
      "Epoch 00030: val_loss did not improve\n",
      "8000/8000 [==============================] - 18s 2ms/step - loss: 353.2600 - pearson: 0.2231 - mean_squared_error: 353.2600 - mean_absolute_error: 7.8053 - val_loss: 130.2175 - val_pearson: 0.1556 - val_mean_squared_error: 130.2175 - val_mean_absolute_error: 4.2412\n",
      "Epoch 31/150\n",
      "7936/8000 [============================>.] - ETA: 0s - loss: 355.5566 - pearson: 0.2229 - mean_squared_error: 355.5566 - mean_absolute_error: 8.0674\n",
      "Epoch 00031: val_loss did not improve\n",
      "8000/8000 [==============================] - 16s 2ms/step - loss: 354.1695 - pearson: 0.2244 - mean_squared_error: 354.1695 - mean_absolute_error: 8.0490 - val_loss: 130.3899 - val_pearson: 0.1534 - val_mean_squared_error: 130.3899 - val_mean_absolute_error: 4.0497\n"
     ]
    },
    {
     "name": "stdout",
     "output_type": "stream",
     "text": [
      "Epoch 32/150\n",
      "7936/8000 [============================>.] - ETA: 0s - loss: 353.4577 - pearson: 0.2274 - mean_squared_error: 353.4577 - mean_absolute_error: 7.8896\n",
      "Epoch 00032: val_loss did not improve\n",
      "8000/8000 [==============================] - 16s 2ms/step - loss: 353.2769 - pearson: 0.2266 - mean_squared_error: 353.2769 - mean_absolute_error: 7.8945 - val_loss: 130.6638 - val_pearson: 0.1527 - val_mean_squared_error: 130.6638 - val_mean_absolute_error: 4.2368\n",
      "Epoch 33/150\n",
      "7936/8000 [============================>.] - ETA: 0s - loss: 354.9420 - pearson: 0.2257 - mean_squared_error: 354.9420 - mean_absolute_error: 7.8420\n",
      "Epoch 00033: val_loss did not improve\n",
      "8000/8000 [==============================] - 16s 2ms/step - loss: 354.1823 - pearson: 0.2251 - mean_squared_error: 354.1823 - mean_absolute_error: 7.8314 - val_loss: 131.5477 - val_pearson: 0.1543 - val_mean_squared_error: 131.5477 - val_mean_absolute_error: 4.5692\n",
      "Epoch 34/150\n",
      "7936/8000 [============================>.] - ETA: 0s - loss: 356.3890 - pearson: 0.2228 - mean_squared_error: 356.3890 - mean_absolute_error: 8.1802\n",
      "Epoch 00034: val_loss did not improve\n",
      "8000/8000 [==============================] - 16s 2ms/step - loss: 355.1722 - pearson: 0.2228 - mean_squared_error: 355.1722 - mean_absolute_error: 8.1735 - val_loss: 130.6472 - val_pearson: 0.1546 - val_mean_squared_error: 130.6472 - val_mean_absolute_error: 4.3201\n",
      "Epoch 35/150\n",
      "7936/8000 [============================>.] - ETA: 0s - loss: 353.0165 - pearson: 0.2295 - mean_squared_error: 353.0165 - mean_absolute_error: 7.9885\n",
      "Epoch 00035: val_loss did not improve\n",
      "8000/8000 [==============================] - 16s 2ms/step - loss: 352.0321 - pearson: 0.2302 - mean_squared_error: 352.0321 - mean_absolute_error: 7.9859 - val_loss: 130.7937 - val_pearson: 0.1576 - val_mean_squared_error: 130.7937 - val_mean_absolute_error: 4.4667\n",
      "Epoch 36/150\n",
      "7936/8000 [============================>.] - ETA: 0s - loss: 348.5636 - pearson: 0.2302 - mean_squared_error: 348.5636 - mean_absolute_error: 7.7897\n",
      "Epoch 00036: val_loss did not improve\n",
      "8000/8000 [==============================] - 16s 2ms/step - loss: 352.5589 - pearson: 0.2306 - mean_squared_error: 352.5589 - mean_absolute_error: 7.8176 - val_loss: 130.6530 - val_pearson: 0.1544 - val_mean_squared_error: 130.6530 - val_mean_absolute_error: 4.2636\n",
      "Epoch 37/150\n",
      "7936/8000 [============================>.] - ETA: 0s - loss: 351.3722 - pearson: 0.2276 - mean_squared_error: 351.3722 - mean_absolute_error: 8.0119\n",
      "Epoch 00037: val_loss did not improve\n",
      "8000/8000 [==============================] - 16s 2ms/step - loss: 352.0250 - pearson: 0.2269 - mean_squared_error: 352.0249 - mean_absolute_error: 8.0143 - val_loss: 130.7920 - val_pearson: 0.1518 - val_mean_squared_error: 130.7920 - val_mean_absolute_error: 4.0939\n",
      "Epoch 38/150\n",
      "7936/8000 [============================>.] - ETA: 0s - loss: 352.4244 - pearson: 0.2232 - mean_squared_error: 352.4244 - mean_absolute_error: 8.0065\n",
      "Epoch 00038: val_loss did not improve\n",
      "8000/8000 [==============================] - 16s 2ms/step - loss: 352.1368 - pearson: 0.2229 - mean_squared_error: 352.1368 - mean_absolute_error: 8.0051 - val_loss: 131.2056 - val_pearson: 0.1519 - val_mean_squared_error: 131.2056 - val_mean_absolute_error: 3.9546\n",
      "Epoch 39/150\n",
      "7936/8000 [============================>.] - ETA: 0s - loss: 354.3464 - pearson: 0.2223 - mean_squared_error: 354.3464 - mean_absolute_error: 8.0646\n",
      "Epoch 00039: val_loss did not improve\n",
      "8000/8000 [==============================] - 16s 2ms/step - loss: 353.4795 - pearson: 0.2240 - mean_squared_error: 353.4795 - mean_absolute_error: 8.0592 - val_loss: 130.2788 - val_pearson: 0.1558 - val_mean_squared_error: 130.2788 - val_mean_absolute_error: 4.1624\n",
      "Epoch 40/150\n",
      "1000/1000 [==============================] - 1s 653us/steps: 350.1951 - pearson: 0.2248 - mean_squared_error: 350.1951 - mean_\n",
      "[('loss', 167598.51525), ('pearson', 0.0049811981583479789), ('mean_squared_error', 167598.51375000001), ('mean_absolute_error', 322.86095532226562)]\n",
      "Test spearman: 0.0269132991543\n",
      "\n",
      "Epoch 00040: val_loss did not improve\n",
      "8000/8000 [==============================] - 18s 2ms/step - loss: 350.5587 - pearson: 0.2275 - mean_squared_error: 350.5587 - mean_absolute_error: 7.9646 - val_loss: 132.3591 - val_pearson: 0.1550 - val_mean_squared_error: 132.3591 - val_mean_absolute_error: 4.7148\n",
      "Epoch 41/150\n",
      "7936/8000 [============================>.] - ETA: 0s - loss: 350.9346 - pearson: 0.2264 - mean_squared_error: 350.9346 - mean_absolute_error: 8.0521\n",
      "Epoch 00041: val_loss did not improve\n",
      "8000/8000 [==============================] - 16s 2ms/step - loss: 352.2347 - pearson: 0.2273 - mean_squared_error: 352.2347 - mean_absolute_error: 8.0528 - val_loss: 130.7089 - val_pearson: 0.1540 - val_mean_squared_error: 130.7089 - val_mean_absolute_error: 4.1525\n",
      "Epoch 42/150\n",
      "7936/8000 [============================>.] - ETA: 0s - loss: 350.1940 - pearson: 0.2355 - mean_squared_error: 350.1940 - mean_absolute_error: 7.9113\n",
      "Epoch 00042: val_loss did not improve\n",
      "8000/8000 [==============================] - 16s 2ms/step - loss: 350.9895 - pearson: 0.2363 - mean_squared_error: 350.9895 - mean_absolute_error: 7.9211 - val_loss: 131.1221 - val_pearson: 0.1575 - val_mean_squared_error: 131.1221 - val_mean_absolute_error: 4.5570\n",
      "Epoch 43/150\n",
      "7936/8000 [============================>.] - ETA: 0s - loss: 352.5209 - pearson: 0.2297 - mean_squared_error: 352.5209 - mean_absolute_error: 7.9975\n",
      "Epoch 00043: val_loss did not improve\n",
      "8000/8000 [==============================] - 16s 2ms/step - loss: 353.1556 - pearson: 0.2299 - mean_squared_error: 353.1556 - mean_absolute_error: 8.0060 - val_loss: 131.2724 - val_pearson: 0.1489 - val_mean_squared_error: 131.2724 - val_mean_absolute_error: 3.9038\n",
      "Epoch 44/150\n",
      "7936/8000 [============================>.] - ETA: 0s - loss: 353.3680 - pearson: 0.2269 - mean_squared_error: 353.3680 - mean_absolute_error: 7.9234\n",
      "Epoch 00044: val_loss did not improve\n",
      "8000/8000 [==============================] - 16s 2ms/step - loss: 352.8327 - pearson: 0.2253 - mean_squared_error: 352.8327 - mean_absolute_error: 7.9238 - val_loss: 130.6966 - val_pearson: 0.1537 - val_mean_squared_error: 130.6966 - val_mean_absolute_error: 4.0632\n",
      "Epoch 45/150\n",
      "7936/8000 [============================>.] - ETA: 0s - loss: 351.1056 - pearson: 0.2283 - mean_squared_error: 351.1056 - mean_absolute_error: 7.8920\n",
      "Epoch 00045: val_loss did not improve\n",
      "8000/8000 [==============================] - 16s 2ms/step - loss: 350.9408 - pearson: 0.2285 - mean_squared_error: 350.9408 - mean_absolute_error: 7.8901 - val_loss: 130.4923 - val_pearson: 0.1563 - val_mean_squared_error: 130.4923 - val_mean_absolute_error: 4.4060\n",
      "Epoch 46/150\n",
      "7936/8000 [============================>.] - ETA: 0s - loss: 349.6219 - pearson: 0.2280 - mean_squared_error: 349.6219 - mean_absolute_error: 7.9676\n",
      "Epoch 00046: val_loss did not improve\n",
      "8000/8000 [==============================] - 16s 2ms/step - loss: 350.2070 - pearson: 0.2281 - mean_squared_error: 350.2070 - mean_absolute_error: 7.9673 - val_loss: 130.3377 - val_pearson: 0.1541 - val_mean_squared_error: 130.3378 - val_mean_absolute_error: 4.2721\n",
      "Epoch 47/150\n",
      "7936/8000 [============================>.] - ETA: 0s - loss: 352.0844 - pearson: 0.2257 - mean_squared_error: 352.0844 - mean_absolute_error: 8.0101\n",
      "Epoch 00047: val_loss did not improve\n",
      "8000/8000 [==============================] - 16s 2ms/step - loss: 350.8547 - pearson: 0.2267 - mean_squared_error: 350.8547 - mean_absolute_error: 8.0018 - val_loss: 132.0190 - val_pearson: 0.1524 - val_mean_squared_error: 132.0190 - val_mean_absolute_error: 4.5585\n",
      "Epoch 48/150\n",
      "7936/8000 [============================>.] - ETA: 0s - loss: 351.8916 - pearson: 0.2253 - mean_squared_error: 351.8916 - mean_absolute_error: 8.0814\n",
      "Epoch 00048: val_loss did not improve\n",
      "8000/8000 [==============================] - 16s 2ms/step - loss: 351.8018 - pearson: 0.2247 - mean_squared_error: 351.8018 - mean_absolute_error: 8.0743 - val_loss: 131.7332 - val_pearson: 0.1494 - val_mean_squared_error: 131.7332 - val_mean_absolute_error: 3.9652\n",
      "Epoch 49/150\n"
     ]
    },
    {
     "name": "stdout",
     "output_type": "stream",
     "text": [
      "7936/8000 [============================>.] - ETA: 0s - loss: 348.0553 - pearson: 0.2274 - mean_squared_error: 348.0553 - mean_absolute_error: 7.9239\n",
      "Epoch 00049: val_loss did not improve\n",
      "8000/8000 [==============================] - 16s 2ms/step - loss: 351.3877 - pearson: 0.2275 - mean_squared_error: 351.3877 - mean_absolute_error: 7.9362 - val_loss: 130.5474 - val_pearson: 0.1531 - val_mean_squared_error: 130.5474 - val_mean_absolute_error: 4.2044\n",
      "Epoch 50/150\n",
      "1000/1000 [==============================] - 1s 654us/steps: 351.3388 - pearson: 0.2246 - mean_squared_error: 351.3388 - mean_\n",
      "[('loss', 614369.58200000005), ('pearson', 0.0045323797013093097), ('mean_squared_error', 614369.58550000004), ('mean_absolute_error', 652.75798144531245)]\n",
      "Test spearman: 0.0494135782135\n",
      "\n",
      "Epoch 00050: val_loss did not improve\n",
      "8000/8000 [==============================] - 18s 2ms/step - loss: 351.2996 - pearson: 0.2256 - mean_squared_error: 351.2996 - mean_absolute_error: 7.9363 - val_loss: 132.3486 - val_pearson: 0.1458 - val_mean_squared_error: 132.3486 - val_mean_absolute_error: 3.9702\n",
      "Epoch 51/150\n",
      "7936/8000 [============================>.] - ETA: 0s - loss: 350.9705 - pearson: 0.2276 - mean_squared_error: 350.9705 - mean_absolute_error: 7.9233\n",
      "Epoch 00051: val_loss did not improve\n",
      "8000/8000 [==============================] - 16s 2ms/step - loss: 350.2091 - pearson: 0.2282 - mean_squared_error: 350.2091 - mean_absolute_error: 7.9227 - val_loss: 130.6717 - val_pearson: 0.1544 - val_mean_squared_error: 130.6717 - val_mean_absolute_error: 4.4017\n",
      "Epoch 52/150\n",
      "7936/8000 [============================>.] - ETA: 0s - loss: 351.4774 - pearson: 0.2346 - mean_squared_error: 351.4774 - mean_absolute_error: 7.9589\n",
      "Epoch 00052: val_loss did not improve\n",
      "8000/8000 [==============================] - 16s 2ms/step - loss: 350.6282 - pearson: 0.2343 - mean_squared_error: 350.6282 - mean_absolute_error: 7.9519 - val_loss: 131.7041 - val_pearson: 0.1593 - val_mean_squared_error: 131.7041 - val_mean_absolute_error: 4.6911\n",
      "Epoch 53/150\n",
      "7936/8000 [============================>.] - ETA: 0s - loss: 353.0551 - pearson: 0.2250 - mean_squared_error: 353.0551 - mean_absolute_error: 8.0425\n",
      "Epoch 00053: val_loss did not improve\n",
      "8000/8000 [==============================] - 16s 2ms/step - loss: 351.3189 - pearson: 0.2278 - mean_squared_error: 351.3189 - mean_absolute_error: 8.0285 - val_loss: 129.8827 - val_pearson: 0.1549 - val_mean_squared_error: 129.8827 - val_mean_absolute_error: 4.0871\n",
      "Epoch 54/150\n",
      "7936/8000 [============================>.] - ETA: 0s - loss: 352.2076 - pearson: 0.2274 - mean_squared_error: 352.2076 - mean_absolute_error: 7.9398\n",
      "Epoch 00054: val_loss did not improve\n",
      "8000/8000 [==============================] - 16s 2ms/step - loss: 351.2489 - pearson: 0.2279 - mean_squared_error: 351.2489 - mean_absolute_error: 7.9358 - val_loss: 130.7386 - val_pearson: 0.1538 - val_mean_squared_error: 130.7386 - val_mean_absolute_error: 4.2330\n",
      "Epoch 55/150\n",
      "7936/8000 [============================>.] - ETA: 0s - loss: 349.8574 - pearson: 0.2255 - mean_squared_error: 349.8574 - mean_absolute_error: 7.9071\n",
      "Epoch 00055: val_loss did not improve\n",
      "8000/8000 [==============================] - 16s 2ms/step - loss: 349.8939 - pearson: 0.2244 - mean_squared_error: 349.8939 - mean_absolute_error: 7.9149 - val_loss: 131.5370 - val_pearson: 0.1566 - val_mean_squared_error: 131.5370 - val_mean_absolute_error: 4.6486\n",
      "Epoch 56/150\n",
      "7936/8000 [============================>.] - ETA: 0s - loss: 352.1069 - pearson: 0.2326 - mean_squared_error: 352.1069 - mean_absolute_error: 8.0445\n",
      "Epoch 00056: val_loss did not improve\n",
      "8000/8000 [==============================] - 16s 2ms/step - loss: 351.0451 - pearson: 0.2317 - mean_squared_error: 351.0451 - mean_absolute_error: 8.0281 - val_loss: 131.9953 - val_pearson: 0.1491 - val_mean_squared_error: 131.9953 - val_mean_absolute_error: 3.9910\n",
      "Epoch 57/150\n",
      "7936/8000 [============================>.] - ETA: 0s - loss: 350.1064 - pearson: 0.2275 - mean_squared_error: 350.1064 - mean_absolute_error: 8.0291\n",
      "Epoch 00057: val_loss did not improve\n",
      "8000/8000 [==============================] - 16s 2ms/step - loss: 349.7175 - pearson: 0.2275 - mean_squared_error: 349.7175 - mean_absolute_error: 8.0225 - val_loss: 130.8547 - val_pearson: 0.1521 - val_mean_squared_error: 130.8547 - val_mean_absolute_error: 4.2569\n",
      "Epoch 58/150\n",
      "7936/8000 [============================>.] - ETA: 0s - loss: 347.1761 - pearson: 0.2352 - mean_squared_error: 347.1761 - mean_absolute_error: 7.9302\n",
      "Epoch 00058: val_loss did not improve\n",
      "8000/8000 [==============================] - 16s 2ms/step - loss: 349.3116 - pearson: 0.2341 - mean_squared_error: 349.3116 - mean_absolute_error: 7.9409 - val_loss: 131.5160 - val_pearson: 0.1502 - val_mean_squared_error: 131.5160 - val_mean_absolute_error: 4.1738\n",
      "Epoch 59/150\n",
      "7936/8000 [============================>.] - ETA: 0s - loss: 350.3289 - pearson: 0.2347 - mean_squared_error: 350.3289 - mean_absolute_error: 7.9946\n",
      "Epoch 00059: val_loss did not improve\n",
      "8000/8000 [==============================] - 16s 2ms/step - loss: 349.0708 - pearson: 0.2353 - mean_squared_error: 349.0708 - mean_absolute_error: 7.9884 - val_loss: 133.0829 - val_pearson: 0.1552 - val_mean_squared_error: 133.0829 - val_mean_absolute_error: 4.7325\n",
      "Epoch 60/150\n",
      "1000/1000 [==============================] - 1s 654us/steps: 350.5953 - pearson: 0.2316 - mean_squared_error: 350.5953 - mean_\n",
      "[('loss', 1507015.01), ('pearson', 0.0042442654593760377), ('mean_squared_error', 1507015.014), ('mean_absolute_error', 1043.2221132812499)]\n",
      "Test spearman: 0.0560151711336\n",
      "\n",
      "Epoch 00060: val_loss did not improve\n",
      "8000/8000 [==============================] - 18s 2ms/step - loss: 351.9621 - pearson: 0.2311 - mean_squared_error: 351.9621 - mean_absolute_error: 8.0299 - val_loss: 130.7216 - val_pearson: 0.1535 - val_mean_squared_error: 130.7216 - val_mean_absolute_error: 4.2179\n",
      "Epoch 61/150\n",
      "7936/8000 [============================>.] - ETA: 0s - loss: 348.4651 - pearson: 0.2281 - mean_squared_error: 348.4651 - mean_absolute_error: 7.9598\n",
      "Epoch 00061: val_loss did not improve\n",
      "8000/8000 [==============================] - 16s 2ms/step - loss: 349.9145 - pearson: 0.2291 - mean_squared_error: 349.9145 - mean_absolute_error: 7.9659 - val_loss: 130.2330 - val_pearson: 0.1552 - val_mean_squared_error: 130.2330 - val_mean_absolute_error: 4.2402\n",
      "Epoch 62/150\n",
      "7936/8000 [============================>.] - ETA: 0s - loss: 347.2086 - pearson: 0.2335 - mean_squared_error: 347.2086 - mean_absolute_error: 7.9867\n",
      "Epoch 00062: val_loss did not improve\n",
      "8000/8000 [==============================] - 16s 2ms/step - loss: 350.5154 - pearson: 0.2323 - mean_squared_error: 350.5154 - mean_absolute_error: 8.0199 - val_loss: 131.5701 - val_pearson: 0.1551 - val_mean_squared_error: 131.5701 - val_mean_absolute_error: 4.5862\n",
      "Epoch 63/150\n",
      "7936/8000 [============================>.] - ETA: 0s - loss: 350.7027 - pearson: 0.2307 - mean_squared_error: 350.7027 - mean_absolute_error: 7.9173\n",
      "Epoch 00063: val_loss did not improve\n",
      "8000/8000 [==============================] - 16s 2ms/step - loss: 349.3171 - pearson: 0.2322 - mean_squared_error: 349.3171 - mean_absolute_error: 7.9091 - val_loss: 131.3033 - val_pearson: 0.1548 - val_mean_squared_error: 131.3032 - val_mean_absolute_error: 4.5004\n",
      "Epoch 64/150\n",
      "7936/8000 [============================>.] - ETA: 0s - loss: 350.3030 - pearson: 0.2363 - mean_squared_error: 350.3030 - mean_absolute_error: 7.9340\n",
      "Epoch 00064: val_loss did not improve\n",
      "8000/8000 [==============================] - 16s 2ms/step - loss: 349.5812 - pearson: 0.2358 - mean_squared_error: 349.5813 - mean_absolute_error: 7.9348 - val_loss: 131.5082 - val_pearson: 0.1546 - val_mean_squared_error: 131.5082 - val_mean_absolute_error: 4.5107\n",
      "Epoch 65/150\n",
      "7936/8000 [============================>.] - ETA: 0s - loss: 350.0870 - pearson: 0.2284 - mean_squared_error: 350.0870 - mean_absolute_error: 7.9943\n",
      "Epoch 00065: val_loss did not improve\n",
      "8000/8000 [==============================] - 16s 2ms/step - loss: 349.0208 - pearson: 0.2299 - mean_squared_error: 349.0208 - mean_absolute_error: 7.9828 - val_loss: 132.0753 - val_pearson: 0.1466 - val_mean_squared_error: 132.0753 - val_mean_absolute_error: 3.9089\n"
     ]
    },
    {
     "name": "stdout",
     "output_type": "stream",
     "text": [
      "Epoch 66/150\n",
      "7936/8000 [============================>.] - ETA: 0s - loss: 349.5284 - pearson: 0.2357 - mean_squared_error: 349.5284 - mean_absolute_error: 7.9365\n",
      "Epoch 00066: val_loss did not improve\n",
      "8000/8000 [==============================] - 16s 2ms/step - loss: 349.7207 - pearson: 0.2348 - mean_squared_error: 349.7207 - mean_absolute_error: 7.9343 - val_loss: 130.9339 - val_pearson: 0.1538 - val_mean_squared_error: 130.9339 - val_mean_absolute_error: 4.4117\n",
      "Epoch 67/150\n",
      "7936/8000 [============================>.] - ETA: 0s - loss: 347.4167 - pearson: 0.2301 - mean_squared_error: 347.4167 - mean_absolute_error: 8.0058\n",
      "Epoch 00067: val_loss did not improve\n",
      "8000/8000 [==============================] - 16s 2ms/step - loss: 349.5525 - pearson: 0.2293 - mean_squared_error: 349.5525 - mean_absolute_error: 8.0082 - val_loss: 132.2387 - val_pearson: 0.1476 - val_mean_squared_error: 132.2387 - val_mean_absolute_error: 3.8969\n",
      "Epoch 68/150\n",
      "7936/8000 [============================>.] - ETA: 0s - loss: 350.7371 - pearson: 0.2308 - mean_squared_error: 350.7371 - mean_absolute_error: 7.9627\n",
      "Epoch 00068: val_loss did not improve\n",
      "8000/8000 [==============================] - 16s 2ms/step - loss: 349.7319 - pearson: 0.2303 - mean_squared_error: 349.7319 - mean_absolute_error: 7.9550 - val_loss: 130.7515 - val_pearson: 0.1546 - val_mean_squared_error: 130.7515 - val_mean_absolute_error: 4.3824\n",
      "Epoch 69/150\n",
      "7936/8000 [============================>.] - ETA: 0s - loss: 350.4427 - pearson: 0.2319 - mean_squared_error: 350.4427 - mean_absolute_error: 7.9825\n",
      "Epoch 00069: val_loss did not improve\n",
      "8000/8000 [==============================] - 16s 2ms/step - loss: 349.2440 - pearson: 0.2313 - mean_squared_error: 349.2440 - mean_absolute_error: 7.9661 - val_loss: 131.2055 - val_pearson: 0.1500 - val_mean_squared_error: 131.2055 - val_mean_absolute_error: 4.0483\n",
      "Epoch 70/150\n",
      "1000/1000 [==============================] - 1s 659us/steps: 350.5311 - pearson: 0.2369 - mean_squared_error: 350.5311 - mean_\n",
      "[('loss', 2331966.338), ('pearson', 0.0038990586199288374), ('mean_squared_error', 2331966.29), ('mean_absolute_error', 1326.927490234375)]\n",
      "Test spearman: 0.0675492039987\n",
      "\n",
      "Epoch 00070: val_loss did not improve\n",
      "8000/8000 [==============================] - 18s 2ms/step - loss: 349.0743 - pearson: 0.2366 - mean_squared_error: 349.0743 - mean_absolute_error: 7.9216 - val_loss: 131.1393 - val_pearson: 0.1502 - val_mean_squared_error: 131.1393 - val_mean_absolute_error: 4.0396\n",
      "Epoch 71/150\n",
      "7936/8000 [============================>.] - ETA: 0s - loss: 347.9124 - pearson: 0.2357 - mean_squared_error: 347.9124 - mean_absolute_error: 7.9434\n",
      "Epoch 00071: val_loss did not improve\n",
      "8000/8000 [==============================] - 16s 2ms/step - loss: 348.2730 - pearson: 0.2364 - mean_squared_error: 348.2730 - mean_absolute_error: 7.9470 - val_loss: 132.0671 - val_pearson: 0.1524 - val_mean_squared_error: 132.0671 - val_mean_absolute_error: 4.4498\n",
      "Epoch 72/150\n",
      "7936/8000 [============================>.] - ETA: 0s - loss: 349.9280 - pearson: 0.2306 - mean_squared_error: 349.9280 - mean_absolute_error: 8.0307\n",
      "Epoch 00072: val_loss did not improve\n",
      "8000/8000 [==============================] - 16s 2ms/step - loss: 349.8823 - pearson: 0.2306 - mean_squared_error: 349.8823 - mean_absolute_error: 8.0300 - val_loss: 131.8087 - val_pearson: 0.1490 - val_mean_squared_error: 131.8087 - val_mean_absolute_error: 4.1583\n",
      "Epoch 73/150\n",
      "7936/8000 [============================>.] - ETA: 0s - loss: 348.6789 - pearson: 0.2353 - mean_squared_error: 348.6789 - mean_absolute_error: 8.0078\n",
      "Epoch 00073: val_loss did not improve\n",
      "8000/8000 [==============================] - 16s 2ms/step - loss: 348.5357 - pearson: 0.2343 - mean_squared_error: 348.5357 - mean_absolute_error: 8.0090 - val_loss: 130.9390 - val_pearson: 0.1541 - val_mean_squared_error: 130.9390 - val_mean_absolute_error: 4.3776\n",
      "Epoch 74/150\n",
      "7936/8000 [============================>.] - ETA: 0s - loss: 349.9152 - pearson: 0.2285 - mean_squared_error: 349.9152 - mean_absolute_error: 7.9349\n",
      "Epoch 00074: val_loss did not improve\n",
      "8000/8000 [==============================] - 16s 2ms/step - loss: 350.0484 - pearson: 0.2297 - mean_squared_error: 350.0484 - mean_absolute_error: 7.9362 - val_loss: 131.2929 - val_pearson: 0.1509 - val_mean_squared_error: 131.2929 - val_mean_absolute_error: 4.1551\n",
      "Epoch 75/150\n",
      "7936/8000 [============================>.] - ETA: 0s - loss: 348.6985 - pearson: 0.2335 - mean_squared_error: 348.6986 - mean_absolute_error: 7.9676\n",
      "Epoch 00075: val_loss did not improve\n",
      "8000/8000 [==============================] - 16s 2ms/step - loss: 348.4685 - pearson: 0.2326 - mean_squared_error: 348.4685 - mean_absolute_error: 7.9659 - val_loss: 130.8580 - val_pearson: 0.1533 - val_mean_squared_error: 130.8580 - val_mean_absolute_error: 4.1707\n",
      "Epoch 76/150\n",
      "7936/8000 [============================>.] - ETA: 0s - loss: 349.4865 - pearson: 0.2334 - mean_squared_error: 349.4865 - mean_absolute_error: 7.9745\n",
      "Epoch 00076: val_loss did not improve\n",
      "8000/8000 [==============================] - 16s 2ms/step - loss: 348.1518 - pearson: 0.2331 - mean_squared_error: 348.1518 - mean_absolute_error: 7.9604 - val_loss: 131.4495 - val_pearson: 0.1528 - val_mean_squared_error: 131.4495 - val_mean_absolute_error: 4.4018\n",
      "Epoch 77/150\n",
      "7936/8000 [============================>.] - ETA: 0s - loss: 347.2278 - pearson: 0.2329 - mean_squared_error: 347.2278 - mean_absolute_error: 7.9537\n",
      "Epoch 00077: val_loss did not improve\n",
      "8000/8000 [==============================] - 16s 2ms/step - loss: 348.3719 - pearson: 0.2332 - mean_squared_error: 348.3719 - mean_absolute_error: 7.9625 - val_loss: 131.0740 - val_pearson: 0.1526 - val_mean_squared_error: 131.0740 - val_mean_absolute_error: 4.2921\n",
      "Epoch 78/150\n",
      "7936/8000 [============================>.] - ETA: 0s - loss: 349.6673 - pearson: 0.2373 - mean_squared_error: 349.6673 - mean_absolute_error: 8.0810\n",
      "Epoch 00078: val_loss did not improve\n",
      "8000/8000 [==============================] - 16s 2ms/step - loss: 348.6289 - pearson: 0.2386 - mean_squared_error: 348.6289 - mean_absolute_error: 8.0747 - val_loss: 131.2027 - val_pearson: 0.1500 - val_mean_squared_error: 131.2027 - val_mean_absolute_error: 4.0506\n",
      "Epoch 79/150\n",
      "7936/8000 [============================>.] - ETA: 0s - loss: 351.3687 - pearson: 0.2339 - mean_squared_error: 351.3687 - mean_absolute_error: 7.9170\n",
      "Epoch 00079: val_loss did not improve\n",
      "8000/8000 [==============================] - 16s 2ms/step - loss: 350.5313 - pearson: 0.2330 - mean_squared_error: 350.5313 - mean_absolute_error: 7.9187 - val_loss: 131.6860 - val_pearson: 0.1544 - val_mean_squared_error: 131.6860 - val_mean_absolute_error: 4.5585\n",
      "Epoch 80/150\n",
      "1000/1000 [==============================] - 1s 648us/steps: 347.7189 - pearson: 0.2379 - mean_squared_error: 347.7189 - mean_\n",
      "[('loss', 3972776.7039999999), ('pearson', 0.0037949495179377662), ('mean_squared_error', 3972776.6800000002), ('mean_absolute_error', 1735.4423798828125)]\n",
      "Test spearman: 0.0668813957464\n",
      "\n",
      "Epoch 00080: val_loss did not improve\n",
      "8000/8000 [==============================] - 18s 2ms/step - loss: 347.0474 - pearson: 0.2369 - mean_squared_error: 347.0475 - mean_absolute_error: 8.0897 - val_loss: 131.5085 - val_pearson: 0.1526 - val_mean_squared_error: 131.5085 - val_mean_absolute_error: 4.4169\n",
      "Epoch 81/150\n",
      "7936/8000 [============================>.] - ETA: 0s - loss: 348.3118 - pearson: 0.2333 - mean_squared_error: 348.3118 - mean_absolute_error: 8.0569\n",
      "Epoch 00081: val_loss did not improve\n",
      "8000/8000 [==============================] - 16s 2ms/step - loss: 347.6259 - pearson: 0.2321 - mean_squared_error: 347.6259 - mean_absolute_error: 8.0513 - val_loss: 131.6848 - val_pearson: 0.1507 - val_mean_squared_error: 131.6848 - val_mean_absolute_error: 4.4410\n",
      "Epoch 82/150\n",
      "7936/8000 [============================>.] - ETA: 0s - loss: 349.3866 - pearson: 0.2323 - mean_squared_error: 349.3866 - mean_absolute_error: 7.9303\n",
      "Epoch 00082: val_loss did not improve\n",
      "8000/8000 [==============================] - 16s 2ms/step - loss: 347.8231 - pearson: 0.2315 - mean_squared_error: 347.8231 - mean_absolute_error: 7.9123 - val_loss: 131.0657 - val_pearson: 0.1511 - val_mean_squared_error: 131.0657 - val_mean_absolute_error: 4.2514\n"
     ]
    },
    {
     "name": "stdout",
     "output_type": "stream",
     "text": [
      "Epoch 83/150\n",
      "7936/8000 [============================>.] - ETA: 0s - loss: 349.3889 - pearson: 0.2344 - mean_squared_error: 349.3889 - mean_absolute_error: 8.1177\n",
      "Epoch 00083: val_loss did not improve\n",
      "8000/8000 [==============================] - 16s 2ms/step - loss: 347.9679 - pearson: 0.2339 - mean_squared_error: 347.9679 - mean_absolute_error: 8.1056 - val_loss: 131.3354 - val_pearson: 0.1515 - val_mean_squared_error: 131.3354 - val_mean_absolute_error: 4.3498\n",
      "Epoch 84/150\n",
      "7936/8000 [============================>.] - ETA: 0s - loss: 348.5574 - pearson: 0.2290 - mean_squared_error: 348.5574 - mean_absolute_error: 7.8398\n",
      "Epoch 00084: val_loss did not improve\n",
      "8000/8000 [==============================] - 16s 2ms/step - loss: 348.7518 - pearson: 0.2316 - mean_squared_error: 348.7518 - mean_absolute_error: 7.8390 - val_loss: 131.2583 - val_pearson: 0.1515 - val_mean_squared_error: 131.2583 - val_mean_absolute_error: 4.2198\n",
      "Epoch 85/150\n",
      "7936/8000 [============================>.] - ETA: 0s - loss: 346.2993 - pearson: 0.2375 - mean_squared_error: 346.2993 - mean_absolute_error: 7.9486\n",
      "Epoch 00085: val_loss did not improve\n",
      "8000/8000 [==============================] - 16s 2ms/step - loss: 346.6702 - pearson: 0.2363 - mean_squared_error: 346.6702 - mean_absolute_error: 7.9547 - val_loss: 130.6434 - val_pearson: 0.1536 - val_mean_squared_error: 130.6434 - val_mean_absolute_error: 4.2119\n",
      "Epoch 86/150\n",
      "7936/8000 [============================>.] - ETA: 0s - loss: 348.0743 - pearson: 0.2372 - mean_squared_error: 348.0743 - mean_absolute_error: 7.9891\n",
      "Epoch 00086: val_loss did not improve\n",
      "8000/8000 [==============================] - 16s 2ms/step - loss: 347.9379 - pearson: 0.2372 - mean_squared_error: 347.9379 - mean_absolute_error: 7.9831 - val_loss: 130.9290 - val_pearson: 0.1509 - val_mean_squared_error: 130.9290 - val_mean_absolute_error: 4.0919\n",
      "Epoch 87/150\n",
      "7936/8000 [============================>.] - ETA: 0s - loss: 348.2561 - pearson: 0.2350 - mean_squared_error: 348.2561 - mean_absolute_error: 7.9988\n",
      "Epoch 00087: val_loss did not improve\n",
      "8000/8000 [==============================] - 16s 2ms/step - loss: 347.1719 - pearson: 0.2341 - mean_squared_error: 347.1719 - mean_absolute_error: 7.9872 - val_loss: 131.2187 - val_pearson: 0.1501 - val_mean_squared_error: 131.2187 - val_mean_absolute_error: 4.0146\n",
      "Epoch 88/150\n",
      "7936/8000 [============================>.] - ETA: 0s - loss: 348.2597 - pearson: 0.2327 - mean_squared_error: 348.2597 - mean_absolute_error: 7.9648\n",
      "Epoch 00088: val_loss did not improve\n",
      "8000/8000 [==============================] - 16s 2ms/step - loss: 348.2729 - pearson: 0.2327 - mean_squared_error: 348.2729 - mean_absolute_error: 7.9674 - val_loss: 130.9156 - val_pearson: 0.1525 - val_mean_squared_error: 130.9156 - val_mean_absolute_error: 4.2901\n",
      "Epoch 89/150\n",
      "7936/8000 [============================>.] - ETA: 0s - loss: 347.9976 - pearson: 0.2347 - mean_squared_error: 347.9976 - mean_absolute_error: 8.0871\n",
      "Epoch 00089: val_loss did not improve\n",
      "8000/8000 [==============================] - 16s 2ms/step - loss: 347.1629 - pearson: 0.2343 - mean_squared_error: 347.1629 - mean_absolute_error: 8.0819 - val_loss: 130.9833 - val_pearson: 0.1519 - val_mean_squared_error: 130.9833 - val_mean_absolute_error: 4.2209\n",
      "Epoch 90/150\n",
      "1000/1000 [==============================] - 1s 646us/steps: 346.7616 - pearson: 0.2381 - mean_squared_error: 346.7616 - mean_\n",
      "[('loss', 7626244.9879999999), ('pearson', 0.0035355809510074325), ('mean_squared_error', 7626245.0039999997), ('mean_absolute_error', 2454.4079746093748)]\n",
      "Test spearman: 0.0712907451085\n",
      "\n",
      "Epoch 00090: val_loss did not improve\n",
      "8000/8000 [==============================] - 18s 2ms/step - loss: 348.2804 - pearson: 0.2381 - mean_squared_error: 348.2804 - mean_absolute_error: 7.9514 - val_loss: 131.3822 - val_pearson: 0.1553 - val_mean_squared_error: 131.3822 - val_mean_absolute_error: 4.5197\n",
      "Epoch 91/150\n",
      "7936/8000 [============================>.] - ETA: 0s - loss: 348.8815 - pearson: 0.2362 - mean_squared_error: 348.8815 - mean_absolute_error: 7.9068\n",
      "Epoch 00091: val_loss did not improve\n",
      "8000/8000 [==============================] - 16s 2ms/step - loss: 348.7389 - pearson: 0.2359 - mean_squared_error: 348.7389 - mean_absolute_error: 7.9140 - val_loss: 131.8431 - val_pearson: 0.1558 - val_mean_squared_error: 131.8431 - val_mean_absolute_error: 4.6274\n",
      "Epoch 92/150\n",
      "7936/8000 [============================>.] - ETA: 0s - loss: 348.6476 - pearson: 0.2328 - mean_squared_error: 348.6475 - mean_absolute_error: 8.0419\n",
      "Epoch 00092: val_loss did not improve\n",
      "8000/8000 [==============================] - 16s 2ms/step - loss: 347.0680 - pearson: 0.2340 - mean_squared_error: 347.0680 - mean_absolute_error: 8.0291 - val_loss: 131.3268 - val_pearson: 0.1497 - val_mean_squared_error: 131.3268 - val_mean_absolute_error: 4.2762\n",
      "Epoch 93/150\n",
      "7936/8000 [============================>.] - ETA: 0s - loss: 349.8580 - pearson: 0.2345 - mean_squared_error: 349.8580 - mean_absolute_error: 7.9741\n",
      "Epoch 00093: val_loss did not improve\n",
      "8000/8000 [==============================] - 16s 2ms/step - loss: 349.0373 - pearson: 0.2346 - mean_squared_error: 349.0373 - mean_absolute_error: 7.9762 - val_loss: 132.4863 - val_pearson: 0.1537 - val_mean_squared_error: 132.4863 - val_mean_absolute_error: 4.6324\n",
      "Epoch 94/150\n",
      "7936/8000 [============================>.] - ETA: 0s - loss: 347.0257 - pearson: 0.2360 - mean_squared_error: 347.0257 - mean_absolute_error: 7.9083\n",
      "Epoch 00094: val_loss did not improve\n",
      "8000/8000 [==============================] - 16s 2ms/step - loss: 347.3797 - pearson: 0.2355 - mean_squared_error: 347.3797 - mean_absolute_error: 7.9121 - val_loss: 132.3299 - val_pearson: 0.1529 - val_mean_squared_error: 132.3299 - val_mean_absolute_error: 4.6481\n",
      "Epoch 95/150\n",
      "7936/8000 [============================>.] - ETA: 0s - loss: 350.1255 - pearson: 0.2331 - mean_squared_error: 350.1255 - mean_absolute_error: 8.1067\n",
      "Epoch 00095: val_loss did not improve\n",
      "8000/8000 [==============================] - 16s 2ms/step - loss: 347.9681 - pearson: 0.2321 - mean_squared_error: 347.9681 - mean_absolute_error: 8.0821 - val_loss: 131.1086 - val_pearson: 0.1511 - val_mean_squared_error: 131.1086 - val_mean_absolute_error: 4.2539\n",
      "Epoch 96/150\n",
      "7936/8000 [============================>.] - ETA: 0s - loss: 345.6217 - pearson: 0.2345 - mean_squared_error: 345.6217 - mean_absolute_error: 7.9565\n",
      "Epoch 00096: val_loss did not improve\n",
      "8000/8000 [==============================] - 16s 2ms/step - loss: 347.2265 - pearson: 0.2336 - mean_squared_error: 347.2265 - mean_absolute_error: 7.9670 - val_loss: 131.4902 - val_pearson: 0.1503 - val_mean_squared_error: 131.4902 - val_mean_absolute_error: 4.2081\n",
      "Epoch 97/150\n",
      "7936/8000 [============================>.] - ETA: 0s - loss: 347.5414 - pearson: 0.2385 - mean_squared_error: 347.5414 - mean_absolute_error: 7.9754\n",
      "Epoch 00097: val_loss did not improve\n",
      "8000/8000 [==============================] - 16s 2ms/step - loss: 346.7838 - pearson: 0.2391 - mean_squared_error: 346.7838 - mean_absolute_error: 7.9654 - val_loss: 131.1326 - val_pearson: 0.1506 - val_mean_squared_error: 131.1326 - val_mean_absolute_error: 4.2013\n",
      "Epoch 98/150\n",
      "7936/8000 [============================>.] - ETA: 0s - loss: 349.1365 - pearson: 0.2335 - mean_squared_error: 349.1365 - mean_absolute_error: 7.9144\n",
      "Epoch 00098: val_loss did not improve\n",
      "8000/8000 [==============================] - 16s 2ms/step - loss: 348.8283 - pearson: 0.2336 - mean_squared_error: 348.8283 - mean_absolute_error: 7.9085 - val_loss: 132.1028 - val_pearson: 0.1483 - val_mean_squared_error: 132.1028 - val_mean_absolute_error: 4.3145\n",
      "Epoch 99/150\n",
      "7936/8000 [============================>.] - ETA: 0s - loss: 347.4238 - pearson: 0.2384 - mean_squared_error: 347.4238 - mean_absolute_error: 7.9569\n",
      "Epoch 00099: val_loss did not improve\n",
      "8000/8000 [==============================] - 16s 2ms/step - loss: 348.0761 - pearson: 0.2377 - mean_squared_error: 348.0761 - mean_absolute_error: 7.9715 - val_loss: 132.2689 - val_pearson: 0.1551 - val_mean_squared_error: 132.2689 - val_mean_absolute_error: 4.6521\n",
      "Epoch 100/150\n"
     ]
    },
    {
     "name": "stdout",
     "output_type": "stream",
     "text": [
      "1000/1000 [==============================] - 1s 658us/steps: 346.6369 - pearson: 0.2372 - mean_squared_error: 346.6369 - mean_\n",
      "[('loss', 9530915.1760000009), ('pearson', 0.0034292533533429718), ('mean_squared_error', 9530915.1999999993), ('mean_absolute_error', 2760.4871308593752)]\n",
      "Test spearman: 0.0725865916126\n",
      "\n",
      "Epoch 00100: val_loss did not improve\n",
      "8000/8000 [==============================] - 18s 2ms/step - loss: 345.5029 - pearson: 0.2367 - mean_squared_error: 345.5029 - mean_absolute_error: 7.9447 - val_loss: 131.7260 - val_pearson: 0.1499 - val_mean_squared_error: 131.7260 - val_mean_absolute_error: 4.1598\n",
      "Epoch 101/150\n",
      "7936/8000 [============================>.] - ETA: 0s - loss: 348.3280 - pearson: 0.2349 - mean_squared_error: 348.3280 - mean_absolute_error: 8.0013\n",
      "Epoch 00101: val_loss did not improve\n",
      "8000/8000 [==============================] - 16s 2ms/step - loss: 347.5764 - pearson: 0.2347 - mean_squared_error: 347.5764 - mean_absolute_error: 7.9980 - val_loss: 131.7070 - val_pearson: 0.1499 - val_mean_squared_error: 131.7070 - val_mean_absolute_error: 4.3897\n",
      "Epoch 102/150\n",
      "7936/8000 [============================>.] - ETA: 0s - loss: 345.1271 - pearson: 0.2393 - mean_squared_error: 345.1271 - mean_absolute_error: 7.9864\n",
      "Epoch 00102: val_loss did not improve\n",
      "8000/8000 [==============================] - 16s 2ms/step - loss: 346.3504 - pearson: 0.2394 - mean_squared_error: 346.3504 - mean_absolute_error: 7.9975 - val_loss: 130.9945 - val_pearson: 0.1505 - val_mean_squared_error: 130.9945 - val_mean_absolute_error: 4.2396\n",
      "Epoch 103/150\n",
      "7936/8000 [============================>.] - ETA: 0s - loss: 346.0504 - pearson: 0.2376 - mean_squared_error: 346.0504 - mean_absolute_error: 7.9515\n",
      "Epoch 00103: val_loss did not improve\n",
      "8000/8000 [==============================] - 16s 2ms/step - loss: 347.1334 - pearson: 0.2386 - mean_squared_error: 347.1334 - mean_absolute_error: 7.9628 - val_loss: 132.1212 - val_pearson: 0.1481 - val_mean_squared_error: 132.1212 - val_mean_absolute_error: 3.9361\n",
      "Epoch 104/150\n",
      "7936/8000 [============================>.] - ETA: 0s - loss: 348.5595 - pearson: 0.2377 - mean_squared_error: 348.5595 - mean_absolute_error: 7.9092\n",
      "Epoch 00104: val_loss did not improve\n",
      "8000/8000 [==============================] - 16s 2ms/step - loss: 347.9057 - pearson: 0.2384 - mean_squared_error: 347.9057 - mean_absolute_error: 7.9035 - val_loss: 131.4434 - val_pearson: 0.1500 - val_mean_squared_error: 131.4434 - val_mean_absolute_error: 4.2130\n",
      "Epoch 105/150\n",
      "7936/8000 [============================>.] - ETA: 0s - loss: 346.3681 - pearson: 0.2350 - mean_squared_error: 346.3681 - mean_absolute_error: 7.9768\n",
      "Epoch 00105: val_loss did not improve\n",
      "8000/8000 [==============================] - 16s 2ms/step - loss: 346.4275 - pearson: 0.2350 - mean_squared_error: 346.4275 - mean_absolute_error: 7.9793 - val_loss: 130.7762 - val_pearson: 0.1539 - val_mean_squared_error: 130.7762 - val_mean_absolute_error: 4.3881\n",
      "Epoch 106/150\n",
      "7936/8000 [============================>.] - ETA: 0s - loss: 345.5722 - pearson: 0.2369 - mean_squared_error: 345.5722 - mean_absolute_error: 7.8939\n",
      "Epoch 00106: val_loss did not improve\n",
      "8000/8000 [==============================] - 16s 2ms/step - loss: 346.0316 - pearson: 0.2357 - mean_squared_error: 346.0316 - mean_absolute_error: 7.9066 - val_loss: 131.8562 - val_pearson: 0.1514 - val_mean_squared_error: 131.8562 - val_mean_absolute_error: 4.5593\n",
      "Epoch 107/150\n",
      "7936/8000 [============================>.] - ETA: 0s - loss: 345.3353 - pearson: 0.2378 - mean_squared_error: 345.3353 - mean_absolute_error: 8.0041\n",
      "Epoch 00107: val_loss did not improve\n",
      "8000/8000 [==============================] - 16s 2ms/step - loss: 346.4051 - pearson: 0.2366 - mean_squared_error: 346.4051 - mean_absolute_error: 8.0118 - val_loss: 131.6477 - val_pearson: 0.1484 - val_mean_squared_error: 131.6477 - val_mean_absolute_error: 4.0595\n",
      "Epoch 108/150\n",
      "7936/8000 [============================>.] - ETA: 0s - loss: 342.8780 - pearson: 0.2356 - mean_squared_error: 342.8779 - mean_absolute_error: 7.9672\n",
      "Epoch 00108: val_loss did not improve\n",
      "8000/8000 [==============================] - 16s 2ms/step - loss: 345.8070 - pearson: 0.2352 - mean_squared_error: 345.8070 - mean_absolute_error: 7.9867 - val_loss: 131.2815 - val_pearson: 0.1525 - val_mean_squared_error: 131.2815 - val_mean_absolute_error: 4.4170\n",
      "Epoch 109/150\n",
      "7936/8000 [============================>.] - ETA: 0s - loss: 346.1575 - pearson: 0.2374 - mean_squared_error: 346.1575 - mean_absolute_error: 7.9391\n",
      "Epoch 00109: val_loss did not improve\n",
      "8000/8000 [==============================] - 16s 2ms/step - loss: 346.9822 - pearson: 0.2388 - mean_squared_error: 346.9822 - mean_absolute_error: 7.9563 - val_loss: 132.5301 - val_pearson: 0.1504 - val_mean_squared_error: 132.5301 - val_mean_absolute_error: 4.6251\n",
      "Epoch 110/150\n",
      "1000/1000 [==============================] - 1s 656us/steps: 348.2413 - pearson: 0.2417 - mean_squared_error: 348.2413 - mean_\n",
      "[('loss', 13626446.384), ('pearson', 0.0033355803145095706), ('mean_squared_error', 13626446.704), ('mean_absolute_error', 3310.6476210937499)]\n",
      "Test spearman: 0.0729351876214\n",
      "\n",
      "Epoch 00110: val_loss did not improve\n",
      "8000/8000 [==============================] - 18s 2ms/step - loss: 346.8590 - pearson: 0.2414 - mean_squared_error: 346.8590 - mean_absolute_error: 8.0924 - val_loss: 131.8600 - val_pearson: 0.1475 - val_mean_squared_error: 131.8600 - val_mean_absolute_error: 4.0815\n",
      "Epoch 111/150\n",
      "7936/8000 [============================>.] - ETA: 0s - loss: 346.9569 - pearson: 0.2314 - mean_squared_error: 346.9570 - mean_absolute_error: 7.9064\n",
      "Epoch 00111: val_loss did not improve\n",
      "8000/8000 [==============================] - 16s 2ms/step - loss: 345.9458 - pearson: 0.2316 - mean_squared_error: 345.9458 - mean_absolute_error: 7.9107 - val_loss: 133.0974 - val_pearson: 0.1512 - val_mean_squared_error: 133.0974 - val_mean_absolute_error: 4.6896\n",
      "Epoch 112/150\n",
      "7936/8000 [============================>.] - ETA: 0s - loss: 348.6869 - pearson: 0.2351 - mean_squared_error: 348.6868 - mean_absolute_error: 8.0568\n",
      "Epoch 00112: val_loss did not improve\n",
      "8000/8000 [==============================] - 16s 2ms/step - loss: 346.9743 - pearson: 0.2355 - mean_squared_error: 346.9743 - mean_absolute_error: 8.0402 - val_loss: 131.3740 - val_pearson: 0.1494 - val_mean_squared_error: 131.3740 - val_mean_absolute_error: 4.1405\n",
      "Epoch 113/150\n",
      "7936/8000 [============================>.] - ETA: 0s - loss: 346.6121 - pearson: 0.2413 - mean_squared_error: 346.6121 - mean_absolute_error: 7.9459\n",
      "Epoch 00113: val_loss did not improve\n",
      "8000/8000 [==============================] - 16s 2ms/step - loss: 347.3769 - pearson: 0.2417 - mean_squared_error: 347.3769 - mean_absolute_error: 7.9483 - val_loss: 130.8294 - val_pearson: 0.1532 - val_mean_squared_error: 130.8294 - val_mean_absolute_error: 4.3884\n",
      "Epoch 114/150\n",
      "7936/8000 [============================>.] - ETA: 0s - loss: 347.7827 - pearson: 0.2423 - mean_squared_error: 347.7827 - mean_absolute_error: 8.0343\n",
      "Epoch 00114: val_loss did not improve\n",
      "8000/8000 [==============================] - 16s 2ms/step - loss: 346.3643 - pearson: 0.2436 - mean_squared_error: 346.3643 - mean_absolute_error: 8.0167 - val_loss: 130.8366 - val_pearson: 0.1541 - val_mean_squared_error: 130.8366 - val_mean_absolute_error: 4.3939\n",
      "Epoch 115/150\n",
      "7936/8000 [============================>.] - ETA: 0s - loss: 344.8905 - pearson: 0.2378 - mean_squared_error: 344.8905 - mean_absolute_error: 7.9525\n",
      "Epoch 00115: val_loss did not improve\n",
      "8000/8000 [==============================] - 16s 2ms/step - loss: 346.0295 - pearson: 0.2370 - mean_squared_error: 346.0295 - mean_absolute_error: 7.9636 - val_loss: 130.5746 - val_pearson: 0.1524 - val_mean_squared_error: 130.5746 - val_mean_absolute_error: 4.2683\n",
      "Epoch 116/150\n",
      "7936/8000 [============================>.] - ETA: 0s - loss: 346.1649 - pearson: 0.2353 - mean_squared_error: 346.1649 - mean_absolute_error: 7.8784\n",
      "Epoch 00116: val_loss did not improve\n",
      "8000/8000 [==============================] - 16s 2ms/step - loss: 346.3639 - pearson: 0.2360 - mean_squared_error: 346.3639 - mean_absolute_error: 7.8784 - val_loss: 131.3833 - val_pearson: 0.1524 - val_mean_squared_error: 131.3833 - val_mean_absolute_error: 4.4243\n"
     ]
    },
    {
     "name": "stdout",
     "output_type": "stream",
     "text": [
      "Epoch 117/150\n",
      "7936/8000 [============================>.] - ETA: 0s - loss: 343.1721 - pearson: 0.2388 - mean_squared_error: 343.1721 - mean_absolute_error: 8.0472\n",
      "Epoch 00117: val_loss did not improve\n",
      "8000/8000 [==============================] - 16s 2ms/step - loss: 346.0554 - pearson: 0.2399 - mean_squared_error: 346.0554 - mean_absolute_error: 8.0715 - val_loss: 131.1967 - val_pearson: 0.1521 - val_mean_squared_error: 131.1967 - val_mean_absolute_error: 4.3156\n",
      "Epoch 118/150\n",
      "7936/8000 [============================>.] - ETA: 0s - loss: 346.5729 - pearson: 0.2422 - mean_squared_error: 346.5729 - mean_absolute_error: 7.9860\n",
      "Epoch 00118: val_loss did not improve\n",
      "8000/8000 [==============================] - 16s 2ms/step - loss: 345.3471 - pearson: 0.2413 - mean_squared_error: 345.3471 - mean_absolute_error: 7.9804 - val_loss: 130.8397 - val_pearson: 0.1520 - val_mean_squared_error: 130.8397 - val_mean_absolute_error: 4.3563\n",
      "Epoch 119/150\n",
      "7936/8000 [============================>.] - ETA: 0s - loss: 345.6346 - pearson: 0.2357 - mean_squared_error: 345.6346 - mean_absolute_error: 7.9773\n",
      "Epoch 00119: val_loss did not improve\n",
      "8000/8000 [==============================] - 16s 2ms/step - loss: 345.6869 - pearson: 0.2360 - mean_squared_error: 345.6869 - mean_absolute_error: 7.9766 - val_loss: 131.0731 - val_pearson: 0.1520 - val_mean_squared_error: 131.0731 - val_mean_absolute_error: 4.3653\n",
      "Epoch 120/150\n",
      "1000/1000 [==============================] - 1s 652us/steps: 346.0205 - pearson: 0.2364 - mean_squared_error: 346.0205 - mean_\n",
      "[('loss', 18640950.368000001), ('pearson', 0.0032744587438028249), ('mean_squared_error', 18640950.432), ('mean_absolute_error', 3894.2508789062499)]\n",
      "Test spearman: 0.0745580338041\n",
      "\n",
      "Epoch 00120: val_loss did not improve\n",
      "8000/8000 [==============================] - 18s 2ms/step - loss: 346.5871 - pearson: 0.2368 - mean_squared_error: 346.5871 - mean_absolute_error: 7.9993 - val_loss: 131.4511 - val_pearson: 0.1497 - val_mean_squared_error: 131.4511 - val_mean_absolute_error: 4.0870\n",
      "Epoch 121/150\n",
      "7936/8000 [============================>.] - ETA: 0s - loss: 347.1369 - pearson: 0.2369 - mean_squared_error: 347.1369 - mean_absolute_error: 8.0485\n",
      "Epoch 00121: val_loss did not improve\n",
      "8000/8000 [==============================] - 16s 2ms/step - loss: 345.7705 - pearson: 0.2373 - mean_squared_error: 345.7705 - mean_absolute_error: 8.0407 - val_loss: 131.6896 - val_pearson: 0.1511 - val_mean_squared_error: 131.6896 - val_mean_absolute_error: 4.4467\n",
      "Epoch 122/150\n",
      "7936/8000 [============================>.] - ETA: 0s - loss: 338.0811 - pearson: 0.2399 - mean_squared_error: 338.0811 - mean_absolute_error: 7.9250\n",
      "Epoch 00122: val_loss did not improve\n",
      "8000/8000 [==============================] - 16s 2ms/step - loss: 345.7647 - pearson: 0.2407 - mean_squared_error: 345.7647 - mean_absolute_error: 7.9623 - val_loss: 131.3252 - val_pearson: 0.1507 - val_mean_squared_error: 131.3252 - val_mean_absolute_error: 4.3568\n",
      "Epoch 123/150\n",
      "7936/8000 [============================>.] - ETA: 0s - loss: 344.3779 - pearson: 0.2394 - mean_squared_error: 344.3779 - mean_absolute_error: 8.0560\n",
      "Epoch 00123: val_loss did not improve\n",
      "8000/8000 [==============================] - 16s 2ms/step - loss: 347.1602 - pearson: 0.2391 - mean_squared_error: 347.1602 - mean_absolute_error: 8.0834 - val_loss: 130.9800 - val_pearson: 0.1498 - val_mean_squared_error: 130.9800 - val_mean_absolute_error: 4.2268\n",
      "Epoch 124/150\n",
      "7936/8000 [============================>.] - ETA: 0s - loss: 343.8465 - pearson: 0.2350 - mean_squared_error: 343.8465 - mean_absolute_error: 7.9406\n",
      "Epoch 00124: val_loss did not improve\n",
      "8000/8000 [==============================] - 16s 2ms/step - loss: 344.9305 - pearson: 0.2356 - mean_squared_error: 344.9305 - mean_absolute_error: 7.9574 - val_loss: 131.7948 - val_pearson: 0.1508 - val_mean_squared_error: 131.7948 - val_mean_absolute_error: 4.4732\n",
      "Epoch 125/150\n",
      "7936/8000 [============================>.] - ETA: 0s - loss: 347.1380 - pearson: 0.2445 - mean_squared_error: 347.1380 - mean_absolute_error: 8.0250\n",
      "Epoch 00125: val_loss did not improve\n",
      "8000/8000 [==============================] - 16s 2ms/step - loss: 345.6818 - pearson: 0.2438 - mean_squared_error: 345.6818 - mean_absolute_error: 8.0104 - val_loss: 132.5626 - val_pearson: 0.1462 - val_mean_squared_error: 132.5626 - val_mean_absolute_error: 3.9852\n",
      "Epoch 126/150\n",
      "7936/8000 [============================>.] - ETA: 0s - loss: 343.2647 - pearson: 0.2424 - mean_squared_error: 343.2647 - mean_absolute_error: 7.8513\n",
      "Epoch 00126: val_loss did not improve\n",
      "8000/8000 [==============================] - 16s 2ms/step - loss: 345.4592 - pearson: 0.2440 - mean_squared_error: 345.4592 - mean_absolute_error: 7.8639 - val_loss: 132.1214 - val_pearson: 0.1472 - val_mean_squared_error: 132.1214 - val_mean_absolute_error: 4.2827\n",
      "Epoch 127/150\n",
      "7936/8000 [============================>.] - ETA: 0s - loss: 347.3882 - pearson: 0.2336 - mean_squared_error: 347.3882 - mean_absolute_error: 7.9417\n",
      "Epoch 00127: val_loss did not improve\n",
      "8000/8000 [==============================] - 16s 2ms/step - loss: 346.2005 - pearson: 0.2330 - mean_squared_error: 346.2005 - mean_absolute_error: 7.9396 - val_loss: 131.9817 - val_pearson: 0.1516 - val_mean_squared_error: 131.9817 - val_mean_absolute_error: 4.5517\n",
      "Epoch 128/150\n",
      "7936/8000 [============================>.] - ETA: 0s - loss: 342.0923 - pearson: 0.2369 - mean_squared_error: 342.0923 - mean_absolute_error: 7.9177\n",
      "Epoch 00128: val_loss did not improve\n",
      "8000/8000 [==============================] - 16s 2ms/step - loss: 345.6880 - pearson: 0.2371 - mean_squared_error: 345.6880 - mean_absolute_error: 7.9404 - val_loss: 131.9096 - val_pearson: 0.1502 - val_mean_squared_error: 131.9096 - val_mean_absolute_error: 4.3812\n",
      "Epoch 129/150\n",
      "7936/8000 [============================>.] - ETA: 0s - loss: 343.5276 - pearson: 0.2378 - mean_squared_error: 343.5276 - mean_absolute_error: 8.0090\n",
      "Epoch 00129: val_loss did not improve\n",
      "8000/8000 [==============================] - 16s 2ms/step - loss: 345.9332 - pearson: 0.2382 - mean_squared_error: 345.9332 - mean_absolute_error: 8.0248 - val_loss: 131.2238 - val_pearson: 0.1532 - val_mean_squared_error: 131.2238 - val_mean_absolute_error: 4.3859\n",
      "Epoch 130/150\n",
      "1000/1000 [==============================] - 1s 653us/steps: 339.8732 - pearson: 0.2380 - mean_squared_error: 339.8732 - mean_\n",
      "[('loss', 25602332.096000001), ('pearson', 0.0031920959443086758), ('mean_squared_error', 25602332.432), ('mean_absolute_error', 4596.1595039062504)]\n",
      "Test spearman: 0.0762752194601\n",
      "\n",
      "Epoch 00130: val_loss did not improve\n",
      "8000/8000 [==============================] - 18s 2ms/step - loss: 344.8188 - pearson: 0.2383 - mean_squared_error: 344.8188 - mean_absolute_error: 7.9105 - val_loss: 131.0970 - val_pearson: 0.1548 - val_mean_squared_error: 131.0970 - val_mean_absolute_error: 4.4617\n",
      "Epoch 131/150\n",
      "7936/8000 [============================>.] - ETA: 0s - loss: 346.0706 - pearson: 0.2384 - mean_squared_error: 346.0706 - mean_absolute_error: 7.9573\n",
      "Epoch 00131: val_loss did not improve\n",
      "8000/8000 [==============================] - 16s 2ms/step - loss: 345.6012 - pearson: 0.2391 - mean_squared_error: 345.6012 - mean_absolute_error: 7.9556 - val_loss: 131.3606 - val_pearson: 0.1542 - val_mean_squared_error: 131.3606 - val_mean_absolute_error: 4.4913\n",
      "Epoch 132/150\n",
      "7936/8000 [============================>.] - ETA: 0s - loss: 344.5774 - pearson: 0.2405 - mean_squared_error: 344.5774 - mean_absolute_error: 7.9783\n",
      "Epoch 00132: val_loss did not improve\n",
      "8000/8000 [==============================] - 16s 2ms/step - loss: 344.9827 - pearson: 0.2417 - mean_squared_error: 344.9827 - mean_absolute_error: 7.9820 - val_loss: 131.3721 - val_pearson: 0.1498 - val_mean_squared_error: 131.3721 - val_mean_absolute_error: 4.2942\n",
      "Epoch 133/150\n",
      "7936/8000 [============================>.] - ETA: 0s - loss: 346.8206 - pearson: 0.2408 - mean_squared_error: 346.8206 - mean_absolute_error: 7.8479\n",
      "Epoch 00133: val_loss did not improve\n",
      "8000/8000 [==============================] - 16s 2ms/step - loss: 345.5844 - pearson: 0.2413 - mean_squared_error: 345.5844 - mean_absolute_error: 7.8373 - val_loss: 131.7786 - val_pearson: 0.1546 - val_mean_squared_error: 131.7786 - val_mean_absolute_error: 4.5965\n"
     ]
    },
    {
     "name": "stdout",
     "output_type": "stream",
     "text": [
      "Epoch 134/150\n",
      "7936/8000 [============================>.] - ETA: 0s - loss: 346.9668 - pearson: 0.2400 - mean_squared_error: 346.9668 - mean_absolute_error: 8.0480\n",
      "Epoch 00134: val_loss did not improve\n",
      "8000/8000 [==============================] - 16s 2ms/step - loss: 345.4695 - pearson: 0.2396 - mean_squared_error: 345.4695 - mean_absolute_error: 8.0330 - val_loss: 131.0776 - val_pearson: 0.1501 - val_mean_squared_error: 131.0776 - val_mean_absolute_error: 4.1673\n",
      "Epoch 135/150\n",
      "7936/8000 [============================>.] - ETA: 0s - loss: 348.2366 - pearson: 0.2393 - mean_squared_error: 348.2366 - mean_absolute_error: 7.9884\n",
      "Epoch 00135: val_loss did not improve\n",
      "8000/8000 [==============================] - 16s 2ms/step - loss: 346.8338 - pearson: 0.2404 - mean_squared_error: 346.8338 - mean_absolute_error: 7.9814 - val_loss: 133.1031 - val_pearson: 0.1535 - val_mean_squared_error: 133.1031 - val_mean_absolute_error: 4.7093\n",
      "Epoch 136/150\n",
      "7936/8000 [============================>.] - ETA: 0s - loss: 344.4685 - pearson: 0.2396 - mean_squared_error: 344.4685 - mean_absolute_error: 7.9358\n",
      "Epoch 00136: val_loss did not improve\n",
      "8000/8000 [==============================] - 16s 2ms/step - loss: 344.6253 - pearson: 0.2386 - mean_squared_error: 344.6253 - mean_absolute_error: 7.9398 - val_loss: 131.7706 - val_pearson: 0.1492 - val_mean_squared_error: 131.7706 - val_mean_absolute_error: 4.2957\n",
      "Epoch 137/150\n",
      "7936/8000 [============================>.] - ETA: 0s - loss: 339.4114 - pearson: 0.2435 - mean_squared_error: 339.4114 - mean_absolute_error: 7.9653\n",
      "Epoch 00137: val_loss did not improve\n",
      "8000/8000 [==============================] - 16s 2ms/step - loss: 344.7532 - pearson: 0.2427 - mean_squared_error: 344.7532 - mean_absolute_error: 7.9956 - val_loss: 131.3380 - val_pearson: 0.1497 - val_mean_squared_error: 131.3380 - val_mean_absolute_error: 4.2515\n",
      "Epoch 138/150\n",
      "7936/8000 [============================>.] - ETA: 0s - loss: 347.6173 - pearson: 0.2397 - mean_squared_error: 347.6173 - mean_absolute_error: 8.0076\n",
      "Epoch 00138: val_loss did not improve\n",
      "8000/8000 [==============================] - 16s 2ms/step - loss: 345.4241 - pearson: 0.2391 - mean_squared_error: 345.4241 - mean_absolute_error: 7.9838 - val_loss: 131.5819 - val_pearson: 0.1524 - val_mean_squared_error: 131.5819 - val_mean_absolute_error: 4.4671\n",
      "Epoch 139/150\n",
      "7936/8000 [============================>.] - ETA: 0s - loss: 342.0436 - pearson: 0.2390 - mean_squared_error: 342.0436 - mean_absolute_error: 7.9094\n",
      "Epoch 00139: val_loss did not improve\n",
      "8000/8000 [==============================] - 16s 2ms/step - loss: 345.5075 - pearson: 0.2390 - mean_squared_error: 345.5075 - mean_absolute_error: 7.9323 - val_loss: 131.0903 - val_pearson: 0.1508 - val_mean_squared_error: 131.0903 - val_mean_absolute_error: 4.1998\n",
      "Epoch 140/150\n",
      "1000/1000 [==============================] - 1s 647us/steps: 345.9072 - pearson: 0.2364 - mean_squared_error: 345.9072 - mean_\n",
      "[('loss', 29703379.039999999), ('pearson', 0.0031835385874146595), ('mean_squared_error', 29703378.784000002), ('mean_absolute_error', 4947.8159023437502)]\n",
      "Test spearman: 0.0759294353429\n",
      "\n",
      "Epoch 00140: val_loss did not improve\n",
      "8000/8000 [==============================] - 18s 2ms/step - loss: 345.3741 - pearson: 0.2363 - mean_squared_error: 345.3741 - mean_absolute_error: 7.9995 - val_loss: 131.0065 - val_pearson: 0.1533 - val_mean_squared_error: 131.0065 - val_mean_absolute_error: 4.3526\n",
      "Epoch 141/150\n",
      "7936/8000 [============================>.] - ETA: 0s - loss: 345.9743 - pearson: 0.2427 - mean_squared_error: 345.9743 - mean_absolute_error: 7.9042\n",
      "Epoch 00141: val_loss did not improve\n",
      "8000/8000 [==============================] - 16s 2ms/step - loss: 344.9727 - pearson: 0.2431 - mean_squared_error: 344.9727 - mean_absolute_error: 7.8962 - val_loss: 131.2842 - val_pearson: 0.1519 - val_mean_squared_error: 131.2842 - val_mean_absolute_error: 4.3573\n",
      "Epoch 142/150\n",
      "7936/8000 [============================>.] - ETA: 0s - loss: 343.9513 - pearson: 0.2370 - mean_squared_error: 343.9512 - mean_absolute_error: 7.9723\n",
      "Epoch 00142: val_loss did not improve\n",
      "8000/8000 [==============================] - 16s 2ms/step - loss: 344.9409 - pearson: 0.2367 - mean_squared_error: 344.9409 - mean_absolute_error: 7.9855 - val_loss: 132.2849 - val_pearson: 0.1476 - val_mean_squared_error: 132.2849 - val_mean_absolute_error: 4.3599\n",
      "Epoch 143/150\n",
      "7936/8000 [============================>.] - ETA: 0s - loss: 345.3863 - pearson: 0.2432 - mean_squared_error: 345.3863 - mean_absolute_error: 7.9280\n",
      "Epoch 00143: val_loss did not improve\n",
      "8000/8000 [==============================] - 16s 2ms/step - loss: 345.4575 - pearson: 0.2428 - mean_squared_error: 345.4575 - mean_absolute_error: 7.9256 - val_loss: 130.8887 - val_pearson: 0.1522 - val_mean_squared_error: 130.8887 - val_mean_absolute_error: 4.3422\n",
      "Epoch 144/150\n",
      "7936/8000 [============================>.] - ETA: 0s - loss: 345.5799 - pearson: 0.2433 - mean_squared_error: 345.5799 - mean_absolute_error: 8.0453\n",
      "Epoch 00144: val_loss did not improve\n",
      "8000/8000 [==============================] - 16s 2ms/step - loss: 344.1157 - pearson: 0.2449 - mean_squared_error: 344.1157 - mean_absolute_error: 8.0346 - val_loss: 131.4521 - val_pearson: 0.1489 - val_mean_squared_error: 131.4521 - val_mean_absolute_error: 4.0550\n",
      "Epoch 145/150\n",
      "7936/8000 [============================>.] - ETA: 0s - loss: 346.8452 - pearson: 0.2387 - mean_squared_error: 346.8452 - mean_absolute_error: 7.7059\n",
      "Epoch 00145: val_loss did not improve\n",
      "8000/8000 [==============================] - 16s 2ms/step - loss: 346.1835 - pearson: 0.2385 - mean_squared_error: 346.1835 - mean_absolute_error: 7.7097 - val_loss: 131.7238 - val_pearson: 0.1532 - val_mean_squared_error: 131.7238 - val_mean_absolute_error: 4.5410\n",
      "Epoch 146/150\n",
      "7936/8000 [============================>.] - ETA: 0s - loss: 344.7785 - pearson: 0.2392 - mean_squared_error: 344.7785 - mean_absolute_error: 7.9771\n",
      "Epoch 00146: val_loss did not improve\n",
      "8000/8000 [==============================] - 16s 2ms/step - loss: 344.8708 - pearson: 0.2395 - mean_squared_error: 344.8708 - mean_absolute_error: 7.9800 - val_loss: 132.3875 - val_pearson: 0.1536 - val_mean_squared_error: 132.3875 - val_mean_absolute_error: 4.6289\n",
      "Epoch 147/150\n",
      "7936/8000 [============================>.] - ETA: 0s - loss: 344.6135 - pearson: 0.2375 - mean_squared_error: 344.6135 - mean_absolute_error: 8.0200\n",
      "Epoch 00147: val_loss did not improve\n",
      "8000/8000 [==============================] - 16s 2ms/step - loss: 344.4394 - pearson: 0.2382 - mean_squared_error: 344.4394 - mean_absolute_error: 8.0244 - val_loss: 131.8844 - val_pearson: 0.1522 - val_mean_squared_error: 131.8844 - val_mean_absolute_error: 4.5162\n",
      "Epoch 148/150\n",
      "7936/8000 [============================>.] - ETA: 0s - loss: 344.5033 - pearson: 0.2437 - mean_squared_error: 344.5033 - mean_absolute_error: 8.0477\n",
      "Epoch 00148: val_loss did not improve\n",
      "8000/8000 [==============================] - 16s 2ms/step - loss: 344.7276 - pearson: 0.2435 - mean_squared_error: 344.7276 - mean_absolute_error: 8.0511 - val_loss: 130.9371 - val_pearson: 0.1512 - val_mean_squared_error: 130.9371 - val_mean_absolute_error: 4.2762\n",
      "Epoch 149/150\n",
      "7936/8000 [============================>.] - ETA: 0s - loss: 344.2861 - pearson: 0.2413 - mean_squared_error: 344.2861 - mean_absolute_error: 7.9377\n",
      "Epoch 00149: val_loss did not improve\n",
      "8000/8000 [==============================] - 16s 2ms/step - loss: 344.8241 - pearson: 0.2416 - mean_squared_error: 344.8241 - mean_absolute_error: 7.9450 - val_loss: 132.3750 - val_pearson: 0.1479 - val_mean_squared_error: 132.3750 - val_mean_absolute_error: 4.4653\n",
      "Epoch 150/150\n",
      "1000/1000 [==============================] - 1s 661us/steps: 345.6072 - pearson: 0.2348 - mean_squared_error: 345.6072 - mean_\n",
      "[('loss', 34634169.696000002), ('pearson', 0.0032155821893247775), ('mean_squared_error', 34634169.696000002), ('mean_absolute_error', 5337.6760390625004)]\n",
      "Test spearman: 0.0745179955359\n",
      "\n",
      "Epoch 00150: val_loss did not improve\n",
      "8000/8000 [==============================] - 18s 2ms/step - loss: 344.6593 - pearson: 0.2360 - mean_squared_error: 344.6593 - mean_absolute_error: 8.0706 - val_loss: 131.3397 - val_pearson: 0.1520 - val_mean_squared_error: 131.3397 - val_mean_absolute_error: 4.3760\n"
     ]
    },
    {
     "data": {
      "text/plain": [
       "<keras.callbacks.History at 0x7fe2f6710a50>"
      ]
     },
     "execution_count": 54,
     "metadata": {},
     "output_type": "execute_result"
    }
   ],
   "source": [
    "print \"Fitting the model...\"\n",
    "train_index = int(sample_num*0.8)\n",
    "val_index = sample_num\n",
    "test_index = int(sample_num*1.1) \n",
    "\n",
    "X_train, y_train = atac_seq_day0[:train_index], histone_mark_day0[:train_index]\n",
    "X_train = np.log(X_train+1+10**-10)\n",
    "X_train /= np.max(X_train)\n",
    "X_train = (X_train - 0.5) * 2\n",
    "print np.max(X_train), np.min(X_train)\n",
    "\n",
    "X_val, y_val = atac_seq_day0[train_index:val_index], histone_mark_day0[train_index:val_index]\n",
    "X_val = np.log(X_val+1+10**-10)\n",
    "X_val /= np.max(X_val)\n",
    "X_val = (X_val - 0.5) * 2\n",
    "print np.max(X_val), np.min(X_val)\n",
    "\n",
    "X_test, y_test = atac_seq_day0[val_index:test_index], histone_mark_day0[val_index:test_index]\n",
    "x_test = np.log(X_test+1+10**-10)\n",
    "X_test /= np.max(X_test)\n",
    "X_test = (X_test - 0.5) * 2\n",
    "print np.max(X_test), np.min(X_test)\n",
    "\n",
    "model.fit(atac_seq_day0[:sample_num],\n",
    "          histone_mark_day0[:sample_num],\n",
    "          batch_size=batch_size,\n",
    "          epochs=num_epochs,\n",
    "          validation_split=0.2,   \n",
    "          #shuffle=True,\n",
    "          callbacks=[tensorboard,\n",
    "                     reduce_lr,\n",
    "                     EvaluateModel(X_test, y_test),\n",
    "                     checkpointer,\n",
    "                     SaveBigwig(X_train, y_train, X_val, y_val, X_test, y_test)])"
   ]
  },
  {
   "cell_type": "code",
   "execution_count": null,
   "metadata": {
    "collapsed": true
   },
   "outputs": [],
   "source": []
  }
 ],
 "metadata": {
  "kernelspec": {
   "display_name": "Python 2",
   "language": "python",
   "name": "python2"
  },
  "language_info": {
   "codemirror_mode": {
    "name": "ipython",
    "version": 2
   },
   "file_extension": ".py",
   "mimetype": "text/x-python",
   "name": "python",
   "nbconvert_exporter": "python",
   "pygments_lexer": "ipython2",
   "version": "2.7.13"
  }
 },
 "nbformat": 4,
 "nbformat_minor": 2
}
