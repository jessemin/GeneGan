{
 "cells": [
  {
   "cell_type": "markdown",
   "metadata": {},
   "source": [
    "#### NOTE: Need to activate genomelake environment before this code. Simply type 'genomelake' in terminal."
   ]
  },
  {
   "cell_type": "code",
   "execution_count": 57,
   "metadata": {},
   "outputs": [],
   "source": [
    "import os, sys\n",
    "sys.path.append(\"..\")\n",
    "import random\n",
    "# custom file path package\n",
    "from data import Data_Directories\n",
    "# custom utility package\n",
    "from utils.compute_util import *\n",
    "# package for genomic data\n",
    "from pybedtools import Interval, BedTool\n",
    "from genomelake.extractors import ArrayExtractor, BigwigExtractor\n",
    "# package for plotting\n",
    "import matplotlib.pyplot as plt\n",
    "%matplotlib inline"
   ]
  },
  {
   "cell_type": "code",
   "execution_count": 4,
   "metadata": {
    "collapsed": true
   },
   "outputs": [],
   "source": [
    "window_size = 4001\n",
    "process_all = False\n",
    "sample_num = 1000"
   ]
  },
  {
   "cell_type": "code",
   "execution_count": 5,
   "metadata": {},
   "outputs": [
    {
     "name": "stdout",
     "output_type": "stream",
     "text": [
      "['day6', 'day3', 'day0']\n",
      "['100', '140']\n",
      "['H3K27me3', 'H3K4me1', 'H3K27ac']\n"
     ]
    }
   ],
   "source": [
    "# retrieve data\n",
    "data = Data_Directories()\n",
    "print data.intervals.keys()\n",
    "print data.input_atac['day0'].keys()\n",
    "print data.output_histone['day0'].keys()"
   ]
  },
  {
   "cell_type": "code",
   "execution_count": 6,
   "metadata": {},
   "outputs": [
    {
     "name": "stdout",
     "output_type": "stream",
     "text": [
      "# of Intervals Extracted wfor day0: 267226\n",
      "# of Intervals Extracted for day3: 233846\n"
     ]
    }
   ],
   "source": [
    "# get intervals for day0 data\n",
    "day0_intervals = list(BedTool(data.intervals['day0']))\n",
    "print '# of Intervals Extracted wfor day0: {}'.format(len(day0_intervals))\n",
    "\n",
    "# get intervals for day3 data\n",
    "day3_intervals = list(BedTool(data.intervals['day3']))\n",
    "print '# of Intervals Extracted for day3: {}'.format(len(day3_intervals))"
   ]
  },
  {
   "cell_type": "code",
   "execution_count": 7,
   "metadata": {},
   "outputs": [
    {
     "name": "stdout",
     "output_type": "stream",
     "text": [
      "Finished extracting bigwig for day0, 140bp\n",
      "Finished extracting bigwig for day3, 140bp\n"
     ]
    }
   ],
   "source": [
    "# create a BigWigExtractor for histone makr 'H3K27ac' for day0\n",
    "histone_mark_day0 = BigwigExtractor(data.output_histone['day0']['H3K27ac'])\n",
    "print 'Finished extracting bigwig for day0, 140bp'\n",
    "\n",
    "# create a BigWigExtractor for histone makr 'H3K27ac' for day3\n",
    "histone_mark_day3 = BigwigExtractor(data.output_histone['day3']['H3K27ac'])\n",
    "print 'Finished extracting bigwig for day3, 140bp'"
   ]
  },
  {
   "cell_type": "code",
   "execution_count": 8,
   "metadata": {},
   "outputs": [
    {
     "name": "stdout",
     "output_type": "stream",
     "text": [
      "Finished normalizing day0 intervals!\n",
      "Finished normalizing day3 intervals!\n"
     ]
    }
   ],
   "source": [
    "# normalize day0 intervals\n",
    "normalized_day0_intervals = [normalize_interval(interval, window_size) for interval in day0_intervals if normalize_interval(interval, window_size)]\n",
    "print 'Finished normalizing day0 intervals!'\n",
    "\n",
    "# normalize day3 intervals\n",
    "normalized_day3_intervals = [normalize_interval(interval, window_size) for interval in day3_intervals if normalize_interval(interval, window_size)]\n",
    "print 'Finished normalizing day3 intervals!'"
   ]
  },
  {
   "cell_type": "code",
   "execution_count": 11,
   "metadata": {},
   "outputs": [
    {
     "name": "stdout",
     "output_type": "stream",
     "text": [
      "Examples of original intervals\n",
      "[(123412027, [123411855, 123412989]), (123411941, [123411855, 123412989]), (131908564, [131908487, 131910071])]\n",
      "Examples of normalized intervals with window size of 4001\n",
      "[[123410027, 123414028], [123409941, 123413942], [131906564, 131910565]]\n"
     ]
    }
   ],
   "source": [
    "assert (len(day0_intervals)==len(normalized_day0_intervals))\n",
    "assert (len(day3_intervals)==len(normalized_day3_intervals))\n",
    "print \"Examples of original intervals\"\n",
    "print [(int(_interval.start)+int(_interval[-1]), [int(_interval.start), int(_interval.end)])\n",
    "       for _interval in day0_intervals[:3]]\n",
    "print \"Examples of normalized intervals with window size of {}\".format(window_size)\n",
    "print [([int(_interval.start), int(_interval.end)])\n",
    "       for _interval in  normalized_day0_intervals[:3]]"
   ]
  },
  {
   "cell_type": "code",
   "execution_count": 12,
   "metadata": {},
   "outputs": [
    {
     "name": "stdout",
     "output_type": "stream",
     "text": [
      "Dimension of histone mark signal: (1, 4001)\n"
     ]
    }
   ],
   "source": [
    "print \"Dimension of histone mark signal: {}\".format(histone_mark_day0(normalized_day0_intervals[:1]).shape)"
   ]
  },
  {
   "cell_type": "code",
   "execution_count": 13,
   "metadata": {},
   "outputs": [
    {
     "name": "stdout",
     "output_type": "stream",
     "text": [
      "1.0\n"
     ]
    }
   ],
   "source": [
    "def get_p_value(val):\n",
    "    # histone_mark values are: -log_10(p-value)\n",
    "    return np.power(10.0, -val)"
   ]
  },
  {
   "cell_type": "code",
   "execution_count": 15,
   "metadata": {},
   "outputs": [],
   "source": [
    "raw_histone_mark_day0 = histone_mark_day0(normalized_day0_intervals)"
   ]
  },
  {
   "cell_type": "code",
   "execution_count": 20,
   "metadata": {},
   "outputs": [
    {
     "name": "stdout",
     "output_type": "stream",
     "text": [
      "Dimension of entire raw_histone_mark_day0 signal: (267226, 4001)\n",
      "Flattened shape: (1069171226,)\n"
     ]
    }
   ],
   "source": [
    "print \"Dimension of entire raw_histone_mark_day0 signal: {}\".format(raw_histone_mark_day0.shape)\n",
    "flat_raw_histone_mark_day0 = raw_histone_mark_day0.flatten()\n",
    "print \"Flattened shape: {}\".format(flat_raw_histone_mark_day0.shape)"
   ]
  },
  {
   "cell_type": "code",
   "execution_count": 33,
   "metadata": {},
   "outputs": [
    {
     "name": "stdout",
     "output_type": "stream",
     "text": [
      "# of NaN value in histone mark signal: 3529 (3.30068740552e-06% of total)\n"
     ]
    }
   ],
   "source": [
    "total = flat_raw_histone_mark_day0.shape[0]\n",
    "nan_count = np.where(np.isnan(flat_raw_histone_mark_day0))[0].shape[0]\n",
    "print \"# of NaN value in histone mark signal: {} ({}% of total)\".format(nan_count, nan_count*1.0/total)"
   ]
  },
  {
   "cell_type": "code",
   "execution_count": 36,
   "metadata": {},
   "outputs": [
    {
     "name": "stdout",
     "output_type": "stream",
     "text": [
      "Substitute NaN value in histone track signal with 0.0...\n",
      "# of NaN value in histone mark signal: 0 (0.0% of total)\n"
     ]
    }
   ],
   "source": [
    "print \"Substitute NaN value in histone track signal with 0.0...\"\n",
    "flat_raw_histone_mark_day0 = np.nan_to_num(flat_raw_histone_mark_day0)\n",
    "nan_count = np.where(np.isnan(flat_raw_histone_mark_day0))[0].shape[0]\n",
    "print \"# of NaN value in histone mark signal: {} ({}% of total)\".format(nan_count, nan_count*1.0/total)"
   ]
  },
  {
   "cell_type": "code",
   "execution_count": 37,
   "metadata": {},
   "outputs": [
    {
     "data": {
      "text/plain": [
       "(array([1018720677,   25733795,   10330053,    5278068,    3061807,\n",
       "           1896516,    1239170,     862157,     616804,     420449,\n",
       "            285260,     204844,     151358,     104168,      76232,\n",
       "             55044,      38685,      25919,      20340,      14772,\n",
       "              9940,       7710,       6501,       2895,       2271,\n",
       "              1455,        788,        832,        566,        278,\n",
       "               271,        205,        323,        345,        182,\n",
       "                54,          9,         27,         42,         18,\n",
       "                12,         27,         72,         18,         30,\n",
       "                75,         75,         87]),\n",
       " array([   0.        ,   19.25408936,   38.50817871,   57.76226807,\n",
       "          77.01635742,   96.27044678,  115.52453613,  134.77862549,\n",
       "         154.03271484,  173.2868042 ,  192.54089355,  211.79498291,\n",
       "         231.04907227,  250.30316162,  269.55725098,  288.81134033,\n",
       "         308.06542969,  327.31951904,  346.5736084 ,  365.82769775,\n",
       "         385.08178711,  404.33587646,  423.58996582,  442.84405518,\n",
       "         462.09814453,  481.35223389,  500.60632324,  519.8604126 ,\n",
       "         539.11450195,  558.36859131,  577.62268066,  596.87677002,\n",
       "         616.13085938,  635.38494873,  654.63903809,  673.89312744,\n",
       "         693.1472168 ,  712.40130615,  731.65539551,  750.90948486,\n",
       "         770.16357422,  789.41766357,  808.67175293,  827.92584229,\n",
       "         847.17993164,  866.434021  ,  885.68811035,  904.94219971,\n",
       "         924.19628906]))"
      ]
     },
     "execution_count": 37,
     "metadata": {},
     "output_type": "execute_result"
    }
   ],
   "source": [
    "np.histogram(flat_raw_histone_mark_day0, 'doane')"
   ]
  },
  {
   "cell_type": "code",
   "execution_count": 39,
   "metadata": {},
   "outputs": [],
   "source": [
    "p_values = np.apply_along_axis(get_p_value, 0, flat_raw_histone_mark_day0)"
   ]
  },
  {
   "cell_type": "code",
   "execution_count": 45,
   "metadata": {},
   "outputs": [
    {
     "name": "stdout",
     "output_type": "stream",
     "text": [
      "1069171226\n",
      "Example of p-value conversion: (0.32517999, 0.4729552)\n"
     ]
    }
   ],
   "source": [
    "print len(p_values)\n",
    "print \"Example of p-value conversion: {}\".format((flat_raw_histone_mark_day0[0], p_values[0]))"
   ]
  },
  {
   "cell_type": "code",
   "execution_count": 47,
   "metadata": {},
   "outputs": [
    {
     "data": {
      "text/plain": [
       "(array([221718547,  22087441,  15994155,  12439573,  16529637,  11118300,\n",
       "         14535539,   9267788,  10278773,   9017429,  16699134,   7373506,\n",
       "          9638256,   9322189,   8940102,   7956695,   7998555,   8796868,\n",
       "          7603308,   7752037,  15474577,   7293074,   7726024,   8694034,\n",
       "          7302021,   7248372,  20007651,   8529777,  10370662,   8119210,\n",
       "          8558740,  11015728,  42473828,  14596375,  15962777,  10654563,\n",
       "         37526864,  23772403,  17630807,  51128657,  36157016,  42371980,\n",
       "        221488254]),\n",
       " array([ 0.        ,  0.02325581,  0.04651163,  0.06976744,  0.09302326,\n",
       "         0.11627907,  0.13953488,  0.1627907 ,  0.18604651,  0.20930233,\n",
       "         0.23255814,  0.25581395,  0.27906977,  0.30232558,  0.3255814 ,\n",
       "         0.34883721,  0.37209302,  0.39534884,  0.41860465,  0.44186047,\n",
       "         0.46511628,  0.48837209,  0.51162791,  0.53488372,  0.55813953,\n",
       "         0.58139535,  0.60465116,  0.62790698,  0.65116279,  0.6744186 ,\n",
       "         0.69767442,  0.72093023,  0.74418605,  0.76744186,  0.79069767,\n",
       "         0.81395349,  0.8372093 ,  0.86046512,  0.88372093,  0.90697674,\n",
       "         0.93023256,  0.95348837,  0.97674419,  1.        ]))"
      ]
     },
     "execution_count": 47,
     "metadata": {},
     "output_type": "execute_result"
    }
   ],
   "source": [
    "np.histogram(p_values, 'doane')"
   ]
  },
  {
   "cell_type": "code",
   "execution_count": 48,
   "metadata": {},
   "outputs": [
    {
     "data": {
      "text/plain": [
       "(array([171530481,  10262746,   7162277,   5034456,   3998929,   3841133,\n",
       "          2954927,   2931419,   3560968,   2664672,   2356054,   2165945,\n",
       "          1976866,   1854194,   1849482,   1445860,   3112039,   1622602,\n",
       "          1774777,   1248864,   1672756,   1478340,    881709,   1824219,\n",
       "          1735543,    738610,   1139980,   1386068,    945754,   1247230,\n",
       "           650620,   3386036,    954237,   1732481,    517566,   1344129,\n",
       "           995155,    582338,   1620956,    857651,    702912,    756289,\n",
       "           819162,   1220791,   1261257,    367884,   1801932,    343399,\n",
       "           442485,    618521,   1394062,    446976,    482738,   2154076,\n",
       "           425205,   6644470,    873583,    823307,    614312,    618502,\n",
       "          1001201,   1208723,    921037,    285864,    252534,   1409321,\n",
       "          1310235,    355275,    805608,    318895,   1558496,   1709658,\n",
       "           609636,    887977,    429206,   1020879,    383146,    957318,\n",
       "           315563,    308823,   1077712,    740951,    878224,    750076,\n",
       "           306359,    390290,    867062,    373346,    973189,    616727,\n",
       "          1241255,   6318855,    625079,    266389,    517188,    542918,\n",
       "           525566,    715128,   1530306,    431732,    440952,   1045922,\n",
       "          1554458,    369181,    764602,    402330,    389649,    374806,\n",
       "           564838,    252238,    603342,    860392,    331989,   1127824,\n",
       "           810868,   2999141,    418212,    467733,    405807,    548407,\n",
       "           390092,    674148,    249012,    643382,    313048,    455068,\n",
       "           229972,    951466,    861578,    540988,   2598016,    301975,\n",
       "           181015,    584407,    437433,    804245,    423983,    362488,\n",
       "           643708,    408178,    335552,   1161751,   7022574,   1020354,\n",
       "           774465,   1071230,    223489,   1398493,    238179,   1226534,\n",
       "           837493,    217302,    607361,    719918,    349328,    232611,\n",
       "           509693,   1261416,    411138,    388195,    287494,    835240,\n",
       "           353735,   1006909,    353548,    854113,   2173954,    225885,\n",
       "           353440,   1193741,   1587397,    324146,    352351,    466346,\n",
       "          1144344,    265495,    227978,    190714,   1141788,    972129,\n",
       "           342533,    351620,    570267,   1389286,    438960,    314186,\n",
       "           347835,    734019,   1591489,    589474,    406910,    247462,\n",
       "           498243,    462292,    505474,    452265,    186682,    715179,\n",
       "           307356,   1170805,    976144,    391771,    248095,    495718,\n",
       "           439327,   2143486,    733823,    756388,    282259,    197692,\n",
       "           755301,    281878,   1557839,   1103012,    234932,    390827,\n",
       "           685407,    328408,    193790,    786608,    513601,   1290896,\n",
       "           244554,    529798,    368750,    202944,    662119,    295357,\n",
       "           498302,   1263605,    626148,    221838,    851168,    468836,\n",
       "           177490,   1412020,    214972,    422631,    317200,    335477,\n",
       "           745378,    424953,    203546,    700830,    222514,   2737030,\n",
       "           461093,    173359,    370160,    941979,    164910,    493994,\n",
       "           575375,    433144,    743600,    335633,   1558015,    301307,\n",
       "           160288,   1151657,    208397,    183999,    470731,    880274,\n",
       "           590543,    460996,    374243,    277280,    243850,    167665,\n",
       "           153948,   1361453,    433533,   1542452,   1097122,    408296,\n",
       "           219946,    142834,     94165,    147712,    141648,    140700,\n",
       "           140518,   1580338,   8168146,   3369254,    191178,    197471,\n",
       "           179819,    188205,    277546,    355109,    855441,    726336,\n",
       "           470833,    589550,    180253,    197678,   1087198,   1534670,\n",
       "           380721,    337161,    824787,    535911,    254032,    561256,\n",
       "           245862,    563256,    257353,    241076,   1001368,    583611,\n",
       "          1646670,    562690,    205523,    325286,    365364,   1441463,\n",
       "           224562,    352750,   1058198,    284602,    473693,    459785,\n",
       "          2222753,    286468,    270660,    775118,    352141,    571846,\n",
       "           197042,    402463,    232226,    504751,    184756,   1068106,\n",
       "           468991,    204224,    786082,    164193,    497748,   1851326,\n",
       "           182450,    559823,    237175,    952781,    154809,    486221,\n",
       "           256135,    679349,    361656,    260985,   1737858,    304402,\n",
       "           609877,    193531,    473253,    519121,    208671,    691320,\n",
       "           242561,   2071870,   1671182,    173151,    150531,  12534669,\n",
       "           246034,    327288,    458913,    503934,   1077628,    730267,\n",
       "           355157,    527805,    512393,    339182,    431857,    220143,\n",
       "          1029901,    489025,   1950095,    508610,    207627,    273466,\n",
       "           496250,    640263,    738371,    303800,   1284306,   1010011,\n",
       "           275963,    232832,    358303,    405178,    331521,   1673507,\n",
       "          2002620,    798055,    651120,    195096,    431063,    489072,\n",
       "          1499787,    882607,    540138,    511547,    605118,    206706,\n",
       "           697241,    882921,    239248,    203224,    744049,    171179,\n",
       "           722358,    631557,   2010740,    387725,    295824,    262048,\n",
       "           389229,    269301,   1539707,    647476,    368238,    455610,\n",
       "           337276,   2185819,    249640,    411505,    269340,    167932,\n",
       "           859631,   1155408,   1768209,    243635,    244987,    659365,\n",
       "          2031414,    385837,    512700,  32787774,    675908,    409132,\n",
       "           618214,    360419,    674357,   1773364,   1333750,    682906,\n",
       "           337898,   1696019,    669061,    322431,    578749,   1915023,\n",
       "           979069,   1033558,    547387,   1203705,    472827,    590172,\n",
       "           396075,    721588,   1791355,   3221479,    831406,   1972845,\n",
       "           546759,   1742219,    701896,   1086194,   1272374,    491875,\n",
       "          1682345,    296619,    587205,   1870664,    747091,   1325127,\n",
       "          1533432,    531656,   1062759,   1022014,    725944,    639502,\n",
       "          1147678,    511144,    934069,    637177,    445152,    812395,\n",
       "           439150,   1468835,   3462094,   3765823,    515548,    899828,\n",
       "          1826062,   1756810,    498702,   1830713,   1379794,  17890722,\n",
       "           815670,   1511489,    794065,    726220,   1309762,    742356,\n",
       "          1378854,    834142,    631277,    956958,    923191,    667852,\n",
       "          1376295,   4477196,   5664846,   2522969,   1119340,   1668582,\n",
       "           900309,    868145,   1221730,   1469510,    640611,    915983,\n",
       "           945109,    975764,   1279739,    970377,    841174,   3225663,\n",
       "          2720296,   2452137,   4261629,    777453,   1873331,   2346974,\n",
       "           709955,   1645591,    989282,    773603,    682486,   3357090,\n",
       "          1449516,  27193382,   2779412,   2825544,   1311108,   5044641,\n",
       "          1211342,   2761924,   2069026,   2277594,   4036981,   1921057,\n",
       "          1989710,   2096532,   2607325,   4998857,   1681588,   2451579,\n",
       "          3671851,   1718225,   4143245,   1735236,   3206759,   4618285,\n",
       "          1944683,   3319484,   2287213,   2813698,   4200913,   4900056,\n",
       "          2084914,   3915423,   2993591,   3881845,   3955753,   4081081,\n",
       "          3924071,   4463647,  22348956,   6582964,   9195330,   8944441,\n",
       "         39211673, 106430499]),\n",
       " array([ 0.        ,  0.00169492,  0.00338983,  0.00508475,  0.00677966,\n",
       "         0.00847458,  0.01016949,  0.01186441,  0.01355932,  0.01525424,\n",
       "         0.01694915,  0.01864407,  0.02033898,  0.0220339 ,  0.02372881,\n",
       "         0.02542373,  0.02711864,  0.02881356,  0.03050847,  0.03220339,\n",
       "         0.03389831,  0.03559322,  0.03728814,  0.03898305,  0.04067797,\n",
       "         0.04237288,  0.0440678 ,  0.04576271,  0.04745763,  0.04915254,\n",
       "         0.05084746,  0.05254237,  0.05423729,  0.0559322 ,  0.05762712,\n",
       "         0.05932203,  0.06101695,  0.06271186,  0.06440678,  0.06610169,\n",
       "         0.06779661,  0.06949153,  0.07118644,  0.07288136,  0.07457627,\n",
       "         0.07627119,  0.0779661 ,  0.07966102,  0.08135593,  0.08305085,\n",
       "         0.08474576,  0.08644068,  0.08813559,  0.08983051,  0.09152542,\n",
       "         0.09322034,  0.09491525,  0.09661017,  0.09830508,  0.1       ,\n",
       "         0.10169492,  0.10338983,  0.10508475,  0.10677966,  0.10847458,\n",
       "         0.11016949,  0.11186441,  0.11355932,  0.11525424,  0.11694915,\n",
       "         0.11864407,  0.12033898,  0.1220339 ,  0.12372881,  0.12542373,\n",
       "         0.12711864,  0.12881356,  0.13050847,  0.13220339,  0.13389831,\n",
       "         0.13559322,  0.13728814,  0.13898305,  0.14067797,  0.14237288,\n",
       "         0.1440678 ,  0.14576271,  0.14745763,  0.14915254,  0.15084746,\n",
       "         0.15254237,  0.15423729,  0.1559322 ,  0.15762712,  0.15932203,\n",
       "         0.16101695,  0.16271186,  0.16440678,  0.16610169,  0.16779661,\n",
       "         0.16949153,  0.17118644,  0.17288136,  0.17457627,  0.17627119,\n",
       "         0.1779661 ,  0.17966102,  0.18135593,  0.18305085,  0.18474576,\n",
       "         0.18644068,  0.18813559,  0.18983051,  0.19152542,  0.19322034,\n",
       "         0.19491525,  0.19661017,  0.19830508,  0.2       ,  0.20169492,\n",
       "         0.20338983,  0.20508475,  0.20677966,  0.20847458,  0.21016949,\n",
       "         0.21186441,  0.21355932,  0.21525424,  0.21694915,  0.21864407,\n",
       "         0.22033898,  0.2220339 ,  0.22372881,  0.22542373,  0.22711864,\n",
       "         0.22881356,  0.23050847,  0.23220339,  0.23389831,  0.23559322,\n",
       "         0.23728814,  0.23898305,  0.24067797,  0.24237288,  0.2440678 ,\n",
       "         0.24576271,  0.24745763,  0.24915254,  0.25084746,  0.25254237,\n",
       "         0.25423729,  0.2559322 ,  0.25762712,  0.25932203,  0.26101695,\n",
       "         0.26271186,  0.26440678,  0.26610169,  0.26779661,  0.26949153,\n",
       "         0.27118644,  0.27288136,  0.27457627,  0.27627119,  0.2779661 ,\n",
       "         0.27966102,  0.28135593,  0.28305085,  0.28474576,  0.28644068,\n",
       "         0.28813559,  0.28983051,  0.29152542,  0.29322034,  0.29491525,\n",
       "         0.29661017,  0.29830508,  0.3       ,  0.30169492,  0.30338983,\n",
       "         0.30508475,  0.30677966,  0.30847458,  0.31016949,  0.31186441,\n",
       "         0.31355932,  0.31525424,  0.31694915,  0.31864407,  0.32033898,\n",
       "         0.3220339 ,  0.32372881,  0.32542373,  0.32711864,  0.32881356,\n",
       "         0.33050847,  0.33220339,  0.33389831,  0.33559322,  0.33728814,\n",
       "         0.33898305,  0.34067797,  0.34237288,  0.3440678 ,  0.34576271,\n",
       "         0.34745763,  0.34915254,  0.35084746,  0.35254237,  0.35423729,\n",
       "         0.3559322 ,  0.35762712,  0.35932203,  0.36101695,  0.36271186,\n",
       "         0.36440678,  0.36610169,  0.36779661,  0.36949153,  0.37118644,\n",
       "         0.37288136,  0.37457627,  0.37627119,  0.3779661 ,  0.37966102,\n",
       "         0.38135593,  0.38305085,  0.38474576,  0.38644068,  0.38813559,\n",
       "         0.38983051,  0.39152542,  0.39322034,  0.39491525,  0.39661017,\n",
       "         0.39830508,  0.4       ,  0.40169492,  0.40338983,  0.40508475,\n",
       "         0.40677966,  0.40847458,  0.41016949,  0.41186441,  0.41355932,\n",
       "         0.41525424,  0.41694915,  0.41864407,  0.42033898,  0.4220339 ,\n",
       "         0.42372881,  0.42542373,  0.42711864,  0.42881356,  0.43050847,\n",
       "         0.43220339,  0.43389831,  0.43559322,  0.43728814,  0.43898305,\n",
       "         0.44067797,  0.44237288,  0.4440678 ,  0.44576271,  0.44745763,\n",
       "         0.44915254,  0.45084746,  0.45254237,  0.45423729,  0.4559322 ,\n",
       "         0.45762712,  0.45932203,  0.46101695,  0.46271186,  0.46440678,\n",
       "         0.46610169,  0.46779661,  0.46949153,  0.47118644,  0.47288136,\n",
       "         0.47457627,  0.47627119,  0.4779661 ,  0.47966102,  0.48135593,\n",
       "         0.48305085,  0.48474576,  0.48644068,  0.48813559,  0.48983051,\n",
       "         0.49152542,  0.49322034,  0.49491525,  0.49661017,  0.49830508,\n",
       "         0.5       ,  0.50169492,  0.50338983,  0.50508475,  0.50677966,\n",
       "         0.50847458,  0.51016949,  0.51186441,  0.51355932,  0.51525424,\n",
       "         0.51694915,  0.51864407,  0.52033898,  0.5220339 ,  0.52372881,\n",
       "         0.52542373,  0.52711864,  0.52881356,  0.53050847,  0.53220339,\n",
       "         0.53389831,  0.53559322,  0.53728814,  0.53898305,  0.54067797,\n",
       "         0.54237288,  0.5440678 ,  0.54576271,  0.54745763,  0.54915254,\n",
       "         0.55084746,  0.55254237,  0.55423729,  0.5559322 ,  0.55762712,\n",
       "         0.55932203,  0.56101695,  0.56271186,  0.56440678,  0.56610169,\n",
       "         0.56779661,  0.56949153,  0.57118644,  0.57288136,  0.57457627,\n",
       "         0.57627119,  0.5779661 ,  0.57966102,  0.58135593,  0.58305085,\n",
       "         0.58474576,  0.58644068,  0.58813559,  0.58983051,  0.59152542,\n",
       "         0.59322034,  0.59491525,  0.59661017,  0.59830508,  0.6       ,\n",
       "         0.60169492,  0.60338983,  0.60508475,  0.60677966,  0.60847458,\n",
       "         0.61016949,  0.61186441,  0.61355932,  0.61525424,  0.61694915,\n",
       "         0.61864407,  0.62033898,  0.6220339 ,  0.62372881,  0.62542373,\n",
       "         0.62711864,  0.62881356,  0.63050847,  0.63220339,  0.63389831,\n",
       "         0.63559322,  0.63728814,  0.63898305,  0.64067797,  0.64237288,\n",
       "         0.6440678 ,  0.64576271,  0.64745763,  0.64915254,  0.65084746,\n",
       "         0.65254237,  0.65423729,  0.6559322 ,  0.65762712,  0.65932203,\n",
       "         0.66101695,  0.66271186,  0.66440678,  0.66610169,  0.66779661,\n",
       "         0.66949153,  0.67118644,  0.67288136,  0.67457627,  0.67627119,\n",
       "         0.6779661 ,  0.67966102,  0.68135593,  0.68305085,  0.68474576,\n",
       "         0.68644068,  0.68813559,  0.68983051,  0.69152542,  0.69322034,\n",
       "         0.69491525,  0.69661017,  0.69830508,  0.7       ,  0.70169492,\n",
       "         0.70338983,  0.70508475,  0.70677966,  0.70847458,  0.71016949,\n",
       "         0.71186441,  0.71355932,  0.71525424,  0.71694915,  0.71864407,\n",
       "         0.72033898,  0.7220339 ,  0.72372881,  0.72542373,  0.72711864,\n",
       "         0.72881356,  0.73050847,  0.73220339,  0.73389831,  0.73559322,\n",
       "         0.73728814,  0.73898305,  0.74067797,  0.74237288,  0.7440678 ,\n",
       "         0.74576271,  0.74745763,  0.74915254,  0.75084746,  0.75254237,\n",
       "         0.75423729,  0.7559322 ,  0.75762712,  0.75932203,  0.76101695,\n",
       "         0.76271186,  0.76440678,  0.76610169,  0.76779661,  0.76949153,\n",
       "         0.77118644,  0.77288136,  0.77457627,  0.77627119,  0.7779661 ,\n",
       "         0.77966102,  0.78135593,  0.78305085,  0.78474576,  0.78644068,\n",
       "         0.78813559,  0.78983051,  0.79152542,  0.79322034,  0.79491525,\n",
       "         0.79661017,  0.79830508,  0.8       ,  0.80169492,  0.80338983,\n",
       "         0.80508475,  0.80677966,  0.80847458,  0.81016949,  0.81186441,\n",
       "         0.81355932,  0.81525424,  0.81694915,  0.81864407,  0.82033898,\n",
       "         0.8220339 ,  0.82372881,  0.82542373,  0.82711864,  0.82881356,\n",
       "         0.83050847,  0.83220339,  0.83389831,  0.83559322,  0.83728814,\n",
       "         0.83898305,  0.84067797,  0.84237288,  0.8440678 ,  0.84576271,\n",
       "         0.84745763,  0.84915254,  0.85084746,  0.85254237,  0.85423729,\n",
       "         0.8559322 ,  0.85762712,  0.85932203,  0.86101695,  0.86271186,\n",
       "         0.86440678,  0.86610169,  0.86779661,  0.86949153,  0.87118644,\n",
       "         0.87288136,  0.87457627,  0.87627119,  0.8779661 ,  0.87966102,\n",
       "         0.88135593,  0.88305085,  0.88474576,  0.88644068,  0.88813559,\n",
       "         0.88983051,  0.89152542,  0.89322034,  0.89491525,  0.89661017,\n",
       "         0.89830508,  0.9       ,  0.90169492,  0.90338983,  0.90508475,\n",
       "         0.90677966,  0.90847458,  0.91016949,  0.91186441,  0.91355932,\n",
       "         0.91525424,  0.91694915,  0.91864407,  0.92033898,  0.9220339 ,\n",
       "         0.92372881,  0.92542373,  0.92711864,  0.92881356,  0.93050847,\n",
       "         0.93220339,  0.93389831,  0.93559322,  0.93728814,  0.93898305,\n",
       "         0.94067797,  0.94237288,  0.9440678 ,  0.94576271,  0.94745763,\n",
       "         0.94915254,  0.95084746,  0.95254237,  0.95423729,  0.9559322 ,\n",
       "         0.95762712,  0.95932203,  0.96101695,  0.96271186,  0.96440678,\n",
       "         0.96610169,  0.96779661,  0.96949153,  0.97118644,  0.97288136,\n",
       "         0.97457627,  0.97627119,  0.9779661 ,  0.97966102,  0.98135593,\n",
       "         0.98305085,  0.98474576,  0.98644068,  0.98813559,  0.98983051,\n",
       "         0.99152542,  0.99322034,  0.99491525,  0.99661017,  0.99830508,  1.        ]))"
      ]
     },
     "execution_count": 48,
     "metadata": {},
     "output_type": "execute_result"
    }
   ],
   "source": [
    "np.histogram(p_values, 'auto')"
   ]
  },
  {
   "cell_type": "code",
   "execution_count": 59,
   "metadata": {},
   "outputs": [
    {
     "data": {
      "image/png": "[encoded data removed]",
      "text/plain": [
       "<matplotlib.figure.Figure at 0x7f88130f9a50>"
      ]
     },
     "metadata": {},
     "output_type": "display_data"
    }
   ],
   "source": [
    "plt.hist(p_values, bins=10)# arguments are passed to np.histogram\n",
    "plt.title(\"Histogram of p-values with 10 bins\")\n",
    "plt.show()"
   ]
  },
  {
   "cell_type": "code",
   "execution_count": 63,
   "metadata": {},
   "outputs": [],
   "source": [
    "count, bins = np.histogram(p_values, 10)"
   ]
  },
  {
   "cell_type": "code",
   "execution_count": 68,
   "metadata": {},
   "outputs": [
    {
     "name": "stdout",
     "output_type": "stream",
     "text": [
      "Find a set of balanced classes...\n",
      "[281233430  50134726  45021608  36537099  40631026  33990867  49058979\n",
      "  82307229  91348267 358907995]\n",
      "331368156 378895075 358907995\n",
      "[ 0.   0.1  0.2  0.3  0.4  0.5  0.6  0.7  0.8  0.9  1. ]\n"
     ]
    }
   ],
   "source": [
    "print \"Find a set of balanced classes...\"\n",
    "print count\n",
    "print np.sum(count[:2]), np.sum(count[2:-1]), np.sum(count[-1:])\n",
    "print bins"
   ]
  },
  {
   "cell_type": "code",
   "execution_count": 74,
   "metadata": {},
   "outputs": [
    {
     "name": "stdout",
     "output_type": "stream",
     "text": [
      "[331368156 378895075 358907995]\n",
      "[ 0.   0.2  0.9  1. ]\n"
     ]
    }
   ],
   "source": [
    "'''\n",
    "bin 0: [0, 0.2]\n",
    "bin 1: [0.2, 0.8]\n",
    "bin 2: [0.9, 1.0]\n",
    "'''\n",
    "new_count, new_bins = np.histogram(p_values, bins=[0.0, 0.2, 0.9, 1.0])\n",
    "print new_count\n",
    "print new_bins"
   ]
  },
  {
   "cell_type": "code",
   "execution_count": 86,
   "metadata": {},
   "outputs": [
    {
     "name": "stdout",
     "output_type": "stream",
     "text": [
      "[\"['0.0', '0.2']\", \"['0.2', '0.9']\", \"['0.9', '1.0']\"]\n"
     ]
    }
   ],
   "source": [
    "bar_bins = [str([str(new_bins[i])[:4], str(new_bins[i+1])[:4]]) for i in range(len(new_bins)-1)]\n",
    "print bar_bins"
   ]
  },
  {
   "cell_type": "code",
   "execution_count": 87,
   "metadata": {},
   "outputs": [
    {
     "data": {
      "image/png": "[encoded data removed]",
      "text/plain": [
       "<matplotlib.figure.Figure at 0x7f87f8e7c390>"
      ]
     },
     "metadata": {},
     "output_type": "display_data"
    }
   ],
   "source": [
    "labels = ['Bin1', 'Bin2', 'Bin3']\n",
    "plt.bar(bar_bins, new_count, width=0.8, label=labels)\n",
    "plt.title(\"Histogram of p-values with 3 balanced bins\")\n",
    "plt.show()"
   ]
  }
 ],
 "metadata": {
  "kernelspec": {
   "display_name": "Python 2",
   "language": "python",
   "name": "python2"
  },
  "language_info": {
   "codemirror_mode": {
    "name": "ipython",
    "version": 2
   },
   "file_extension": ".py",
   "mimetype": "text/x-python",
   "name": "python",
   "nbconvert_exporter": "python",
   "pygments_lexer": "ipython2",
   "version": "2.7.13"
  }
 },
 "nbformat": 4,
 "nbformat_minor": 2
}
